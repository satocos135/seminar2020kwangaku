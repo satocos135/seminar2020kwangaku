{
 "cells": [
  {
   "cell_type": "markdown",
   "metadata": {},
   "source": [
    "# データ前処理\n"
   ]
  },
  {
   "cell_type": "markdown",
   "metadata": {},
   "source": [
    "## RMecabの基礎\n",
    "\n",
    "+ MeCab: 形態素解析エンジン\n",
    "+ RMeCab: MeCabをR上で使うためのパッケージ\n"
   ]
  },
  {
   "cell_type": "code",
   "execution_count": 1,
   "metadata": {
    "ExecuteTime": {
     "end_time": "2019-07-08T02:41:21.727256Z",
     "start_time": "2019-07-08T02:41:19.568Z"
    }
   },
   "outputs": [
    {
     "name": "stderr",
     "output_type": "stream",
     "text": [
      "\n",
      "Attaching package: 'dplyr'\n",
      "\n",
      "\n",
      "The following objects are masked from 'package:stats':\n",
      "\n",
      "    filter, lag\n",
      "\n",
      "\n",
      "The following objects are masked from 'package:base':\n",
      "\n",
      "    intersect, setdiff, setequal, union\n",
      "\n",
      "\n"
     ]
    }
   ],
   "source": [
    "library('RMeCab')\n",
    "library('dplyr')"
   ]
  },
  {
   "cell_type": "code",
   "execution_count": 2,
   "metadata": {
    "ExecuteTime": {
     "end_time": "2019-07-08T02:41:21.836962Z",
     "start_time": "2019-07-08T02:41:19.592Z"
    }
   },
   "outputs": [
    {
     "data": {
      "text/html": [
       "<ol>\n",
       "\t<li><strong>名詞:</strong> '今日'</li>\n",
       "\t<li><strong>助詞:</strong> 'は'</li>\n",
       "\t<li><strong>名詞:</strong> '本'</li>\n",
       "\t<li><strong>助詞:</strong> 'を'</li>\n",
       "\t<li><strong>動詞:</strong> '読ん'</li>\n",
       "\t<li><strong>助動詞:</strong> 'だ'</li>\n",
       "</ol>\n"
      ],
      "text/latex": [
       "\\begin{enumerate}\n",
       "\\item \\textbf{名詞:} '今日'\n",
       "\\item \\textbf{助詞:} 'は'\n",
       "\\item \\textbf{名詞:} '本'\n",
       "\\item \\textbf{助詞:} 'を'\n",
       "\\item \\textbf{動詞:} '読ん'\n",
       "\\item \\textbf{助動詞:} 'だ'\n",
       "\\end{enumerate}\n"
      ],
      "text/markdown": [
       "1. **名詞:** '今日'\n",
       "2. **助詞:** 'は'\n",
       "3. **名詞:** '本'\n",
       "4. **助詞:** 'を'\n",
       "5. **動詞:** '読ん'\n",
       "6. **助動詞:** 'だ'\n",
       "\n",
       "\n"
      ],
      "text/plain": [
       "[[1]]\n",
       "  名詞 \n",
       "\"今日\" \n",
       "\n",
       "[[2]]\n",
       "助詞 \n",
       "\"は\" \n",
       "\n",
       "[[3]]\n",
       "名詞 \n",
       "\"本\" \n",
       "\n",
       "[[4]]\n",
       "助詞 \n",
       "\"を\" \n",
       "\n",
       "[[5]]\n",
       "  動詞 \n",
       "\"読ん\" \n",
       "\n",
       "[[6]]\n",
       "助動詞 \n",
       "  \"だ\" \n"
      ]
     },
     "metadata": {},
     "output_type": "display_data"
    }
   ],
   "source": [
    "# リスト形式で結果が返される\n",
    "RMeCabC('今日は本を読んだ') "
   ]
  },
  {
   "cell_type": "code",
   "execution_count": 3,
   "metadata": {},
   "outputs": [
    {
     "data": {
      "text/html": [
       "<style>\n",
       ".dl-inline {width: auto; margin:0; padding: 0}\n",
       ".dl-inline>dt, .dl-inline>dd {float: none; width: auto; display: inline-block}\n",
       ".dl-inline>dt::after {content: \":\\0020\"; padding-right: .5ex}\n",
       ".dl-inline>dt:not(:first-of-type) {padding-left: .5ex}\n",
       "</style><dl class=dl-inline><dt>名詞</dt><dd>'今日'</dd><dt>助詞</dt><dd>'は'</dd><dt>名詞</dt><dd>'本'</dd><dt>助詞</dt><dd>'を'</dd><dt>動詞</dt><dd>'読ん'</dd><dt>助動詞</dt><dd>'だ'</dd></dl>\n"
      ],
      "text/latex": [
       "\\begin{description*}\n",
       "\\item[名詞] '今日'\n",
       "\\item[助詞] 'は'\n",
       "\\item[名詞] '本'\n",
       "\\item[助詞] 'を'\n",
       "\\item[動詞] '読ん'\n",
       "\\item[助動詞] 'だ'\n",
       "\\end{description*}\n"
      ],
      "text/markdown": [
       "名詞\n",
       ":   '今日'助詞\n",
       ":   'は'名詞\n",
       ":   '本'助詞\n",
       ":   'を'動詞\n",
       ":   '読ん'助動詞\n",
       ":   'だ'\n",
       "\n"
      ],
      "text/plain": [
       "  名詞   助詞   名詞   助詞   動詞 助動詞 \n",
       "\"今日\"   \"は\"   \"本\"   \"を\" \"読ん\"   \"だ\" "
      ]
     },
     "metadata": {},
     "output_type": "display_data"
    }
   ],
   "source": [
    "# unlist()を使うとベクトルに変換できる\n",
    "RMeCabC('今日は本を読んだ') %>% unlist() "
   ]
  },
  {
   "cell_type": "code",
   "execution_count": 4,
   "metadata": {
    "ExecuteTime": {
     "end_time": "2019-07-08T02:41:21.884834Z",
     "start_time": "2019-07-08T02:41:19.606Z"
    }
   },
   "outputs": [],
   "source": [
    "test = RMeCabC('今日は本を読んだ') %>% unlist()"
   ]
  },
  {
   "cell_type": "code",
   "execution_count": 5,
   "metadata": {},
   "outputs": [
    {
     "data": {
      "text/html": [
       "<style>\n",
       ".list-inline {list-style: none; margin:0; padding: 0}\n",
       ".list-inline>li {display: inline-block}\n",
       ".list-inline>li:not(:last-child)::after {content: \"\\00b7\"; padding: 0 .5ex}\n",
       "</style>\n",
       "<ol class=list-inline><li>'名詞'</li><li>'助詞'</li><li>'名詞'</li><li>'助詞'</li><li>'動詞'</li><li>'助動詞'</li></ol>\n"
      ],
      "text/latex": [
       "\\begin{enumerate*}\n",
       "\\item '名詞'\n",
       "\\item '助詞'\n",
       "\\item '名詞'\n",
       "\\item '助詞'\n",
       "\\item '動詞'\n",
       "\\item '助動詞'\n",
       "\\end{enumerate*}\n"
      ],
      "text/markdown": [
       "1. '名詞'\n",
       "2. '助詞'\n",
       "3. '名詞'\n",
       "4. '助詞'\n",
       "5. '動詞'\n",
       "6. '助動詞'\n",
       "\n",
       "\n"
      ],
      "text/plain": [
       "[1] \"名詞\"   \"助詞\"   \"名詞\"   \"助詞\"   \"動詞\"   \"助動詞\""
      ]
     },
     "metadata": {},
     "output_type": "display_data"
    }
   ],
   "source": [
    "# names()を使うとラベルを抜き出せる\n",
    "names(test)"
   ]
  },
  {
   "cell_type": "code",
   "execution_count": 6,
   "metadata": {
    "ExecuteTime": {
     "end_time": "2019-07-08T02:41:21.935699Z",
     "start_time": "2019-07-08T02:41:19.617Z"
    }
   },
   "outputs": [
    {
     "data": {
      "text/html": [
       "<style>\n",
       ".dl-inline {width: auto; margin:0; padding: 0}\n",
       ".dl-inline>dt, .dl-inline>dd {float: none; width: auto; display: inline-block}\n",
       ".dl-inline>dt::after {content: \":\\0020\"; padding-right: .5ex}\n",
       ".dl-inline>dt:not(:first-of-type) {padding-left: .5ex}\n",
       "</style><dl class=dl-inline><dt>名詞</dt><dd>'今日'</dd><dt>名詞</dt><dd>'本'</dd><dt>動詞</dt><dd>'読ん'</dd></dl>\n"
      ],
      "text/latex": [
       "\\begin{description*}\n",
       "\\item[名詞] '今日'\n",
       "\\item[名詞] '本'\n",
       "\\item[動詞] '読ん'\n",
       "\\end{description*}\n"
      ],
      "text/markdown": [
       "名詞\n",
       ":   '今日'名詞\n",
       ":   '本'動詞\n",
       ":   '読ん'\n",
       "\n"
      ],
      "text/plain": [
       "  名詞   名詞   動詞 \n",
       "\"今日\"   \"本\" \"読ん\" "
      ]
     },
     "metadata": {},
     "output_type": "display_data"
    }
   ],
   "source": [
    "# 結果から名詞と動詞を抜き出す\n",
    "# =ラベルが「名詞」または「動詞」であるもの\n",
    "test[names(test) %in% c('名詞', '動詞')] "
   ]
  },
  {
   "cell_type": "code",
   "execution_count": 7,
   "metadata": {},
   "outputs": [
    {
     "data": {
      "text/html": [
       "<style>\n",
       ".list-inline {list-style: none; margin:0; padding: 0}\n",
       ".list-inline>li {display: inline-block}\n",
       ".list-inline>li:not(:last-child)::after {content: \"\\00b7\"; padding: 0 .5ex}\n",
       "</style>\n",
       "<ol class=list-inline><li>TRUE</li><li>FALSE</li><li>TRUE</li><li>FALSE</li><li>TRUE</li><li>FALSE</li></ol>\n"
      ],
      "text/latex": [
       "\\begin{enumerate*}\n",
       "\\item TRUE\n",
       "\\item FALSE\n",
       "\\item TRUE\n",
       "\\item FALSE\n",
       "\\item TRUE\n",
       "\\item FALSE\n",
       "\\end{enumerate*}\n"
      ],
      "text/markdown": [
       "1. TRUE\n",
       "2. FALSE\n",
       "3. TRUE\n",
       "4. FALSE\n",
       "5. TRUE\n",
       "6. FALSE\n",
       "\n",
       "\n"
      ],
      "text/plain": [
       "[1]  TRUE FALSE  TRUE FALSE  TRUE FALSE"
      ]
     },
     "metadata": {},
     "output_type": "display_data"
    }
   ],
   "source": [
    "names(test) %in% c('名詞', '動詞') "
   ]
  },
  {
   "cell_type": "code",
   "execution_count": 8,
   "metadata": {
    "ExecuteTime": {
     "end_time": "2019-07-08T02:41:21.980577Z",
     "start_time": "2019-07-08T02:41:19.626Z"
    }
   },
   "outputs": [
    {
     "data": {
      "text/html": [
       "<ol>\n",
       "\t<li><strong>名詞:</strong> '今日'</li>\n",
       "\t<li><strong>助詞:</strong> 'は'</li>\n",
       "\t<li><strong>名詞:</strong> '本'</li>\n",
       "\t<li><strong>助詞:</strong> 'を'</li>\n",
       "\t<li><strong>動詞:</strong> '読む'</li>\n",
       "\t<li><strong>助動詞:</strong> 'だ'</li>\n",
       "</ol>\n"
      ],
      "text/latex": [
       "\\begin{enumerate}\n",
       "\\item \\textbf{名詞:} '今日'\n",
       "\\item \\textbf{助詞:} 'は'\n",
       "\\item \\textbf{名詞:} '本'\n",
       "\\item \\textbf{助詞:} 'を'\n",
       "\\item \\textbf{動詞:} '読む'\n",
       "\\item \\textbf{助動詞:} 'だ'\n",
       "\\end{enumerate}\n"
      ],
      "text/markdown": [
       "1. **名詞:** '今日'\n",
       "2. **助詞:** 'は'\n",
       "3. **名詞:** '本'\n",
       "4. **助詞:** 'を'\n",
       "5. **動詞:** '読む'\n",
       "6. **助動詞:** 'だ'\n",
       "\n",
       "\n"
      ],
      "text/plain": [
       "[[1]]\n",
       "  名詞 \n",
       "\"今日\" \n",
       "\n",
       "[[2]]\n",
       "助詞 \n",
       "\"は\" \n",
       "\n",
       "[[3]]\n",
       "名詞 \n",
       "\"本\" \n",
       "\n",
       "[[4]]\n",
       "助詞 \n",
       "\"を\" \n",
       "\n",
       "[[5]]\n",
       "  動詞 \n",
       "\"読む\" \n",
       "\n",
       "[[6]]\n",
       "助動詞 \n",
       "  \"だ\" \n"
      ]
     },
     "metadata": {},
     "output_type": "display_data"
    }
   ],
   "source": [
    "# 第二引数に1を入力すると、動詞の原形になる\n",
    "\n",
    "RMeCabC('今日は本を読んだ', 1) "
   ]
  },
  {
   "cell_type": "markdown",
   "metadata": {},
   "source": [
    "## クリーニングの実際\n",
    "\n",
    "例文：\n",
    "\n",
    "「やまいり？やまはいって木を丸める？」\n",
    "\n",
    "**「切ってきて、丸めて、家の屋根にしげておくん。それはてんかごめんけどどこのやまいってきってきてもよいということになっちょった。」**\n"
   ]
  },
  {
   "cell_type": "code",
   "execution_count": 9,
   "metadata": {
    "ExecuteTime": {
     "end_time": "2019-07-08T02:41:22.156109Z",
     "start_time": "2019-07-08T02:41:19.851Z"
    }
   },
   "outputs": [],
   "source": [
    "text = '切ってきて、丸めて、家の屋根にしげておくん。それはてんかごめんけどどこのやまいってきってきてもよいということになっちょった。'"
   ]
  },
  {
   "cell_type": "code",
   "execution_count": 10,
   "metadata": {
    "ExecuteTime": {
     "end_time": "2019-07-08T02:41:22.261826Z",
     "start_time": "2019-07-08T02:41:19.868Z"
    }
   },
   "outputs": [
    {
     "data": {
      "text/html": [
       "<ol>\n",
       "\t<li><strong>動詞:</strong> '切っ'</li>\n",
       "\t<li><strong>助詞:</strong> 'て'</li>\n",
       "\t<li><strong>動詞:</strong> 'き'</li>\n",
       "\t<li><strong>助詞:</strong> 'て'</li>\n",
       "\t<li><strong>記号:</strong> '、'</li>\n",
       "\t<li><strong>動詞:</strong> '丸め'</li>\n",
       "\t<li><strong>助詞:</strong> 'て'</li>\n",
       "\t<li><strong>記号:</strong> '、'</li>\n",
       "\t<li><strong>名詞:</strong> '家'</li>\n",
       "\t<li><strong>助詞:</strong> 'の'</li>\n",
       "\t<li><strong>名詞:</strong> '屋根'</li>\n",
       "\t<li><strong>助詞:</strong> 'に'</li>\n",
       "\t<li><strong>形容詞:</strong> 'しげ'</li>\n",
       "\t<li><strong>助詞:</strong> 'て'</li>\n",
       "\t<li><strong>動詞:</strong> 'おく'</li>\n",
       "\t<li><strong>助動詞:</strong> 'ん'</li>\n",
       "\t<li><strong>記号:</strong> '。'</li>\n",
       "\t<li><strong>名詞:</strong> 'それ'</li>\n",
       "\t<li><strong>助詞:</strong> 'は'</li>\n",
       "\t<li><strong>名詞:</strong> 'てんか'</li>\n",
       "\t<li><strong>感動詞:</strong> 'ごめん'</li>\n",
       "\t<li><strong>接続詞:</strong> 'けど'</li>\n",
       "\t<li><strong>名詞:</strong> 'どこ'</li>\n",
       "\t<li><strong>助詞:</strong> 'の'</li>\n",
       "\t<li><strong>助詞:</strong> 'や'</li>\n",
       "\t<li><strong>動詞:</strong> 'まいっ'</li>\n",
       "\t<li><strong>助詞:</strong> 'て'</li>\n",
       "\t<li><strong>動詞:</strong> 'きっ'</li>\n",
       "\t<li><strong>助詞:</strong> 'て'</li>\n",
       "\t<li><strong>動詞:</strong> 'き'</li>\n",
       "\t<li><strong>助詞:</strong> 'て'</li>\n",
       "\t<li><strong>助詞:</strong> 'も'</li>\n",
       "\t<li><strong>形容詞:</strong> 'よい'</li>\n",
       "\t<li><strong>助詞:</strong> 'という'</li>\n",
       "\t<li><strong>名詞:</strong> 'こと'</li>\n",
       "\t<li><strong>助詞:</strong> 'に'</li>\n",
       "\t<li><strong>動詞:</strong> 'なっ'</li>\n",
       "\t<li><strong>名詞:</strong> 'ちょ'</li>\n",
       "\t<li><strong>動詞:</strong> 'っ'</li>\n",
       "\t<li><strong>助動詞:</strong> 'た'</li>\n",
       "\t<li><strong>記号:</strong> '。'</li>\n",
       "</ol>\n"
      ],
      "text/latex": [
       "\\begin{enumerate}\n",
       "\\item \\textbf{動詞:} '切っ'\n",
       "\\item \\textbf{助詞:} 'て'\n",
       "\\item \\textbf{動詞:} 'き'\n",
       "\\item \\textbf{助詞:} 'て'\n",
       "\\item \\textbf{記号:} '、'\n",
       "\\item \\textbf{動詞:} '丸め'\n",
       "\\item \\textbf{助詞:} 'て'\n",
       "\\item \\textbf{記号:} '、'\n",
       "\\item \\textbf{名詞:} '家'\n",
       "\\item \\textbf{助詞:} 'の'\n",
       "\\item \\textbf{名詞:} '屋根'\n",
       "\\item \\textbf{助詞:} 'に'\n",
       "\\item \\textbf{形容詞:} 'しげ'\n",
       "\\item \\textbf{助詞:} 'て'\n",
       "\\item \\textbf{動詞:} 'おく'\n",
       "\\item \\textbf{助動詞:} 'ん'\n",
       "\\item \\textbf{記号:} '。'\n",
       "\\item \\textbf{名詞:} 'それ'\n",
       "\\item \\textbf{助詞:} 'は'\n",
       "\\item \\textbf{名詞:} 'てんか'\n",
       "\\item \\textbf{感動詞:} 'ごめん'\n",
       "\\item \\textbf{接続詞:} 'けど'\n",
       "\\item \\textbf{名詞:} 'どこ'\n",
       "\\item \\textbf{助詞:} 'の'\n",
       "\\item \\textbf{助詞:} 'や'\n",
       "\\item \\textbf{動詞:} 'まいっ'\n",
       "\\item \\textbf{助詞:} 'て'\n",
       "\\item \\textbf{動詞:} 'きっ'\n",
       "\\item \\textbf{助詞:} 'て'\n",
       "\\item \\textbf{動詞:} 'き'\n",
       "\\item \\textbf{助詞:} 'て'\n",
       "\\item \\textbf{助詞:} 'も'\n",
       "\\item \\textbf{形容詞:} 'よい'\n",
       "\\item \\textbf{助詞:} 'という'\n",
       "\\item \\textbf{名詞:} 'こと'\n",
       "\\item \\textbf{助詞:} 'に'\n",
       "\\item \\textbf{動詞:} 'なっ'\n",
       "\\item \\textbf{名詞:} 'ちょ'\n",
       "\\item \\textbf{動詞:} 'っ'\n",
       "\\item \\textbf{助動詞:} 'た'\n",
       "\\item \\textbf{記号:} '。'\n",
       "\\end{enumerate}\n"
      ],
      "text/markdown": [
       "1. **動詞:** '切っ'\n",
       "2. **助詞:** 'て'\n",
       "3. **動詞:** 'き'\n",
       "4. **助詞:** 'て'\n",
       "5. **記号:** '、'\n",
       "6. **動詞:** '丸め'\n",
       "7. **助詞:** 'て'\n",
       "8. **記号:** '、'\n",
       "9. **名詞:** '家'\n",
       "10. **助詞:** 'の'\n",
       "11. **名詞:** '屋根'\n",
       "12. **助詞:** 'に'\n",
       "13. **形容詞:** 'しげ'\n",
       "14. **助詞:** 'て'\n",
       "15. **動詞:** 'おく'\n",
       "16. **助動詞:** 'ん'\n",
       "17. **記号:** '。'\n",
       "18. **名詞:** 'それ'\n",
       "19. **助詞:** 'は'\n",
       "20. **名詞:** 'てんか'\n",
       "21. **感動詞:** 'ごめん'\n",
       "22. **接続詞:** 'けど'\n",
       "23. **名詞:** 'どこ'\n",
       "24. **助詞:** 'の'\n",
       "25. **助詞:** 'や'\n",
       "26. **動詞:** 'まいっ'\n",
       "27. **助詞:** 'て'\n",
       "28. **動詞:** 'きっ'\n",
       "29. **助詞:** 'て'\n",
       "30. **動詞:** 'き'\n",
       "31. **助詞:** 'て'\n",
       "32. **助詞:** 'も'\n",
       "33. **形容詞:** 'よい'\n",
       "34. **助詞:** 'という'\n",
       "35. **名詞:** 'こと'\n",
       "36. **助詞:** 'に'\n",
       "37. **動詞:** 'なっ'\n",
       "38. **名詞:** 'ちょ'\n",
       "39. **動詞:** 'っ'\n",
       "40. **助動詞:** 'た'\n",
       "41. **記号:** '。'\n",
       "\n",
       "\n"
      ],
      "text/plain": [
       "[[1]]\n",
       "  動詞 \n",
       "\"切っ\" \n",
       "\n",
       "[[2]]\n",
       "助詞 \n",
       "\"て\" \n",
       "\n",
       "[[3]]\n",
       "動詞 \n",
       "\"き\" \n",
       "\n",
       "[[4]]\n",
       "助詞 \n",
       "\"て\" \n",
       "\n",
       "[[5]]\n",
       "記号 \n",
       "\"、\" \n",
       "\n",
       "[[6]]\n",
       "  動詞 \n",
       "\"丸め\" \n",
       "\n",
       "[[7]]\n",
       "助詞 \n",
       "\"て\" \n",
       "\n",
       "[[8]]\n",
       "記号 \n",
       "\"、\" \n",
       "\n",
       "[[9]]\n",
       "名詞 \n",
       "\"家\" \n",
       "\n",
       "[[10]]\n",
       "助詞 \n",
       "\"の\" \n",
       "\n",
       "[[11]]\n",
       "  名詞 \n",
       "\"屋根\" \n",
       "\n",
       "[[12]]\n",
       "助詞 \n",
       "\"に\" \n",
       "\n",
       "[[13]]\n",
       "形容詞 \n",
       "\"しげ\" \n",
       "\n",
       "[[14]]\n",
       "助詞 \n",
       "\"て\" \n",
       "\n",
       "[[15]]\n",
       "  動詞 \n",
       "\"おく\" \n",
       "\n",
       "[[16]]\n",
       "助動詞 \n",
       "  \"ん\" \n",
       "\n",
       "[[17]]\n",
       "記号 \n",
       "\"。\" \n",
       "\n",
       "[[18]]\n",
       "  名詞 \n",
       "\"それ\" \n",
       "\n",
       "[[19]]\n",
       "助詞 \n",
       "\"は\" \n",
       "\n",
       "[[20]]\n",
       "    名詞 \n",
       "\"てんか\" \n",
       "\n",
       "[[21]]\n",
       "  感動詞 \n",
       "\"ごめん\" \n",
       "\n",
       "[[22]]\n",
       "接続詞 \n",
       "\"けど\" \n",
       "\n",
       "[[23]]\n",
       "  名詞 \n",
       "\"どこ\" \n",
       "\n",
       "[[24]]\n",
       "助詞 \n",
       "\"の\" \n",
       "\n",
       "[[25]]\n",
       "助詞 \n",
       "\"や\" \n",
       "\n",
       "[[26]]\n",
       "    動詞 \n",
       "\"まいっ\" \n",
       "\n",
       "[[27]]\n",
       "助詞 \n",
       "\"て\" \n",
       "\n",
       "[[28]]\n",
       "  動詞 \n",
       "\"きっ\" \n",
       "\n",
       "[[29]]\n",
       "助詞 \n",
       "\"て\" \n",
       "\n",
       "[[30]]\n",
       "動詞 \n",
       "\"き\" \n",
       "\n",
       "[[31]]\n",
       "助詞 \n",
       "\"て\" \n",
       "\n",
       "[[32]]\n",
       "助詞 \n",
       "\"も\" \n",
       "\n",
       "[[33]]\n",
       "形容詞 \n",
       "\"よい\" \n",
       "\n",
       "[[34]]\n",
       "    助詞 \n",
       "\"という\" \n",
       "\n",
       "[[35]]\n",
       "  名詞 \n",
       "\"こと\" \n",
       "\n",
       "[[36]]\n",
       "助詞 \n",
       "\"に\" \n",
       "\n",
       "[[37]]\n",
       "  動詞 \n",
       "\"なっ\" \n",
       "\n",
       "[[38]]\n",
       "  名詞 \n",
       "\"ちょ\" \n",
       "\n",
       "[[39]]\n",
       "動詞 \n",
       "\"っ\" \n",
       "\n",
       "[[40]]\n",
       "助動詞 \n",
       "  \"た\" \n",
       "\n",
       "[[41]]\n",
       "記号 \n",
       "\"。\" \n"
      ]
     },
     "metadata": {},
     "output_type": "display_data"
    }
   ],
   "source": [
    "RMeCabC(text)"
   ]
  },
  {
   "cell_type": "markdown",
   "metadata": {},
   "source": [
    "表現を変える\n",
    "\n",
    "'切ってきて、丸めて、家の屋根にしげておくん。それはてんかごめんけどどこのやまいってきってきてもよいということになっちょった。'\n",
    "\n",
    "'切ってきて、丸めて、家の屋根に す げておくん。それは 天下御免 けどどこの山 に行って切ってきてもよいということになっていた。'"
   ]
  },
  {
   "cell_type": "code",
   "execution_count": 12,
   "metadata": {
    "ExecuteTime": {
     "end_time": "2019-07-08T02:41:22.399458Z",
     "start_time": "2019-07-08T02:41:20.034Z"
    }
   },
   "outputs": [],
   "source": [
    "text = '切ってきて、丸めて、家の屋根にすげておくん。それは天下御免でどこの山に行って切ってきてもよいということになっていた。'"
   ]
  },
  {
   "cell_type": "code",
   "execution_count": 13,
   "metadata": {
    "ExecuteTime": {
     "end_time": "2019-07-08T02:41:22.491213Z",
     "start_time": "2019-07-08T02:41:20.041Z"
    }
   },
   "outputs": [
    {
     "data": {
      "text/html": [
       "<ol>\n",
       "\t<li><strong>動詞:</strong> '切っ'</li>\n",
       "\t<li><strong>助詞:</strong> 'て'</li>\n",
       "\t<li><strong>動詞:</strong> 'き'</li>\n",
       "\t<li><strong>助詞:</strong> 'て'</li>\n",
       "\t<li><strong>記号:</strong> '、'</li>\n",
       "\t<li><strong>動詞:</strong> '丸め'</li>\n",
       "\t<li><strong>助詞:</strong> 'て'</li>\n",
       "\t<li><strong>記号:</strong> '、'</li>\n",
       "\t<li><strong>名詞:</strong> '家'</li>\n",
       "\t<li><strong>助詞:</strong> 'の'</li>\n",
       "\t<li><strong>名詞:</strong> '屋根'</li>\n",
       "\t<li><strong>助詞:</strong> 'に'</li>\n",
       "\t<li><strong>動詞:</strong> 'すげ'</li>\n",
       "\t<li><strong>助詞:</strong> 'て'</li>\n",
       "\t<li><strong>動詞:</strong> 'おく'</li>\n",
       "\t<li><strong>助動詞:</strong> 'ん'</li>\n",
       "\t<li><strong>記号:</strong> '。'</li>\n",
       "\t<li><strong>名詞:</strong> 'それ'</li>\n",
       "\t<li><strong>助詞:</strong> 'は'</li>\n",
       "\t<li><strong>名詞:</strong> '天下'</li>\n",
       "\t<li><strong>名詞:</strong> '御免'</li>\n",
       "\t<li><strong>助詞:</strong> 'で'</li>\n",
       "\t<li><strong>名詞:</strong> 'どこ'</li>\n",
       "\t<li><strong>助詞:</strong> 'の'</li>\n",
       "\t<li><strong>名詞:</strong> '山'</li>\n",
       "\t<li><strong>助詞:</strong> 'に'</li>\n",
       "\t<li><strong>動詞:</strong> '行っ'</li>\n",
       "\t<li><strong>助詞:</strong> 'て'</li>\n",
       "\t<li><strong>動詞:</strong> '切っ'</li>\n",
       "\t<li><strong>助詞:</strong> 'て'</li>\n",
       "\t<li><strong>動詞:</strong> 'き'</li>\n",
       "\t<li><strong>助詞:</strong> 'て'</li>\n",
       "\t<li><strong>助詞:</strong> 'も'</li>\n",
       "\t<li><strong>形容詞:</strong> 'よい'</li>\n",
       "\t<li><strong>助詞:</strong> 'という'</li>\n",
       "\t<li><strong>名詞:</strong> 'こと'</li>\n",
       "\t<li><strong>助詞:</strong> 'に'</li>\n",
       "\t<li><strong>動詞:</strong> 'なっ'</li>\n",
       "\t<li><strong>助詞:</strong> 'て'</li>\n",
       "\t<li><strong>動詞:</strong> 'い'</li>\n",
       "\t<li><strong>助動詞:</strong> 'た'</li>\n",
       "\t<li><strong>記号:</strong> '。'</li>\n",
       "</ol>\n"
      ],
      "text/latex": [
       "\\begin{enumerate}\n",
       "\\item \\textbf{動詞:} '切っ'\n",
       "\\item \\textbf{助詞:} 'て'\n",
       "\\item \\textbf{動詞:} 'き'\n",
       "\\item \\textbf{助詞:} 'て'\n",
       "\\item \\textbf{記号:} '、'\n",
       "\\item \\textbf{動詞:} '丸め'\n",
       "\\item \\textbf{助詞:} 'て'\n",
       "\\item \\textbf{記号:} '、'\n",
       "\\item \\textbf{名詞:} '家'\n",
       "\\item \\textbf{助詞:} 'の'\n",
       "\\item \\textbf{名詞:} '屋根'\n",
       "\\item \\textbf{助詞:} 'に'\n",
       "\\item \\textbf{動詞:} 'すげ'\n",
       "\\item \\textbf{助詞:} 'て'\n",
       "\\item \\textbf{動詞:} 'おく'\n",
       "\\item \\textbf{助動詞:} 'ん'\n",
       "\\item \\textbf{記号:} '。'\n",
       "\\item \\textbf{名詞:} 'それ'\n",
       "\\item \\textbf{助詞:} 'は'\n",
       "\\item \\textbf{名詞:} '天下'\n",
       "\\item \\textbf{名詞:} '御免'\n",
       "\\item \\textbf{助詞:} 'で'\n",
       "\\item \\textbf{名詞:} 'どこ'\n",
       "\\item \\textbf{助詞:} 'の'\n",
       "\\item \\textbf{名詞:} '山'\n",
       "\\item \\textbf{助詞:} 'に'\n",
       "\\item \\textbf{動詞:} '行っ'\n",
       "\\item \\textbf{助詞:} 'て'\n",
       "\\item \\textbf{動詞:} '切っ'\n",
       "\\item \\textbf{助詞:} 'て'\n",
       "\\item \\textbf{動詞:} 'き'\n",
       "\\item \\textbf{助詞:} 'て'\n",
       "\\item \\textbf{助詞:} 'も'\n",
       "\\item \\textbf{形容詞:} 'よい'\n",
       "\\item \\textbf{助詞:} 'という'\n",
       "\\item \\textbf{名詞:} 'こと'\n",
       "\\item \\textbf{助詞:} 'に'\n",
       "\\item \\textbf{動詞:} 'なっ'\n",
       "\\item \\textbf{助詞:} 'て'\n",
       "\\item \\textbf{動詞:} 'い'\n",
       "\\item \\textbf{助動詞:} 'た'\n",
       "\\item \\textbf{記号:} '。'\n",
       "\\end{enumerate}\n"
      ],
      "text/markdown": [
       "1. **動詞:** '切っ'\n",
       "2. **助詞:** 'て'\n",
       "3. **動詞:** 'き'\n",
       "4. **助詞:** 'て'\n",
       "5. **記号:** '、'\n",
       "6. **動詞:** '丸め'\n",
       "7. **助詞:** 'て'\n",
       "8. **記号:** '、'\n",
       "9. **名詞:** '家'\n",
       "10. **助詞:** 'の'\n",
       "11. **名詞:** '屋根'\n",
       "12. **助詞:** 'に'\n",
       "13. **動詞:** 'すげ'\n",
       "14. **助詞:** 'て'\n",
       "15. **動詞:** 'おく'\n",
       "16. **助動詞:** 'ん'\n",
       "17. **記号:** '。'\n",
       "18. **名詞:** 'それ'\n",
       "19. **助詞:** 'は'\n",
       "20. **名詞:** '天下'\n",
       "21. **名詞:** '御免'\n",
       "22. **助詞:** 'で'\n",
       "23. **名詞:** 'どこ'\n",
       "24. **助詞:** 'の'\n",
       "25. **名詞:** '山'\n",
       "26. **助詞:** 'に'\n",
       "27. **動詞:** '行っ'\n",
       "28. **助詞:** 'て'\n",
       "29. **動詞:** '切っ'\n",
       "30. **助詞:** 'て'\n",
       "31. **動詞:** 'き'\n",
       "32. **助詞:** 'て'\n",
       "33. **助詞:** 'も'\n",
       "34. **形容詞:** 'よい'\n",
       "35. **助詞:** 'という'\n",
       "36. **名詞:** 'こと'\n",
       "37. **助詞:** 'に'\n",
       "38. **動詞:** 'なっ'\n",
       "39. **助詞:** 'て'\n",
       "40. **動詞:** 'い'\n",
       "41. **助動詞:** 'た'\n",
       "42. **記号:** '。'\n",
       "\n",
       "\n"
      ],
      "text/plain": [
       "[[1]]\n",
       "  動詞 \n",
       "\"切っ\" \n",
       "\n",
       "[[2]]\n",
       "助詞 \n",
       "\"て\" \n",
       "\n",
       "[[3]]\n",
       "動詞 \n",
       "\"き\" \n",
       "\n",
       "[[4]]\n",
       "助詞 \n",
       "\"て\" \n",
       "\n",
       "[[5]]\n",
       "記号 \n",
       "\"、\" \n",
       "\n",
       "[[6]]\n",
       "  動詞 \n",
       "\"丸め\" \n",
       "\n",
       "[[7]]\n",
       "助詞 \n",
       "\"て\" \n",
       "\n",
       "[[8]]\n",
       "記号 \n",
       "\"、\" \n",
       "\n",
       "[[9]]\n",
       "名詞 \n",
       "\"家\" \n",
       "\n",
       "[[10]]\n",
       "助詞 \n",
       "\"の\" \n",
       "\n",
       "[[11]]\n",
       "  名詞 \n",
       "\"屋根\" \n",
       "\n",
       "[[12]]\n",
       "助詞 \n",
       "\"に\" \n",
       "\n",
       "[[13]]\n",
       "  動詞 \n",
       "\"すげ\" \n",
       "\n",
       "[[14]]\n",
       "助詞 \n",
       "\"て\" \n",
       "\n",
       "[[15]]\n",
       "  動詞 \n",
       "\"おく\" \n",
       "\n",
       "[[16]]\n",
       "助動詞 \n",
       "  \"ん\" \n",
       "\n",
       "[[17]]\n",
       "記号 \n",
       "\"。\" \n",
       "\n",
       "[[18]]\n",
       "  名詞 \n",
       "\"それ\" \n",
       "\n",
       "[[19]]\n",
       "助詞 \n",
       "\"は\" \n",
       "\n",
       "[[20]]\n",
       "  名詞 \n",
       "\"天下\" \n",
       "\n",
       "[[21]]\n",
       "  名詞 \n",
       "\"御免\" \n",
       "\n",
       "[[22]]\n",
       "助詞 \n",
       "\"で\" \n",
       "\n",
       "[[23]]\n",
       "  名詞 \n",
       "\"どこ\" \n",
       "\n",
       "[[24]]\n",
       "助詞 \n",
       "\"の\" \n",
       "\n",
       "[[25]]\n",
       "名詞 \n",
       "\"山\" \n",
       "\n",
       "[[26]]\n",
       "助詞 \n",
       "\"に\" \n",
       "\n",
       "[[27]]\n",
       "  動詞 \n",
       "\"行っ\" \n",
       "\n",
       "[[28]]\n",
       "助詞 \n",
       "\"て\" \n",
       "\n",
       "[[29]]\n",
       "  動詞 \n",
       "\"切っ\" \n",
       "\n",
       "[[30]]\n",
       "助詞 \n",
       "\"て\" \n",
       "\n",
       "[[31]]\n",
       "動詞 \n",
       "\"き\" \n",
       "\n",
       "[[32]]\n",
       "助詞 \n",
       "\"て\" \n",
       "\n",
       "[[33]]\n",
       "助詞 \n",
       "\"も\" \n",
       "\n",
       "[[34]]\n",
       "形容詞 \n",
       "\"よい\" \n",
       "\n",
       "[[35]]\n",
       "    助詞 \n",
       "\"という\" \n",
       "\n",
       "[[36]]\n",
       "  名詞 \n",
       "\"こと\" \n",
       "\n",
       "[[37]]\n",
       "助詞 \n",
       "\"に\" \n",
       "\n",
       "[[38]]\n",
       "  動詞 \n",
       "\"なっ\" \n",
       "\n",
       "[[39]]\n",
       "助詞 \n",
       "\"て\" \n",
       "\n",
       "[[40]]\n",
       "動詞 \n",
       "\"い\" \n",
       "\n",
       "[[41]]\n",
       "助動詞 \n",
       "  \"た\" \n",
       "\n",
       "[[42]]\n",
       "記号 \n",
       "\"。\" \n"
      ]
     },
     "metadata": {},
     "output_type": "display_data"
    }
   ],
   "source": [
    "RMeCabC(text)"
   ]
  },
  {
   "cell_type": "code",
   "execution_count": 14,
   "metadata": {},
   "outputs": [
    {
     "data": {
      "text/html": [
       "<ol>\n",
       "\t<li><strong>副詞:</strong> 'まあ'</li>\n",
       "\t<li><strong>連体詞:</strong> 'そういう'</li>\n",
       "\t<li><strong>名詞:</strong> 'こと'</li>\n",
       "\t<li><strong>助動詞:</strong> 'で'</li>\n",
       "\t<li><strong>記号:</strong> '、'</li>\n",
       "\t<li><strong>名詞:</strong> '余分'</li>\n",
       "\t<li><strong>助動詞:</strong> 'な'</li>\n",
       "\t<li><strong>名詞:</strong> '話'</li>\n",
       "\t<li><strong>助詞:</strong> 'は'</li>\n",
       "\t<li><strong>形容詞:</strong> 'いい'</li>\n",
       "\t<li><strong>助詞:</strong> 'け'</li>\n",
       "\t<li><strong>助詞:</strong> 'ん'</li>\n",
       "\t<li><strong>記号:</strong> '。'</li>\n",
       "</ol>\n"
      ],
      "text/latex": [
       "\\begin{enumerate}\n",
       "\\item \\textbf{副詞:} 'まあ'\n",
       "\\item \\textbf{連体詞:} 'そういう'\n",
       "\\item \\textbf{名詞:} 'こと'\n",
       "\\item \\textbf{助動詞:} 'で'\n",
       "\\item \\textbf{記号:} '、'\n",
       "\\item \\textbf{名詞:} '余分'\n",
       "\\item \\textbf{助動詞:} 'な'\n",
       "\\item \\textbf{名詞:} '話'\n",
       "\\item \\textbf{助詞:} 'は'\n",
       "\\item \\textbf{形容詞:} 'いい'\n",
       "\\item \\textbf{助詞:} 'け'\n",
       "\\item \\textbf{助詞:} 'ん'\n",
       "\\item \\textbf{記号:} '。'\n",
       "\\end{enumerate}\n"
      ],
      "text/markdown": [
       "1. **副詞:** 'まあ'\n",
       "2. **連体詞:** 'そういう'\n",
       "3. **名詞:** 'こと'\n",
       "4. **助動詞:** 'で'\n",
       "5. **記号:** '、'\n",
       "6. **名詞:** '余分'\n",
       "7. **助動詞:** 'な'\n",
       "8. **名詞:** '話'\n",
       "9. **助詞:** 'は'\n",
       "10. **形容詞:** 'いい'\n",
       "11. **助詞:** 'け'\n",
       "12. **助詞:** 'ん'\n",
       "13. **記号:** '。'\n",
       "\n",
       "\n"
      ],
      "text/plain": [
       "[[1]]\n",
       "  副詞 \n",
       "\"まあ\" \n",
       "\n",
       "[[2]]\n",
       "    連体詞 \n",
       "\"そういう\" \n",
       "\n",
       "[[3]]\n",
       "  名詞 \n",
       "\"こと\" \n",
       "\n",
       "[[4]]\n",
       "助動詞 \n",
       "  \"で\" \n",
       "\n",
       "[[5]]\n",
       "記号 \n",
       "\"、\" \n",
       "\n",
       "[[6]]\n",
       "  名詞 \n",
       "\"余分\" \n",
       "\n",
       "[[7]]\n",
       "助動詞 \n",
       "  \"な\" \n",
       "\n",
       "[[8]]\n",
       "名詞 \n",
       "\"話\" \n",
       "\n",
       "[[9]]\n",
       "助詞 \n",
       "\"は\" \n",
       "\n",
       "[[10]]\n",
       "形容詞 \n",
       "\"いい\" \n",
       "\n",
       "[[11]]\n",
       "助詞 \n",
       "\"け\" \n",
       "\n",
       "[[12]]\n",
       "助詞 \n",
       "\"ん\" \n",
       "\n",
       "[[13]]\n",
       "記号 \n",
       "\"。\" \n"
      ]
     },
     "metadata": {},
     "output_type": "display_data"
    }
   ],
   "source": [
    "# 辞書登録前\n",
    "RMeCabC('まあそういうことで、余分な話はいいけん。')"
   ]
  },
  {
   "cell_type": "code",
   "execution_count": 20,
   "metadata": {},
   "outputs": [],
   "source": [
    "#getwd()"
   ]
  },
  {
   "cell_type": "code",
   "execution_count": 15,
   "metadata": {},
   "outputs": [
    {
     "data": {
      "text/html": [
       "<ol>\n",
       "\t<li><strong>副詞:</strong> 'まあ'</li>\n",
       "\t<li><strong>連体詞:</strong> 'そういう'</li>\n",
       "\t<li><strong>名詞:</strong> 'こと'</li>\n",
       "\t<li><strong>助動詞:</strong> 'で'</li>\n",
       "\t<li><strong>記号:</strong> '、'</li>\n",
       "\t<li><strong>名詞:</strong> '余分'</li>\n",
       "\t<li><strong>助動詞:</strong> 'な'</li>\n",
       "\t<li><strong>名詞:</strong> '話'</li>\n",
       "\t<li><strong>助詞:</strong> 'は'</li>\n",
       "\t<li><strong>形容詞:</strong> 'いい'</li>\n",
       "\t<li><strong>助詞:</strong> 'けん'</li>\n",
       "\t<li><strong>記号:</strong> '。'</li>\n",
       "</ol>\n"
      ],
      "text/latex": [
       "\\begin{enumerate}\n",
       "\\item \\textbf{副詞:} 'まあ'\n",
       "\\item \\textbf{連体詞:} 'そういう'\n",
       "\\item \\textbf{名詞:} 'こと'\n",
       "\\item \\textbf{助動詞:} 'で'\n",
       "\\item \\textbf{記号:} '、'\n",
       "\\item \\textbf{名詞:} '余分'\n",
       "\\item \\textbf{助動詞:} 'な'\n",
       "\\item \\textbf{名詞:} '話'\n",
       "\\item \\textbf{助詞:} 'は'\n",
       "\\item \\textbf{形容詞:} 'いい'\n",
       "\\item \\textbf{助詞:} 'けん'\n",
       "\\item \\textbf{記号:} '。'\n",
       "\\end{enumerate}\n"
      ],
      "text/markdown": [
       "1. **副詞:** 'まあ'\n",
       "2. **連体詞:** 'そういう'\n",
       "3. **名詞:** 'こと'\n",
       "4. **助動詞:** 'で'\n",
       "5. **記号:** '、'\n",
       "6. **名詞:** '余分'\n",
       "7. **助動詞:** 'な'\n",
       "8. **名詞:** '話'\n",
       "9. **助詞:** 'は'\n",
       "10. **形容詞:** 'いい'\n",
       "11. **助詞:** 'けん'\n",
       "12. **記号:** '。'\n",
       "\n",
       "\n"
      ],
      "text/plain": [
       "[[1]]\n",
       "  副詞 \n",
       "\"まあ\" \n",
       "\n",
       "[[2]]\n",
       "    連体詞 \n",
       "\"そういう\" \n",
       "\n",
       "[[3]]\n",
       "  名詞 \n",
       "\"こと\" \n",
       "\n",
       "[[4]]\n",
       "助動詞 \n",
       "  \"で\" \n",
       "\n",
       "[[5]]\n",
       "記号 \n",
       "\"、\" \n",
       "\n",
       "[[6]]\n",
       "  名詞 \n",
       "\"余分\" \n",
       "\n",
       "[[7]]\n",
       "助動詞 \n",
       "  \"な\" \n",
       "\n",
       "[[8]]\n",
       "名詞 \n",
       "\"話\" \n",
       "\n",
       "[[9]]\n",
       "助詞 \n",
       "\"は\" \n",
       "\n",
       "[[10]]\n",
       "形容詞 \n",
       "\"いい\" \n",
       "\n",
       "[[11]]\n",
       "  助詞 \n",
       "\"けん\" \n",
       "\n",
       "[[12]]\n",
       "記号 \n",
       "\"。\" \n"
      ]
     },
     "metadata": {},
     "output_type": "display_data"
    }
   ],
   "source": [
    "# 辞書登録後\n",
    "RMeCabC('まあそういうことで、余分な話はいいけん。', dic='dict/example.dic')"
   ]
  },
  {
   "cell_type": "code",
   "execution_count": 16,
   "metadata": {},
   "outputs": [
    {
     "data": {
      "text/html": [
       "<ol>\n",
       "\t<li><strong>名詞:</strong> 'そこ'</li>\n",
       "\t<li><strong>助詞:</strong> 'に'</li>\n",
       "\t<li><strong>動詞:</strong> '来'</li>\n",
       "\t<li><strong>名詞:</strong> 'ちょ'</li>\n",
       "\t<li><strong>助動詞:</strong> 'る'</li>\n",
       "\t<li><strong>記号:</strong> '。'</li>\n",
       "</ol>\n"
      ],
      "text/latex": [
       "\\begin{enumerate}\n",
       "\\item \\textbf{名詞:} 'そこ'\n",
       "\\item \\textbf{助詞:} 'に'\n",
       "\\item \\textbf{動詞:} '来'\n",
       "\\item \\textbf{名詞:} 'ちょ'\n",
       "\\item \\textbf{助動詞:} 'る'\n",
       "\\item \\textbf{記号:} '。'\n",
       "\\end{enumerate}\n"
      ],
      "text/markdown": [
       "1. **名詞:** 'そこ'\n",
       "2. **助詞:** 'に'\n",
       "3. **動詞:** '来'\n",
       "4. **名詞:** 'ちょ'\n",
       "5. **助動詞:** 'る'\n",
       "6. **記号:** '。'\n",
       "\n",
       "\n"
      ],
      "text/plain": [
       "[[1]]\n",
       "  名詞 \n",
       "\"そこ\" \n",
       "\n",
       "[[2]]\n",
       "助詞 \n",
       "\"に\" \n",
       "\n",
       "[[3]]\n",
       "動詞 \n",
       "\"来\" \n",
       "\n",
       "[[4]]\n",
       "  名詞 \n",
       "\"ちょ\" \n",
       "\n",
       "[[5]]\n",
       "助動詞 \n",
       "  \"る\" \n",
       "\n",
       "[[6]]\n",
       "記号 \n",
       "\"。\" \n"
      ]
     },
     "metadata": {},
     "output_type": "display_data"
    }
   ],
   "source": [
    "# 辞書登録前\n",
    "RMeCabC('そこに来ちょる。')"
   ]
  },
  {
   "cell_type": "code",
   "execution_count": 17,
   "metadata": {},
   "outputs": [
    {
     "data": {
      "text/html": [
       "<ol>\n",
       "\t<li><strong>名詞:</strong> 'そこ'</li>\n",
       "\t<li><strong>助詞:</strong> 'に'</li>\n",
       "\t<li><strong>動詞:</strong> '来'</li>\n",
       "\t<li><strong>動詞:</strong> 'ちょる'</li>\n",
       "\t<li><strong>記号:</strong> '。'</li>\n",
       "</ol>\n"
      ],
      "text/latex": [
       "\\begin{enumerate}\n",
       "\\item \\textbf{名詞:} 'そこ'\n",
       "\\item \\textbf{助詞:} 'に'\n",
       "\\item \\textbf{動詞:} '来'\n",
       "\\item \\textbf{動詞:} 'ちょる'\n",
       "\\item \\textbf{記号:} '。'\n",
       "\\end{enumerate}\n"
      ],
      "text/markdown": [
       "1. **名詞:** 'そこ'\n",
       "2. **助詞:** 'に'\n",
       "3. **動詞:** '来'\n",
       "4. **動詞:** 'ちょる'\n",
       "5. **記号:** '。'\n",
       "\n",
       "\n"
      ],
      "text/plain": [
       "[[1]]\n",
       "  名詞 \n",
       "\"そこ\" \n",
       "\n",
       "[[2]]\n",
       "助詞 \n",
       "\"に\" \n",
       "\n",
       "[[3]]\n",
       "動詞 \n",
       "\"来\" \n",
       "\n",
       "[[4]]\n",
       "    動詞 \n",
       "\"ちょる\" \n",
       "\n",
       "[[5]]\n",
       "記号 \n",
       "\"。\" \n"
      ]
     },
     "metadata": {},
     "output_type": "display_data"
    }
   ],
   "source": [
    "# 辞書登録後\n",
    "RMeCabC('そこに来ちょる。', dic='dict/example.dic')\n"
   ]
  },
  {
   "cell_type": "code",
   "execution_count": 18,
   "metadata": {},
   "outputs": [
    {
     "data": {
      "text/html": [
       "<ol>\n",
       "\t<li><strong>名詞:</strong> 'そこ'</li>\n",
       "\t<li><strong>助詞:</strong> 'に'</li>\n",
       "\t<li><strong>動詞:</strong> '来'</li>\n",
       "\t<li><strong>名詞:</strong> 'ちょ'</li>\n",
       "\t<li><strong>動詞:</strong> 'っ'</li>\n",
       "\t<li><strong>助動詞:</strong> 'た'</li>\n",
       "\t<li><strong>記号:</strong> '。'</li>\n",
       "</ol>\n"
      ],
      "text/latex": [
       "\\begin{enumerate}\n",
       "\\item \\textbf{名詞:} 'そこ'\n",
       "\\item \\textbf{助詞:} 'に'\n",
       "\\item \\textbf{動詞:} '来'\n",
       "\\item \\textbf{名詞:} 'ちょ'\n",
       "\\item \\textbf{動詞:} 'っ'\n",
       "\\item \\textbf{助動詞:} 'た'\n",
       "\\item \\textbf{記号:} '。'\n",
       "\\end{enumerate}\n"
      ],
      "text/markdown": [
       "1. **名詞:** 'そこ'\n",
       "2. **助詞:** 'に'\n",
       "3. **動詞:** '来'\n",
       "4. **名詞:** 'ちょ'\n",
       "5. **動詞:** 'っ'\n",
       "6. **助動詞:** 'た'\n",
       "7. **記号:** '。'\n",
       "\n",
       "\n"
      ],
      "text/plain": [
       "[[1]]\n",
       "  名詞 \n",
       "\"そこ\" \n",
       "\n",
       "[[2]]\n",
       "助詞 \n",
       "\"に\" \n",
       "\n",
       "[[3]]\n",
       "動詞 \n",
       "\"来\" \n",
       "\n",
       "[[4]]\n",
       "  名詞 \n",
       "\"ちょ\" \n",
       "\n",
       "[[5]]\n",
       "動詞 \n",
       "\"っ\" \n",
       "\n",
       "[[6]]\n",
       "助動詞 \n",
       "  \"た\" \n",
       "\n",
       "[[7]]\n",
       "記号 \n",
       "\"。\" \n"
      ]
     },
     "metadata": {},
     "output_type": "display_data"
    }
   ],
   "source": [
    "# 活用語は活用ごとに登録しないといけない\n",
    "RMeCabC('そこに来ちょった。', dic='dict/example.dic')"
   ]
  }
 ],
 "metadata": {
  "hide_input": false,
  "kernelspec": {
   "display_name": "R",
   "language": "R",
   "name": "ir"
  },
  "language_info": {
   "codemirror_mode": "r",
   "file_extension": ".r",
   "mimetype": "text/x-r-source",
   "name": "R",
   "pygments_lexer": "r",
   "version": "4.0.2"
  },
  "latex_envs": {
   "LaTeX_envs_menu_present": true,
   "autoclose": false,
   "autocomplete": true,
   "bibliofile": "biblio.bib",
   "cite_by": "apalike",
   "current_citInitial": 1,
   "eqLabelWithNumbers": true,
   "eqNumInitial": 1,
   "hotkeys": {
    "equation": "Ctrl-E",
    "itemize": "Ctrl-I"
   },
   "labels_anchors": false,
   "latex_user_defs": false,
   "report_style_numbering": false,
   "user_envs_cfg": false
  },
  "toc": {
   "nav_menu": {},
   "number_sections": true,
   "sideBar": true,
   "skip_h1_title": false,
   "title_cell": "Table of Contents",
   "title_sidebar": "Contents",
   "toc_cell": false,
   "toc_position": {},
   "toc_section_display": true,
   "toc_window_display": false
  }
 },
 "nbformat": 4,
 "nbformat_minor": 2
}
