{
 "cells": [
  {
   "cell_type": "markdown",
   "metadata": {},
   "source": [
    "# 分析DEMO② CCLI TOP 100のテキスト分析\n",
    "\n",
    "+ 単語頻度の比較"
   ]
  },
  {
   "cell_type": "code",
   "execution_count": 1,
   "metadata": {},
   "outputs": [
    {
     "name": "stderr",
     "output_type": "stream",
     "text": [
      "\n",
      "Attaching package: 'dplyr'\n",
      "\n",
      "\n",
      "The following objects are masked from 'package:stats':\n",
      "\n",
      "    filter, lag\n",
      "\n",
      "\n",
      "The following objects are masked from 'package:base':\n",
      "\n",
      "    intersect, setdiff, setequal, union\n",
      "\n",
      "\n",
      "Warning message:\n",
      "\"package 'tidytext' was built under R version 4.0.3\"\n",
      "Warning message:\n",
      "\"package 'SnowballC' was built under R version 4.0.3\"\n"
     ]
    }
   ],
   "source": [
    "setwd('C:/Users/satoc/Desktop/2020/関西学院大学レクチャー/')\n",
    "\n",
    "library('dplyr')\n",
    "library('stringr')\n",
    "\n",
    "# install.packages('tidytext')\n",
    "library('tidytext')\n",
    "\n",
    "#install.packages('SnowballC')\n",
    "library('SnowballC')\n"
   ]
  },
  {
   "cell_type": "code",
   "execution_count": 2,
   "metadata": {},
   "outputs": [],
   "source": [
    "df = read.delim('./data/ccli100.tsv', sep='\\t', stringsAsFactors=F, encoding='utf8', header=T)\n"
   ]
  },
  {
   "cell_type": "code",
   "execution_count": 3,
   "metadata": {},
   "outputs": [
    {
     "data": {
      "text/html": [
       "<table>\n",
       "<caption>A data.frame: 1 × 5</caption>\n",
       "<thead>\n",
       "\t<tr><th></th><th scope=col>id</th><th scope=col>title</th><th scope=col>position</th><th scope=col>type</th><th scope=col>lyric</th></tr>\n",
       "\t<tr><th></th><th scope=col>&lt;int&gt;</th><th scope=col>&lt;chr&gt;</th><th scope=col>&lt;int&gt;</th><th scope=col>&lt;chr&gt;</th><th scope=col>&lt;chr&gt;</th></tr>\n",
       "</thead>\n",
       "<tbody>\n",
       "\t<tr><th scope=row>1</th><td>1</td><td>Living Hope</td><td>1</td><td>Verse</td><td>How great the chasm that lay between us\n",
       "How high the mountain I could not climb\n",
       "In desperation I turned to heaven\n",
       "And spoke Your name into the night\n",
       "Then through the darkness Your loving-kindness\n",
       "Tore through the shadows of my soul\n",
       "The work is finished the end is written\n",
       "Jesus Christ my living hope</td></tr>\n",
       "</tbody>\n",
       "</table>\n"
      ],
      "text/latex": [
       "A data.frame: 1 × 5\n",
       "\\begin{tabular}{r|lllll}\n",
       "  & id & title & position & type & lyric\\\\\n",
       "  & <int> & <chr> & <int> & <chr> & <chr>\\\\\n",
       "\\hline\n",
       "\t1 & 1 & Living Hope & 1 & Verse & How great the chasm that lay between us\n",
       "How high the mountain I could not climb\n",
       "In desperation I turned to heaven\n",
       "And spoke Your name into the night\n",
       "Then through the darkness Your loving-kindness\n",
       "Tore through the shadows of my soul\n",
       "The work is finished the end is written\n",
       "Jesus Christ my living hope\\\\\n",
       "\\end{tabular}\n"
      ],
      "text/markdown": [
       "\n",
       "A data.frame: 1 × 5\n",
       "\n",
       "| <!--/--> | id &lt;int&gt; | title &lt;chr&gt; | position &lt;int&gt; | type &lt;chr&gt; | lyric &lt;chr&gt; |\n",
       "|---|---|---|---|---|---|\n",
       "| 1 | 1 | Living Hope | 1 | Verse | How great the chasm that lay between us\n",
       "How high the mountain I could not climb\n",
       "In desperation I turned to heaven\n",
       "And spoke Your name into the night\n",
       "Then through the darkness Your loving-kindness\n",
       "Tore through the shadows of my soul\n",
       "The work is finished the end is written\n",
       "Jesus Christ my living hope |\n",
       "\n"
      ],
      "text/plain": [
       "  id title       position type \n",
       "1 1  Living Hope 1        Verse\n",
       "  lyric                                                                                                                                                                                                                                                                                                             \n",
       "1 How great the chasm that lay between us\\nHow high the mountain I could not climb\\nIn desperation I turned to heaven\\nAnd spoke Your name into the night\\nThen through the darkness Your loving-kindness\\nTore through the shadows of my soul\\nThe work is finished the end is written\\nJesus Christ my living hope"
      ]
     },
     "metadata": {},
     "output_type": "display_data"
    }
   ],
   "source": [
    "df %>% head(1)"
   ]
  },
  {
   "cell_type": "code",
   "execution_count": 4,
   "metadata": {},
   "outputs": [],
   "source": [
    "# convert to tibble\n",
    "df = df %>% tibble()\n"
   ]
  },
  {
   "cell_type": "code",
   "execution_count": 5,
   "metadata": {},
   "outputs": [],
   "source": [
    "# id 42 is not English\n",
    "df = df %>% filter(id != 42)"
   ]
  },
  {
   "cell_type": "code",
   "execution_count": 6,
   "metadata": {},
   "outputs": [],
   "source": [
    "# tokenization (without stemming, lemmatization)\n",
    "tokens = df %>% unnest_tokens(word, lyric)"
   ]
  },
  {
   "cell_type": "code",
   "execution_count": 8,
   "metadata": {},
   "outputs": [
    {
     "name": "stdout",
     "output_type": "stream",
     "text": [
      "\u001b[90m# A tibble: 12,795 x 5\u001b[39m\n",
      "      id title       position type  word   \n",
      "   \u001b[3m\u001b[90m<int>\u001b[39m\u001b[23m \u001b[3m\u001b[90m<chr>\u001b[39m\u001b[23m          \u001b[3m\u001b[90m<int>\u001b[39m\u001b[23m \u001b[3m\u001b[90m<chr>\u001b[39m\u001b[23m \u001b[3m\u001b[90m<chr>\u001b[39m\u001b[23m  \n",
      "\u001b[90m 1\u001b[39m     1 Living Hope        1 Verse how    \n",
      "\u001b[90m 2\u001b[39m     1 Living Hope        1 Verse great  \n",
      "\u001b[90m 3\u001b[39m     1 Living Hope        1 Verse the    \n",
      "\u001b[90m 4\u001b[39m     1 Living Hope        1 Verse chasm  \n",
      "\u001b[90m 5\u001b[39m     1 Living Hope        1 Verse that   \n",
      "\u001b[90m 6\u001b[39m     1 Living Hope        1 Verse lay    \n",
      "\u001b[90m 7\u001b[39m     1 Living Hope        1 Verse between\n",
      "\u001b[90m 8\u001b[39m     1 Living Hope        1 Verse us     \n",
      "\u001b[90m 9\u001b[39m     1 Living Hope        1 Verse how    \n",
      "\u001b[90m10\u001b[39m     1 Living Hope        1 Verse high   \n",
      "\u001b[90m# ... with 12,785 more rows\u001b[39m\n"
     ]
    }
   ],
   "source": [
    "tokens %>% print(n=10)"
   ]
  },
  {
   "cell_type": "code",
   "execution_count": 9,
   "metadata": {},
   "outputs": [
    {
     "data": {
      "image/png": "[encoded data removed]",
      "text/plain": [
       "Plot with title \"Histgram of lyric length (word)\""
      ]
     },
     "metadata": {
      "image/png": {
       "height": 420,
       "width": 420
      }
     },
     "output_type": "display_data"
    }
   ],
   "source": [
    "tokens %>% count(id) %>% with(hist(n, breaks=10, main='Histgram of lyric length (word)'))"
   ]
  },
  {
   "cell_type": "code",
   "execution_count": 10,
   "metadata": {},
   "outputs": [
    {
     "name": "stdout",
     "output_type": "stream",
     "text": [
      "\u001b[90m# A tibble: 1,483 x 2\u001b[39m\n",
      "   word      n\n",
      "   \u001b[3m\u001b[90m<chr>\u001b[39m\u001b[23m \u001b[3m\u001b[90m<int>\u001b[39m\u001b[23m\n",
      "\u001b[90m 1\u001b[39m the     646\n",
      "\u001b[90m 2\u001b[39m you     444\n",
      "\u001b[90m 3\u001b[39m i       380\n",
      "\u001b[90m 4\u001b[39m and     340\n",
      "\u001b[90m 5\u001b[39m my      323\n",
      "\u001b[90m 6\u001b[39m is      282\n",
      "\u001b[90m 7\u001b[39m in      266\n",
      "\u001b[90m 8\u001b[39m of      257\n",
      "\u001b[90m 9\u001b[39m to      245\n",
      "\u001b[90m10\u001b[39m your    223\n",
      "\u001b[90m# ... with 1,473 more rows\u001b[39m\n"
     ]
    }
   ],
   "source": [
    "tokens %>% count(word, sort=T) %>% print(n=10)"
   ]
  },
  {
   "cell_type": "code",
   "execution_count": null,
   "metadata": {},
   "outputs": [],
   "source": []
  },
  {
   "cell_type": "code",
   "execution_count": 12,
   "metadata": {},
   "outputs": [],
   "source": [
    "# set stop words\n",
    "my_stop_words = c('the', 'and', 'is', 'in', 'of', 'for', 'are', 'a', 'to', 'be',\n",
    "                  'that', 'with', 'who', 'it', 'am', 'let', 'what', 'on', 'see', \n",
    "                  'how', 'this', 'has', 'not', 'from', 'have', 'through')"
   ]
  },
  {
   "cell_type": "code",
   "execution_count": 13,
   "metadata": {},
   "outputs": [
    {
     "name": "stdout",
     "output_type": "stream",
     "text": [
      "\u001b[90m# A tibble: 1,457 x 2\u001b[39m\n",
      "   word        n\n",
      "   \u001b[3m\u001b[90m<chr>\u001b[39m\u001b[23m   \u001b[3m\u001b[90m<int>\u001b[39m\u001b[23m\n",
      "\u001b[90m 1\u001b[39m you       444\n",
      "\u001b[90m 2\u001b[39m i         380\n",
      "\u001b[90m 3\u001b[39m my        323\n",
      "\u001b[90m 4\u001b[39m your      223\n",
      "\u001b[90m 5\u001b[39m me        175\n",
      "\u001b[90m 6\u001b[39m all       148\n",
      "\u001b[90m 7\u001b[39m god       139\n",
      "\u001b[90m 8\u001b[39m will      138\n",
      "\u001b[90m 9\u001b[39m jesus     122\n",
      "\u001b[90m10\u001b[39m lord      122\n",
      "\u001b[90m11\u001b[39m our       110\n",
      "\u001b[90m12\u001b[39m he        102\n",
      "\u001b[90m13\u001b[39m love       95\n",
      "\u001b[90m14\u001b[39m his        90\n",
      "\u001b[90m15\u001b[39m name       83\n",
      "\u001b[90m16\u001b[39m us         71\n",
      "\u001b[90m17\u001b[39m sing       67\n",
      "\u001b[90m18\u001b[39m we         64\n",
      "\u001b[90m19\u001b[39m christ     62\n",
      "\u001b[90m20\u001b[39m oh         62\n",
      "\u001b[90m21\u001b[39m when       58\n",
      "\u001b[90m22\u001b[39m king       56\n",
      "\u001b[90m23\u001b[39m forever    52\n",
      "\u001b[90m24\u001b[39m heart      51\n",
      "\u001b[90m25\u001b[39m praise     51\n",
      "\u001b[90m26\u001b[39m life       47\n",
      "\u001b[90m27\u001b[39m great      46\n",
      "\u001b[90m28\u001b[39m never      46\n",
      "\u001b[90m29\u001b[39m good       44\n",
      "\u001b[90m30\u001b[39m glory      42\n",
      "\u001b[90m31\u001b[39m one        42\n",
      "\u001b[90m32\u001b[39m come       41\n",
      "\u001b[90m33\u001b[39m worship    41\n",
      "\u001b[90m34\u001b[39m now        40\n",
      "\u001b[90m35\u001b[39m as         39\n",
      "\u001b[90m36\u001b[39m you're     39\n",
      "\u001b[90m37\u001b[39m him        38\n",
      "\u001b[90m38\u001b[39m no         38\n",
      "\u001b[90m39\u001b[39m know       37\n",
      "\u001b[90m40\u001b[39m grace      36\n",
      "\u001b[90m41\u001b[39m hope       36\n",
      "\u001b[90m42\u001b[39m i'll       36\n",
      "\u001b[90m43\u001b[39m but        34\n",
      "\u001b[90m44\u001b[39m can        34\n",
      "\u001b[90m45\u001b[39m o          34\n",
      "\u001b[90m46\u001b[39m was        34\n",
      "\u001b[90m47\u001b[39m so         33\n",
      "\u001b[90m48\u001b[39m i'm        32\n",
      "\u001b[90m49\u001b[39m things     32\n",
      "\u001b[90m50\u001b[39m day        31\n",
      "\u001b[90m# ... with 1,407 more rows\u001b[39m\n"
     ]
    }
   ],
   "source": [
    "tokens %>% filter(!word %in% my_stop_words) %>% count(word, sort=T) %>% print(n=50)"
   ]
  },
  {
   "cell_type": "code",
   "execution_count": 14,
   "metadata": {},
   "outputs": [],
   "source": [
    "# built-in stop_words \n",
    "data(\"stop_words\")"
   ]
  },
  {
   "cell_type": "code",
   "execution_count": 15,
   "metadata": {},
   "outputs": [
    {
     "data": {
      "text/html": [
       "\n",
       "<table width=\"100%\" summary=\"page for stop_words {tidytext}\"><tr><td>stop_words {tidytext}</td><td style=\"text-align: right;\">R Documentation</td></tr></table>\n",
       "\n",
       "<h2>Various lexicons for English stop words</h2>\n",
       "\n",
       "<h3>Description</h3>\n",
       "\n",
       "<p>English stop words from three lexicons, as a data frame.\n",
       "The snowball and SMART sets are pulled from the tm package. Note\n",
       "that words with non-ASCII characters have been removed.\n",
       "</p>\n",
       "\n",
       "\n",
       "<h3>Usage</h3>\n",
       "\n",
       "<pre>\n",
       "stop_words\n",
       "</pre>\n",
       "\n",
       "\n",
       "<h3>Format</h3>\n",
       "\n",
       "<p>A data frame with 1149 rows and 2 variables:\n",
       "</p>\n",
       "\n",
       "<dl>\n",
       "<dt>word</dt><dd><p>An English word</p>\n",
       "</dd>\n",
       "<dt>lexicon</dt><dd><p>The source of the stop word. Either &quot;onix&quot;, &quot;SMART&quot;, or &quot;snowball&quot;</p>\n",
       "</dd>\n",
       "</dl>\n",
       "\n",
       "\n",
       "\n",
       "<h3>Source</h3>\n",
       "\n",
       "\n",
       "<ul>\n",
       "<li> <p><a href=\"http://www.lextek.com/manuals/onix/stopwords1.html\">http://www.lextek.com/manuals/onix/stopwords1.html</a>\n",
       "</p>\n",
       "</li>\n",
       "<li> <p><a href=\"https://www.jmlr.org/papers/volume5/lewis04a/lewis04a.pdf\">https://www.jmlr.org/papers/volume5/lewis04a/lewis04a.pdf</a>\n",
       "</p>\n",
       "</li>\n",
       "<li> <p><a href=\"http://snowball.tartarus.org/algorithms/english/stop.txt\">http://snowball.tartarus.org/algorithms/english/stop.txt</a>\n",
       "</p>\n",
       "</li></ul>\n",
       "\n",
       "\n",
       "<hr /><div style=\"text-align: center;\">[Package <em>tidytext</em> version 0.3.0 ]</div>"
      ],
      "text/latex": [
       "\\inputencoding{utf8}\n",
       "\\HeaderA{stop\\_words}{Various lexicons for English stop words}{stop.Rul.words}\n",
       "\\keyword{datasets}{stop\\_words}\n",
       "%\n",
       "\\begin{Description}\\relax\n",
       "English stop words from three lexicons, as a data frame.\n",
       "The snowball and SMART sets are pulled from the tm package. Note\n",
       "that words with non-ASCII characters have been removed.\n",
       "\\end{Description}\n",
       "%\n",
       "\\begin{Usage}\n",
       "\\begin{verbatim}\n",
       "stop_words\n",
       "\\end{verbatim}\n",
       "\\end{Usage}\n",
       "%\n",
       "\\begin{Format}\n",
       "A data frame with 1149 rows and 2 variables:\n",
       "\\begin{description}\n",
       "\n",
       "\\item[word] An English word\n",
       "\\item[lexicon] The source of the stop word. Either \"onix\", \"SMART\", or \"snowball\"\n",
       "\n",
       "\\end{description}\n",
       "\n",
       "\\end{Format}\n",
       "%\n",
       "\\begin{Source}\\relax\n",
       "\\begin{itemize}\n",
       "\n",
       "\\item{} \\url{http://www.lextek.com/manuals/onix/stopwords1.html}\n",
       "\\item{} \\url{https://www.jmlr.org/papers/volume5/lewis04a/lewis04a.pdf}\n",
       "\\item{} \\url{http://snowball.tartarus.org/algorithms/english/stop.txt}\n",
       "\n",
       "\\end{itemize}\n",
       "\n",
       "\\end{Source}"
      ],
      "text/plain": [
       "stop_words              package:tidytext               R Documentation\n",
       "\n",
       "_\bV_\ba_\br_\bi_\bo_\bu_\bs _\bl_\be_\bx_\bi_\bc_\bo_\bn_\bs _\bf_\bo_\br _\bE_\bn_\bg_\bl_\bi_\bs_\bh _\bs_\bt_\bo_\bp _\bw_\bo_\br_\bd_\bs\n",
       "\n",
       "_\bD_\be_\bs_\bc_\br_\bi_\bp_\bt_\bi_\bo_\bn:\n",
       "\n",
       "     English stop words from three lexicons, as a data frame. The\n",
       "     snowball and SMART sets are pulled from the tm package. Note that\n",
       "     words with non-ASCII characters have been removed.\n",
       "\n",
       "_\bU_\bs_\ba_\bg_\be:\n",
       "\n",
       "     stop_words\n",
       "     \n",
       "_\bF_\bo_\br_\bm_\ba_\bt:\n",
       "\n",
       "     A data frame with 1149 rows and 2 variables:\n",
       "\n",
       "     word An English word\n",
       "\n",
       "     lexicon The source of the stop word. Either \"onix\", \"SMART\", or\n",
       "          \"snowball\"\n",
       "\n",
       "_\bS_\bo_\bu_\br_\bc_\be:\n",
       "\n",
       "        * <URL: http://www.lextek.com/manuals/onix/stopwords1.html>\n",
       "\n",
       "        * <URL:\n",
       "          https://www.jmlr.org/papers/volume5/lewis04a/lewis04a.pdf>\n",
       "\n",
       "        * <URL:\n",
       "          http://snowball.tartarus.org/algorithms/english/stop.txt>\n"
      ]
     },
     "metadata": {},
     "output_type": "display_data"
    }
   ],
   "source": [
    "?stop_words"
   ]
  },
  {
   "cell_type": "code",
   "execution_count": 16,
   "metadata": {},
   "outputs": [
    {
     "name": "stderr",
     "output_type": "stream",
     "text": [
      "Joining, by = \"word\"\n",
      "\n"
     ]
    },
    {
     "name": "stdout",
     "output_type": "stream",
     "text": [
      "\u001b[90m# A tibble: 1,174 x 2\u001b[39m\n",
      "   word        n\n",
      "   \u001b[3m\u001b[90m<chr>\u001b[39m\u001b[23m   \u001b[3m\u001b[90m<int>\u001b[39m\u001b[23m\n",
      "\u001b[90m 1\u001b[39m god       139\n",
      "\u001b[90m 2\u001b[39m jesus     122\n",
      "\u001b[90m 3\u001b[39m lord      122\n",
      "\u001b[90m 4\u001b[39m love       95\n",
      "\u001b[90m 5\u001b[39m sing       67\n",
      "\u001b[90m 6\u001b[39m christ     62\n",
      "\u001b[90m 7\u001b[39m king       56\n",
      "\u001b[90m 8\u001b[39m forever    52\n",
      "\u001b[90m 9\u001b[39m heart      51\n",
      "\u001b[90m10\u001b[39m praise     51\n",
      "\u001b[90m# ... with 1,164 more rows\u001b[39m\n"
     ]
    }
   ],
   "source": [
    "tokens %>% anti_join(stop_words) %>% count(word, sort=T) %>% print(n=10)"
   ]
  },
  {
   "cell_type": "code",
   "execution_count": 17,
   "metadata": {},
   "outputs": [
    {
     "name": "stderr",
     "output_type": "stream",
     "text": [
      "Warning message:\n",
      "\"`funs()` is deprecated as of dplyr 0.8.0.\n",
      "Please use a list of either functions or lambdas: \n",
      "\n",
      "  # Simple named list: \n",
      "  list(mean = mean, median = median)\n",
      "\n",
      "  # Auto named with `tibble::lst()`: \n",
      "  tibble::lst(mean, median)\n",
      "\n",
      "  # Using lambdas\n",
      "  list(~ mean(., trim = .2), ~ median(., na.rm = TRUE))\n",
      "\u001b[90mThis warning is displayed once every 8 hours.\u001b[39m\n",
      "\u001b[90mCall `lifecycle::last_warnings()` to see where this warning was generated.\u001b[39m\"\n"
     ]
    }
   ],
   "source": [
    "# stemming\n",
    "stemmed = tokens %>% mutate_at('word', funs(wordStem((.), language='en')))"
   ]
  },
  {
   "cell_type": "code",
   "execution_count": 18,
   "metadata": {},
   "outputs": [
    {
     "name": "stderr",
     "output_type": "stream",
     "text": [
      "Joining, by = \"word\"\n",
      "\n"
     ]
    },
    {
     "name": "stdout",
     "output_type": "stream",
     "text": [
      "\u001b[90m# A tibble: 934 x 2\u001b[39m\n",
      "   word        n\n",
      "   \u001b[3m\u001b[90m<chr>\u001b[39m\u001b[23m   \u001b[3m\u001b[90m<int>\u001b[39m\u001b[23m\n",
      "\u001b[90m 1\u001b[39m god       140\n",
      "\u001b[90m 2\u001b[39m jesus     122\n",
      "\u001b[90m 3\u001b[39m lord      122\n",
      "\u001b[90m 4\u001b[39m love      100\n",
      "\u001b[90m 5\u001b[39m sing       75\n",
      "\u001b[90m 6\u001b[39m heart      65\n",
      "\u001b[90m 7\u001b[39m king       64\n",
      "\u001b[90m 8\u001b[39m christ     62\n",
      "\u001b[90m 9\u001b[39m prais      56\n",
      "\u001b[90m10\u001b[39m forev      52\n",
      "\u001b[90m11\u001b[39m life       49\n",
      "\u001b[90m12\u001b[39m day        46\n",
      "\u001b[90m13\u001b[39m glori      42\n",
      "\u001b[90m14\u001b[39m worship    41\n",
      "\u001b[90m15\u001b[39m you'r      39\n",
      "\u001b[90m16\u001b[39m hope       37\n",
      "\u001b[90m17\u001b[39m grace      36\n",
      "\u001b[90m18\u001b[39m holi       34\n",
      "\u001b[90m19\u001b[39m soul       33\n",
      "\u001b[90m20\u001b[39m lift       32\n",
      "\u001b[90m# ... with 914 more rows\u001b[39m\n"
     ]
    }
   ],
   "source": [
    "stemmed %>% anti_join(stop_words) %>% count(word, sort=T) %>% print(n=20)"
   ]
  },
  {
   "cell_type": "code",
   "execution_count": 19,
   "metadata": {},
   "outputs": [
    {
     "name": "stderr",
     "output_type": "stream",
     "text": [
      "Joining, by = \"word\"\n",
      "\n"
     ]
    },
    {
     "data": {
      "image/png": "[encoded data removed]",
      "text/plain": [
       "Plot with title \"Top 30 nouns(token)\""
      ]
     },
     "metadata": {
      "image/png": {
       "height": 600,
       "width": 600
      }
     },
     "output_type": "display_data"
    }
   ],
   "source": [
    "options(repr.plot.width=10, repr.plot.height=10)\n",
    "stemmed %>% anti_join(stop_words) %>% count(word, sort=T) %>% head(30) %>% arrange(n) %>%\n",
    "    with(barplot(n, names.arg = word, horiz=T, las=1, main='Top 30 nouns(token)', xlab='Frequency', cex.names = 1))"
   ]
  },
  {
   "cell_type": "code",
   "execution_count": 20,
   "metadata": {},
   "outputs": [
    {
     "name": "stderr",
     "output_type": "stream",
     "text": [
      "Joining, by = \"word\"\n",
      "\n",
      "Joining, by = \"word\"\n",
      "\n"
     ]
    }
   ],
   "source": [
    "verse = stemmed %>% filter(type == 'Verse') %>% anti_join(stop_words) %>% count(word, sort=T) \n",
    "chorus = stemmed %>% filter(type == 'Chorus') %>% anti_join(stop_words) %>% count(word, sort=T) "
   ]
  },
  {
   "cell_type": "code",
   "execution_count": 21,
   "metadata": {},
   "outputs": [],
   "source": [
    "merged = merge(verse, chorus, all=T, by='word')\n",
    "\n",
    "colnames(merged) = c('word', 'verse', 'chorus')\n",
    "# fill NA values with 0 \n",
    "merged[is.na(merged)] = 0"
   ]
  },
  {
   "cell_type": "code",
   "execution_count": 22,
   "metadata": {},
   "outputs": [
    {
     "data": {
      "text/html": [
       "<table>\n",
       "<caption>A data.frame: 6 × 3</caption>\n",
       "<thead>\n",
       "\t<tr><th></th><th scope=col>word</th><th scope=col>verse</th><th scope=col>chorus</th></tr>\n",
       "\t<tr><th></th><th scope=col>&lt;chr&gt;</th><th scope=col>&lt;dbl&gt;</th><th scope=col>&lt;dbl&gt;</th></tr>\n",
       "</thead>\n",
       "<tbody>\n",
       "\t<tr><th scope=row>1</th><td>abandon</td><td> 0</td><td>1</td></tr>\n",
       "\t<tr><th scope=row>2</th><td>abid   </td><td> 1</td><td>0</td></tr>\n",
       "\t<tr><th scope=row>3</th><td>abl    </td><td> 1</td><td>3</td></tr>\n",
       "\t<tr><th scope=row>4</th><td>abound </td><td> 2</td><td>0</td></tr>\n",
       "\t<tr><th scope=row>5</th><td>abov   </td><td>13</td><td>6</td></tr>\n",
       "\t<tr><th scope=row>6</th><td>abund  </td><td> 1</td><td>0</td></tr>\n",
       "</tbody>\n",
       "</table>\n"
      ],
      "text/latex": [
       "A data.frame: 6 × 3\n",
       "\\begin{tabular}{r|lll}\n",
       "  & word & verse & chorus\\\\\n",
       "  & <chr> & <dbl> & <dbl>\\\\\n",
       "\\hline\n",
       "\t1 & abandon &  0 & 1\\\\\n",
       "\t2 & abid    &  1 & 0\\\\\n",
       "\t3 & abl     &  1 & 3\\\\\n",
       "\t4 & abound  &  2 & 0\\\\\n",
       "\t5 & abov    & 13 & 6\\\\\n",
       "\t6 & abund   &  1 & 0\\\\\n",
       "\\end{tabular}\n"
      ],
      "text/markdown": [
       "\n",
       "A data.frame: 6 × 3\n",
       "\n",
       "| <!--/--> | word &lt;chr&gt; | verse &lt;dbl&gt; | chorus &lt;dbl&gt; |\n",
       "|---|---|---|---|\n",
       "| 1 | abandon |  0 | 1 |\n",
       "| 2 | abid    |  1 | 0 |\n",
       "| 3 | abl     |  1 | 3 |\n",
       "| 4 | abound  |  2 | 0 |\n",
       "| 5 | abov    | 13 | 6 |\n",
       "| 6 | abund   |  1 | 0 |\n",
       "\n"
      ],
      "text/plain": [
       "  word    verse chorus\n",
       "1 abandon  0    1     \n",
       "2 abid     1    0     \n",
       "3 abl      1    3     \n",
       "4 abound   2    0     \n",
       "5 abov    13    6     \n",
       "6 abund    1    0     "
      ]
     },
     "metadata": {},
     "output_type": "display_data"
    }
   ],
   "source": [
    "merged %>% head()"
   ]
  },
  {
   "cell_type": "code",
   "execution_count": 23,
   "metadata": {},
   "outputs": [],
   "source": [
    "merged['total'] = merged$verse + merged$chorus"
   ]
  },
  {
   "cell_type": "code",
   "execution_count": null,
   "metadata": {},
   "outputs": [],
   "source": []
  },
  {
   "cell_type": "code",
   "execution_count": 24,
   "metadata": {},
   "outputs": [
    {
     "data": {
      "image/png": "[encoded data removed]",
      "text/plain": [
       "Plot with title \"\""
      ]
     },
     "metadata": {
      "image/png": {
       "height": 600,
       "width": 600
      }
     },
     "output_type": "display_data"
    }
   ],
   "source": [
    "merged$total %>% hist(breaks=30, main='')"
   ]
  },
  {
   "cell_type": "code",
   "execution_count": 25,
   "metadata": {},
   "outputs": [],
   "source": [
    "selected = merged %>% arrange(desc(total)) %>% head(50)"
   ]
  },
  {
   "cell_type": "code",
   "execution_count": 26,
   "metadata": {},
   "outputs": [
    {
     "data": {
      "text/html": [
       "<table>\n",
       "<caption>A data.frame: 10 × 4</caption>\n",
       "<thead>\n",
       "\t<tr><th></th><th scope=col>word</th><th scope=col>verse</th><th scope=col>chorus</th><th scope=col>total</th></tr>\n",
       "\t<tr><th></th><th scope=col>&lt;chr&gt;</th><th scope=col>&lt;dbl&gt;</th><th scope=col>&lt;dbl&gt;</th><th scope=col>&lt;dbl&gt;</th></tr>\n",
       "</thead>\n",
       "<tbody>\n",
       "\t<tr><th scope=row>1</th><td>god   </td><td>45</td><td>67</td><td>112</td></tr>\n",
       "\t<tr><th scope=row>2</th><td>lord  </td><td>64</td><td>35</td><td> 99</td></tr>\n",
       "\t<tr><th scope=row>3</th><td>jesus </td><td>55</td><td>35</td><td> 90</td></tr>\n",
       "\t<tr><th scope=row>4</th><td>love  </td><td>55</td><td>30</td><td> 85</td></tr>\n",
       "\t<tr><th scope=row>5</th><td>christ</td><td>37</td><td>18</td><td> 55</td></tr>\n",
       "\t<tr><th scope=row>6</th><td>king  </td><td>37</td><td>15</td><td> 52</td></tr>\n",
       "\t<tr><th scope=row>7</th><td>heart </td><td>37</td><td>14</td><td> 51</td></tr>\n",
       "\t<tr><th scope=row>8</th><td>prais </td><td>24</td><td>23</td><td> 47</td></tr>\n",
       "\t<tr><th scope=row>9</th><td>forev </td><td>20</td><td>22</td><td> 42</td></tr>\n",
       "\t<tr><th scope=row>10</th><td>life  </td><td>29</td><td>12</td><td> 41</td></tr>\n",
       "</tbody>\n",
       "</table>\n"
      ],
      "text/latex": [
       "A data.frame: 10 × 4\n",
       "\\begin{tabular}{r|llll}\n",
       "  & word & verse & chorus & total\\\\\n",
       "  & <chr> & <dbl> & <dbl> & <dbl>\\\\\n",
       "\\hline\n",
       "\t1 & god    & 45 & 67 & 112\\\\\n",
       "\t2 & lord   & 64 & 35 &  99\\\\\n",
       "\t3 & jesus  & 55 & 35 &  90\\\\\n",
       "\t4 & love   & 55 & 30 &  85\\\\\n",
       "\t5 & christ & 37 & 18 &  55\\\\\n",
       "\t6 & king   & 37 & 15 &  52\\\\\n",
       "\t7 & heart  & 37 & 14 &  51\\\\\n",
       "\t8 & prais  & 24 & 23 &  47\\\\\n",
       "\t9 & forev  & 20 & 22 &  42\\\\\n",
       "\t10 & life   & 29 & 12 &  41\\\\\n",
       "\\end{tabular}\n"
      ],
      "text/markdown": [
       "\n",
       "A data.frame: 10 × 4\n",
       "\n",
       "| <!--/--> | word &lt;chr&gt; | verse &lt;dbl&gt; | chorus &lt;dbl&gt; | total &lt;dbl&gt; |\n",
       "|---|---|---|---|---|\n",
       "| 1 | god    | 45 | 67 | 112 |\n",
       "| 2 | lord   | 64 | 35 |  99 |\n",
       "| 3 | jesus  | 55 | 35 |  90 |\n",
       "| 4 | love   | 55 | 30 |  85 |\n",
       "| 5 | christ | 37 | 18 |  55 |\n",
       "| 6 | king   | 37 | 15 |  52 |\n",
       "| 7 | heart  | 37 | 14 |  51 |\n",
       "| 8 | prais  | 24 | 23 |  47 |\n",
       "| 9 | forev  | 20 | 22 |  42 |\n",
       "| 10 | life   | 29 | 12 |  41 |\n",
       "\n"
      ],
      "text/plain": [
       "   word   verse chorus total\n",
       "1  god    45    67     112  \n",
       "2  lord   64    35      99  \n",
       "3  jesus  55    35      90  \n",
       "4  love   55    30      85  \n",
       "5  christ 37    18      55  \n",
       "6  king   37    15      52  \n",
       "7  heart  37    14      51  \n",
       "8  prais  24    23      47  \n",
       "9  forev  20    22      42  \n",
       "10 life   29    12      41  "
      ]
     },
     "metadata": {},
     "output_type": "display_data"
    }
   ],
   "source": [
    "selected %>% head(10)"
   ]
  },
  {
   "cell_type": "code",
   "execution_count": 27,
   "metadata": {},
   "outputs": [
    {
     "data": {
      "image/png": "[encoded data removed]",
      "text/plain": [
       "plot without title"
      ]
     },
     "metadata": {
      "image/png": {
       "height": 600,
       "width": 600
      }
     },
     "output_type": "display_data"
    }
   ],
   "source": [
    "plot(selected$verse, selected$chorus, xlab='Verse', ylab='Chorus')\n",
    "text(selected$verse, selected$chorus, labels=selected$word)\n",
    "abline(a=0, b=1)\n"
   ]
  },
  {
   "cell_type": "code",
   "execution_count": 28,
   "metadata": {},
   "outputs": [
    {
     "data": {
      "image/png": "[encoded data removed]",
      "text/plain": [
       "plot without title"
      ]
     },
     "metadata": {
      "image/png": {
       "height": 600,
       "width": 600
      }
     },
     "output_type": "display_data"
    }
   ],
   "source": [
    "plot(selected$verse + 0.5, selected$chorus + 0.5, xlab='Verse', ylab='Chorus', log='xy', type='n')\n",
    "text(selected$verse+0.5, selected$chorus+0.5, labels=selected$word)\n",
    "abline(a=0, b=1)"
   ]
  },
  {
   "cell_type": "code",
   "execution_count": 29,
   "metadata": {},
   "outputs": [
    {
     "data": {
      "image/png": "[encoded data removed]",
      "text/plain": [
       "Plot with title \"N of song elements\""
      ]
     },
     "metadata": {
      "image/png": {
       "height": 600,
       "width": 600
      }
     },
     "output_type": "display_data"
    }
   ],
   "source": [
    "df %>% count(type) %>% \n",
    "    arrange(n) %>% \n",
    "    with(barplot(n, names.arg=type, horiz=T, las=1, main='N of song elements'))"
   ]
  },
  {
   "cell_type": "code",
   "execution_count": 30,
   "metadata": {},
   "outputs": [],
   "source": [
    "merged['verse_p'] = merged$verse / sum(merged$verse)\n",
    "merged['chorus_p'] = merged$chorus / sum(merged$chorus)"
   ]
  },
  {
   "cell_type": "code",
   "execution_count": 31,
   "metadata": {},
   "outputs": [
    {
     "data": {
      "text/html": [
       "<table>\n",
       "<caption>A data.frame: 896 × 6</caption>\n",
       "<thead>\n",
       "\t<tr><th scope=col>word</th><th scope=col>verse</th><th scope=col>chorus</th><th scope=col>total</th><th scope=col>verse_p</th><th scope=col>chorus_p</th></tr>\n",
       "\t<tr><th scope=col>&lt;chr&gt;</th><th scope=col>&lt;dbl&gt;</th><th scope=col>&lt;dbl&gt;</th><th scope=col>&lt;dbl&gt;</th><th scope=col>&lt;dbl&gt;</th><th scope=col>&lt;dbl&gt;</th></tr>\n",
       "</thead>\n",
       "<tbody>\n",
       "\t<tr><td>abandon   </td><td> 0</td><td> 1</td><td> 1</td><td>0.0000000000</td><td>0.0008960573</td></tr>\n",
       "\t<tr><td>abid      </td><td> 1</td><td> 0</td><td> 1</td><td>0.0003492840</td><td>0.0000000000</td></tr>\n",
       "\t<tr><td>abl       </td><td> 1</td><td> 3</td><td> 4</td><td>0.0003492840</td><td>0.0026881720</td></tr>\n",
       "\t<tr><td>abound    </td><td> 2</td><td> 0</td><td> 2</td><td>0.0006985679</td><td>0.0000000000</td></tr>\n",
       "\t<tr><td>abov      </td><td>13</td><td> 6</td><td>19</td><td>0.0045406916</td><td>0.0053763441</td></tr>\n",
       "\t<tr><td>abund     </td><td> 1</td><td> 0</td><td> 1</td><td>0.0003492840</td><td>0.0000000000</td></tr>\n",
       "\t<tr><td>accept    </td><td> 1</td><td> 0</td><td> 1</td><td>0.0003492840</td><td>0.0000000000</td></tr>\n",
       "\t<tr><td>acclaim   </td><td> 1</td><td> 0</td><td> 1</td><td>0.0003492840</td><td>0.0000000000</td></tr>\n",
       "\t<tr><td>acclam    </td><td> 1</td><td> 0</td><td> 1</td><td>0.0003492840</td><td>0.0000000000</td></tr>\n",
       "\t<tr><td>accomplish</td><td> 1</td><td> 0</td><td> 1</td><td>0.0003492840</td><td>0.0000000000</td></tr>\n",
       "\t<tr><td>accus     </td><td> 1</td><td> 0</td><td> 1</td><td>0.0003492840</td><td>0.0000000000</td></tr>\n",
       "\t<tr><td>act       </td><td> 1</td><td> 0</td><td> 1</td><td>0.0003492840</td><td>0.0000000000</td></tr>\n",
       "\t<tr><td>adam      </td><td> 1</td><td> 0</td><td> 1</td><td>0.0003492840</td><td>0.0000000000</td></tr>\n",
       "\t<tr><td>ador      </td><td> 3</td><td> 0</td><td> 3</td><td>0.0010478519</td><td>0.0000000000</td></tr>\n",
       "\t<tr><td>afflict   </td><td> 1</td><td> 0</td><td> 1</td><td>0.0003492840</td><td>0.0000000000</td></tr>\n",
       "\t<tr><td>afford    </td><td> 1</td><td> 0</td><td> 1</td><td>0.0003492840</td><td>0.0000000000</td></tr>\n",
       "\t<tr><td>afraid    </td><td> 1</td><td> 0</td><td> 1</td><td>0.0003492840</td><td>0.0000000000</td></tr>\n",
       "\t<tr><td>age       </td><td> 6</td><td> 0</td><td> 6</td><td>0.0020957038</td><td>0.0000000000</td></tr>\n",
       "\t<tr><td>aliv      </td><td> 8</td><td> 4</td><td>12</td><td>0.0027942717</td><td>0.0035842294</td></tr>\n",
       "\t<tr><td>almighti  </td><td> 4</td><td> 0</td><td> 4</td><td>0.0013971359</td><td>0.0000000000</td></tr>\n",
       "\t<tr><td>alon      </td><td>10</td><td> 5</td><td>15</td><td>0.0034928397</td><td>0.0044802867</td></tr>\n",
       "\t<tr><td>altar     </td><td> 0</td><td> 2</td><td> 2</td><td>0.0000000000</td><td>0.0017921147</td></tr>\n",
       "\t<tr><td>altogeth  </td><td> 0</td><td> 3</td><td> 3</td><td>0.0000000000</td><td>0.0026881720</td></tr>\n",
       "\t<tr><td>alway     </td><td> 4</td><td> 2</td><td> 6</td><td>0.0013971359</td><td>0.0017921147</td></tr>\n",
       "\t<tr><td>amaz      </td><td> 5</td><td> 4</td><td> 9</td><td>0.0017464198</td><td>0.0035842294</td></tr>\n",
       "\t<tr><td>amen      </td><td> 1</td><td>11</td><td>12</td><td>0.0003492840</td><td>0.0098566308</td></tr>\n",
       "\t<tr><td>anchor    </td><td> 4</td><td> 1</td><td> 5</td><td>0.0013971359</td><td>0.0008960573</td></tr>\n",
       "\t<tr><td>angel     </td><td> 4</td><td> 3</td><td> 7</td><td>0.0013971359</td><td>0.0026881720</td></tr>\n",
       "\t<tr><td>anger     </td><td> 1</td><td> 0</td><td> 1</td><td>0.0003492840</td><td>0.0000000000</td></tr>\n",
       "\t<tr><td>ani       </td><td> 2</td><td> 1</td><td> 3</td><td>0.0006985679</td><td>0.0008960573</td></tr>\n",
       "\t<tr><td>...</td><td>...</td><td>...</td><td>...</td><td>...</td><td>...</td></tr>\n",
       "\t<tr><td>wisdom  </td><td> 4</td><td> 1</td><td> 5</td><td>0.0013971359</td><td>0.0008960573</td></tr>\n",
       "\t<tr><td>wit     </td><td> 1</td><td> 0</td><td> 1</td><td>0.0003492840</td><td>0.0000000000</td></tr>\n",
       "\t<tr><td>womb    </td><td> 1</td><td> 0</td><td> 1</td><td>0.0003492840</td><td>0.0000000000</td></tr>\n",
       "\t<tr><td>women   </td><td> 1</td><td> 0</td><td> 1</td><td>0.0003492840</td><td>0.0000000000</td></tr>\n",
       "\t<tr><td>won     </td><td> 3</td><td> 1</td><td> 4</td><td>0.0010478519</td><td>0.0008960573</td></tr>\n",
       "\t<tr><td>wondrous</td><td> 4</td><td> 0</td><td> 4</td><td>0.0013971359</td><td>0.0000000000</td></tr>\n",
       "\t<tr><td>wood    </td><td> 1</td><td> 0</td><td> 1</td><td>0.0003492840</td><td>0.0000000000</td></tr>\n",
       "\t<tr><td>word    </td><td> 7</td><td> 0</td><td> 7</td><td>0.0024449878</td><td>0.0000000000</td></tr>\n",
       "\t<tr><td>worker  </td><td> 0</td><td> 1</td><td> 1</td><td>0.0000000000</td><td>0.0008960573</td></tr>\n",
       "\t<tr><td>world   </td><td>14</td><td> 3</td><td>17</td><td>0.0048899756</td><td>0.0026881720</td></tr>\n",
       "\t<tr><td>worship </td><td>17</td><td>11</td><td>28</td><td>0.0059378275</td><td>0.0098566308</td></tr>\n",
       "\t<tr><td>worth   </td><td> 2</td><td> 1</td><td> 3</td><td>0.0006985679</td><td>0.0008960573</td></tr>\n",
       "\t<tr><td>worthi  </td><td> 4</td><td> 9</td><td>13</td><td>0.0013971359</td><td>0.0080645161</td></tr>\n",
       "\t<tr><td>wound   </td><td> 3</td><td> 0</td><td> 3</td><td>0.0010478519</td><td>0.0000000000</td></tr>\n",
       "\t<tr><td>wrap    </td><td> 1</td><td> 0</td><td> 1</td><td>0.0003492840</td><td>0.0000000000</td></tr>\n",
       "\t<tr><td>wrath   </td><td> 3</td><td> 0</td><td> 3</td><td>0.0010478519</td><td>0.0000000000</td></tr>\n",
       "\t<tr><td>wrestl  </td><td> 1</td><td> 0</td><td> 1</td><td>0.0003492840</td><td>0.0000000000</td></tr>\n",
       "\t<tr><td>wretch  </td><td> 2</td><td> 0</td><td> 2</td><td>0.0006985679</td><td>0.0000000000</td></tr>\n",
       "\t<tr><td>written </td><td> 1</td><td> 0</td><td> 1</td><td>0.0003492840</td><td>0.0000000000</td></tr>\n",
       "\t<tr><td>wrong   </td><td> 1</td><td> 0</td><td> 1</td><td>0.0003492840</td><td>0.0000000000</td></tr>\n",
       "\t<tr><td>ye      </td><td> 1</td><td> 1</td><td> 2</td><td>0.0003492840</td><td>0.0008960573</td></tr>\n",
       "\t<tr><td>yeah    </td><td> 2</td><td> 2</td><td> 4</td><td>0.0006985679</td><td>0.0017921147</td></tr>\n",
       "\t<tr><td>yearn   </td><td> 1</td><td> 0</td><td> 1</td><td>0.0003492840</td><td>0.0000000000</td></tr>\n",
       "\t<tr><td>yield   </td><td> 0</td><td> 1</td><td> 1</td><td>0.0000000000</td><td>0.0008960573</td></tr>\n",
       "\t<tr><td>you'r   </td><td>14</td><td>11</td><td>25</td><td>0.0048899756</td><td>0.0098566308</td></tr>\n",
       "\t<tr><td>you'v   </td><td> 2</td><td> 2</td><td> 4</td><td>0.0006985679</td><td>0.0017921147</td></tr>\n",
       "\t<tr><td>you’ll </td><td> 1</td><td> 0</td><td> 1</td><td>0.0003492840</td><td>0.0000000000</td></tr>\n",
       "\t<tr><td>you’r  </td><td> 3</td><td> 1</td><td> 4</td><td>0.0010478519</td><td>0.0008960573</td></tr>\n",
       "\t<tr><td>you’v  </td><td> 1</td><td> 0</td><td> 1</td><td>0.0003492840</td><td>0.0000000000</td></tr>\n",
       "\t<tr><td>zion    </td><td> 0</td><td> 1</td><td> 1</td><td>0.0000000000</td><td>0.0008960573</td></tr>\n",
       "</tbody>\n",
       "</table>\n"
      ],
      "text/latex": [
       "A data.frame: 896 × 6\n",
       "\\begin{tabular}{llllll}\n",
       " word & verse & chorus & total & verse\\_p & chorus\\_p\\\\\n",
       " <chr> & <dbl> & <dbl> & <dbl> & <dbl> & <dbl>\\\\\n",
       "\\hline\n",
       "\t abandon    &  0 &  1 &  1 & 0.0000000000 & 0.0008960573\\\\\n",
       "\t abid       &  1 &  0 &  1 & 0.0003492840 & 0.0000000000\\\\\n",
       "\t abl        &  1 &  3 &  4 & 0.0003492840 & 0.0026881720\\\\\n",
       "\t abound     &  2 &  0 &  2 & 0.0006985679 & 0.0000000000\\\\\n",
       "\t abov       & 13 &  6 & 19 & 0.0045406916 & 0.0053763441\\\\\n",
       "\t abund      &  1 &  0 &  1 & 0.0003492840 & 0.0000000000\\\\\n",
       "\t accept     &  1 &  0 &  1 & 0.0003492840 & 0.0000000000\\\\\n",
       "\t acclaim    &  1 &  0 &  1 & 0.0003492840 & 0.0000000000\\\\\n",
       "\t acclam     &  1 &  0 &  1 & 0.0003492840 & 0.0000000000\\\\\n",
       "\t accomplish &  1 &  0 &  1 & 0.0003492840 & 0.0000000000\\\\\n",
       "\t accus      &  1 &  0 &  1 & 0.0003492840 & 0.0000000000\\\\\n",
       "\t act        &  1 &  0 &  1 & 0.0003492840 & 0.0000000000\\\\\n",
       "\t adam       &  1 &  0 &  1 & 0.0003492840 & 0.0000000000\\\\\n",
       "\t ador       &  3 &  0 &  3 & 0.0010478519 & 0.0000000000\\\\\n",
       "\t afflict    &  1 &  0 &  1 & 0.0003492840 & 0.0000000000\\\\\n",
       "\t afford     &  1 &  0 &  1 & 0.0003492840 & 0.0000000000\\\\\n",
       "\t afraid     &  1 &  0 &  1 & 0.0003492840 & 0.0000000000\\\\\n",
       "\t age        &  6 &  0 &  6 & 0.0020957038 & 0.0000000000\\\\\n",
       "\t aliv       &  8 &  4 & 12 & 0.0027942717 & 0.0035842294\\\\\n",
       "\t almighti   &  4 &  0 &  4 & 0.0013971359 & 0.0000000000\\\\\n",
       "\t alon       & 10 &  5 & 15 & 0.0034928397 & 0.0044802867\\\\\n",
       "\t altar      &  0 &  2 &  2 & 0.0000000000 & 0.0017921147\\\\\n",
       "\t altogeth   &  0 &  3 &  3 & 0.0000000000 & 0.0026881720\\\\\n",
       "\t alway      &  4 &  2 &  6 & 0.0013971359 & 0.0017921147\\\\\n",
       "\t amaz       &  5 &  4 &  9 & 0.0017464198 & 0.0035842294\\\\\n",
       "\t amen       &  1 & 11 & 12 & 0.0003492840 & 0.0098566308\\\\\n",
       "\t anchor     &  4 &  1 &  5 & 0.0013971359 & 0.0008960573\\\\\n",
       "\t angel      &  4 &  3 &  7 & 0.0013971359 & 0.0026881720\\\\\n",
       "\t anger      &  1 &  0 &  1 & 0.0003492840 & 0.0000000000\\\\\n",
       "\t ani        &  2 &  1 &  3 & 0.0006985679 & 0.0008960573\\\\\n",
       "\t ... & ... & ... & ... & ... & ...\\\\\n",
       "\t wisdom   &  4 &  1 &  5 & 0.0013971359 & 0.0008960573\\\\\n",
       "\t wit      &  1 &  0 &  1 & 0.0003492840 & 0.0000000000\\\\\n",
       "\t womb     &  1 &  0 &  1 & 0.0003492840 & 0.0000000000\\\\\n",
       "\t women    &  1 &  0 &  1 & 0.0003492840 & 0.0000000000\\\\\n",
       "\t won      &  3 &  1 &  4 & 0.0010478519 & 0.0008960573\\\\\n",
       "\t wondrous &  4 &  0 &  4 & 0.0013971359 & 0.0000000000\\\\\n",
       "\t wood     &  1 &  0 &  1 & 0.0003492840 & 0.0000000000\\\\\n",
       "\t word     &  7 &  0 &  7 & 0.0024449878 & 0.0000000000\\\\\n",
       "\t worker   &  0 &  1 &  1 & 0.0000000000 & 0.0008960573\\\\\n",
       "\t world    & 14 &  3 & 17 & 0.0048899756 & 0.0026881720\\\\\n",
       "\t worship  & 17 & 11 & 28 & 0.0059378275 & 0.0098566308\\\\\n",
       "\t worth    &  2 &  1 &  3 & 0.0006985679 & 0.0008960573\\\\\n",
       "\t worthi   &  4 &  9 & 13 & 0.0013971359 & 0.0080645161\\\\\n",
       "\t wound    &  3 &  0 &  3 & 0.0010478519 & 0.0000000000\\\\\n",
       "\t wrap     &  1 &  0 &  1 & 0.0003492840 & 0.0000000000\\\\\n",
       "\t wrath    &  3 &  0 &  3 & 0.0010478519 & 0.0000000000\\\\\n",
       "\t wrestl   &  1 &  0 &  1 & 0.0003492840 & 0.0000000000\\\\\n",
       "\t wretch   &  2 &  0 &  2 & 0.0006985679 & 0.0000000000\\\\\n",
       "\t written  &  1 &  0 &  1 & 0.0003492840 & 0.0000000000\\\\\n",
       "\t wrong    &  1 &  0 &  1 & 0.0003492840 & 0.0000000000\\\\\n",
       "\t ye       &  1 &  1 &  2 & 0.0003492840 & 0.0008960573\\\\\n",
       "\t yeah     &  2 &  2 &  4 & 0.0006985679 & 0.0017921147\\\\\n",
       "\t yearn    &  1 &  0 &  1 & 0.0003492840 & 0.0000000000\\\\\n",
       "\t yield    &  0 &  1 &  1 & 0.0000000000 & 0.0008960573\\\\\n",
       "\t you'r    & 14 & 11 & 25 & 0.0048899756 & 0.0098566308\\\\\n",
       "\t you'v    &  2 &  2 &  4 & 0.0006985679 & 0.0017921147\\\\\n",
       "\t you’ll  &  1 &  0 &  1 & 0.0003492840 & 0.0000000000\\\\\n",
       "\t you’r   &  3 &  1 &  4 & 0.0010478519 & 0.0008960573\\\\\n",
       "\t you’v   &  1 &  0 &  1 & 0.0003492840 & 0.0000000000\\\\\n",
       "\t zion     &  0 &  1 &  1 & 0.0000000000 & 0.0008960573\\\\\n",
       "\\end{tabular}\n"
      ],
      "text/markdown": [
       "\n",
       "A data.frame: 896 × 6\n",
       "\n",
       "| word &lt;chr&gt; | verse &lt;dbl&gt; | chorus &lt;dbl&gt; | total &lt;dbl&gt; | verse_p &lt;dbl&gt; | chorus_p &lt;dbl&gt; |\n",
       "|---|---|---|---|---|---|\n",
       "| abandon    |  0 |  1 |  1 | 0.0000000000 | 0.0008960573 |\n",
       "| abid       |  1 |  0 |  1 | 0.0003492840 | 0.0000000000 |\n",
       "| abl        |  1 |  3 |  4 | 0.0003492840 | 0.0026881720 |\n",
       "| abound     |  2 |  0 |  2 | 0.0006985679 | 0.0000000000 |\n",
       "| abov       | 13 |  6 | 19 | 0.0045406916 | 0.0053763441 |\n",
       "| abund      |  1 |  0 |  1 | 0.0003492840 | 0.0000000000 |\n",
       "| accept     |  1 |  0 |  1 | 0.0003492840 | 0.0000000000 |\n",
       "| acclaim    |  1 |  0 |  1 | 0.0003492840 | 0.0000000000 |\n",
       "| acclam     |  1 |  0 |  1 | 0.0003492840 | 0.0000000000 |\n",
       "| accomplish |  1 |  0 |  1 | 0.0003492840 | 0.0000000000 |\n",
       "| accus      |  1 |  0 |  1 | 0.0003492840 | 0.0000000000 |\n",
       "| act        |  1 |  0 |  1 | 0.0003492840 | 0.0000000000 |\n",
       "| adam       |  1 |  0 |  1 | 0.0003492840 | 0.0000000000 |\n",
       "| ador       |  3 |  0 |  3 | 0.0010478519 | 0.0000000000 |\n",
       "| afflict    |  1 |  0 |  1 | 0.0003492840 | 0.0000000000 |\n",
       "| afford     |  1 |  0 |  1 | 0.0003492840 | 0.0000000000 |\n",
       "| afraid     |  1 |  0 |  1 | 0.0003492840 | 0.0000000000 |\n",
       "| age        |  6 |  0 |  6 | 0.0020957038 | 0.0000000000 |\n",
       "| aliv       |  8 |  4 | 12 | 0.0027942717 | 0.0035842294 |\n",
       "| almighti   |  4 |  0 |  4 | 0.0013971359 | 0.0000000000 |\n",
       "| alon       | 10 |  5 | 15 | 0.0034928397 | 0.0044802867 |\n",
       "| altar      |  0 |  2 |  2 | 0.0000000000 | 0.0017921147 |\n",
       "| altogeth   |  0 |  3 |  3 | 0.0000000000 | 0.0026881720 |\n",
       "| alway      |  4 |  2 |  6 | 0.0013971359 | 0.0017921147 |\n",
       "| amaz       |  5 |  4 |  9 | 0.0017464198 | 0.0035842294 |\n",
       "| amen       |  1 | 11 | 12 | 0.0003492840 | 0.0098566308 |\n",
       "| anchor     |  4 |  1 |  5 | 0.0013971359 | 0.0008960573 |\n",
       "| angel      |  4 |  3 |  7 | 0.0013971359 | 0.0026881720 |\n",
       "| anger      |  1 |  0 |  1 | 0.0003492840 | 0.0000000000 |\n",
       "| ani        |  2 |  1 |  3 | 0.0006985679 | 0.0008960573 |\n",
       "| ... | ... | ... | ... | ... | ... |\n",
       "| wisdom   |  4 |  1 |  5 | 0.0013971359 | 0.0008960573 |\n",
       "| wit      |  1 |  0 |  1 | 0.0003492840 | 0.0000000000 |\n",
       "| womb     |  1 |  0 |  1 | 0.0003492840 | 0.0000000000 |\n",
       "| women    |  1 |  0 |  1 | 0.0003492840 | 0.0000000000 |\n",
       "| won      |  3 |  1 |  4 | 0.0010478519 | 0.0008960573 |\n",
       "| wondrous |  4 |  0 |  4 | 0.0013971359 | 0.0000000000 |\n",
       "| wood     |  1 |  0 |  1 | 0.0003492840 | 0.0000000000 |\n",
       "| word     |  7 |  0 |  7 | 0.0024449878 | 0.0000000000 |\n",
       "| worker   |  0 |  1 |  1 | 0.0000000000 | 0.0008960573 |\n",
       "| world    | 14 |  3 | 17 | 0.0048899756 | 0.0026881720 |\n",
       "| worship  | 17 | 11 | 28 | 0.0059378275 | 0.0098566308 |\n",
       "| worth    |  2 |  1 |  3 | 0.0006985679 | 0.0008960573 |\n",
       "| worthi   |  4 |  9 | 13 | 0.0013971359 | 0.0080645161 |\n",
       "| wound    |  3 |  0 |  3 | 0.0010478519 | 0.0000000000 |\n",
       "| wrap     |  1 |  0 |  1 | 0.0003492840 | 0.0000000000 |\n",
       "| wrath    |  3 |  0 |  3 | 0.0010478519 | 0.0000000000 |\n",
       "| wrestl   |  1 |  0 |  1 | 0.0003492840 | 0.0000000000 |\n",
       "| wretch   |  2 |  0 |  2 | 0.0006985679 | 0.0000000000 |\n",
       "| written  |  1 |  0 |  1 | 0.0003492840 | 0.0000000000 |\n",
       "| wrong    |  1 |  0 |  1 | 0.0003492840 | 0.0000000000 |\n",
       "| ye       |  1 |  1 |  2 | 0.0003492840 | 0.0008960573 |\n",
       "| yeah     |  2 |  2 |  4 | 0.0006985679 | 0.0017921147 |\n",
       "| yearn    |  1 |  0 |  1 | 0.0003492840 | 0.0000000000 |\n",
       "| yield    |  0 |  1 |  1 | 0.0000000000 | 0.0008960573 |\n",
       "| you'r    | 14 | 11 | 25 | 0.0048899756 | 0.0098566308 |\n",
       "| you'v    |  2 |  2 |  4 | 0.0006985679 | 0.0017921147 |\n",
       "| you’ll  |  1 |  0 |  1 | 0.0003492840 | 0.0000000000 |\n",
       "| you’r   |  3 |  1 |  4 | 0.0010478519 | 0.0008960573 |\n",
       "| you’v   |  1 |  0 |  1 | 0.0003492840 | 0.0000000000 |\n",
       "| zion     |  0 |  1 |  1 | 0.0000000000 | 0.0008960573 |\n",
       "\n"
      ],
      "text/plain": [
       "    word       verse chorus total verse_p      chorus_p    \n",
       "1   abandon     0     1      1    0.0000000000 0.0008960573\n",
       "2   abid        1     0      1    0.0003492840 0.0000000000\n",
       "3   abl         1     3      4    0.0003492840 0.0026881720\n",
       "4   abound      2     0      2    0.0006985679 0.0000000000\n",
       "5   abov       13     6     19    0.0045406916 0.0053763441\n",
       "6   abund       1     0      1    0.0003492840 0.0000000000\n",
       "7   accept      1     0      1    0.0003492840 0.0000000000\n",
       "8   acclaim     1     0      1    0.0003492840 0.0000000000\n",
       "9   acclam      1     0      1    0.0003492840 0.0000000000\n",
       "10  accomplish  1     0      1    0.0003492840 0.0000000000\n",
       "11  accus       1     0      1    0.0003492840 0.0000000000\n",
       "12  act         1     0      1    0.0003492840 0.0000000000\n",
       "13  adam        1     0      1    0.0003492840 0.0000000000\n",
       "14  ador        3     0      3    0.0010478519 0.0000000000\n",
       "15  afflict     1     0      1    0.0003492840 0.0000000000\n",
       "16  afford      1     0      1    0.0003492840 0.0000000000\n",
       "17  afraid      1     0      1    0.0003492840 0.0000000000\n",
       "18  age         6     0      6    0.0020957038 0.0000000000\n",
       "19  aliv        8     4     12    0.0027942717 0.0035842294\n",
       "20  almighti    4     0      4    0.0013971359 0.0000000000\n",
       "21  alon       10     5     15    0.0034928397 0.0044802867\n",
       "22  altar       0     2      2    0.0000000000 0.0017921147\n",
       "23  altogeth    0     3      3    0.0000000000 0.0026881720\n",
       "24  alway       4     2      6    0.0013971359 0.0017921147\n",
       "25  amaz        5     4      9    0.0017464198 0.0035842294\n",
       "26  amen        1    11     12    0.0003492840 0.0098566308\n",
       "27  anchor      4     1      5    0.0013971359 0.0008960573\n",
       "28  angel       4     3      7    0.0013971359 0.0026881720\n",
       "29  anger       1     0      1    0.0003492840 0.0000000000\n",
       "30  ani         2     1      3    0.0006985679 0.0008960573\n",
       "... ...        ...   ...    ...   ...          ...         \n",
       "867 wisdom      4     1      5    0.0013971359 0.0008960573\n",
       "868 wit         1     0      1    0.0003492840 0.0000000000\n",
       "869 womb        1     0      1    0.0003492840 0.0000000000\n",
       "870 women       1     0      1    0.0003492840 0.0000000000\n",
       "871 won         3     1      4    0.0010478519 0.0008960573\n",
       "872 wondrous    4     0      4    0.0013971359 0.0000000000\n",
       "873 wood        1     0      1    0.0003492840 0.0000000000\n",
       "874 word        7     0      7    0.0024449878 0.0000000000\n",
       "875 worker      0     1      1    0.0000000000 0.0008960573\n",
       "876 world      14     3     17    0.0048899756 0.0026881720\n",
       "877 worship    17    11     28    0.0059378275 0.0098566308\n",
       "878 worth       2     1      3    0.0006985679 0.0008960573\n",
       "879 worthi      4     9     13    0.0013971359 0.0080645161\n",
       "880 wound       3     0      3    0.0010478519 0.0000000000\n",
       "881 wrap        1     0      1    0.0003492840 0.0000000000\n",
       "882 wrath       3     0      3    0.0010478519 0.0000000000\n",
       "883 wrestl      1     0      1    0.0003492840 0.0000000000\n",
       "884 wretch      2     0      2    0.0006985679 0.0000000000\n",
       "885 written     1     0      1    0.0003492840 0.0000000000\n",
       "886 wrong       1     0      1    0.0003492840 0.0000000000\n",
       "887 ye          1     1      2    0.0003492840 0.0008960573\n",
       "888 yeah        2     2      4    0.0006985679 0.0017921147\n",
       "889 yearn       1     0      1    0.0003492840 0.0000000000\n",
       "890 yield       0     1      1    0.0000000000 0.0008960573\n",
       "891 you'r      14    11     25    0.0048899756 0.0098566308\n",
       "892 you'v       2     2      4    0.0006985679 0.0017921147\n",
       "893 you’ll     1     0      1    0.0003492840 0.0000000000\n",
       "894 you’r      3     1      4    0.0010478519 0.0008960573\n",
       "895 you’v      1     0      1    0.0003492840 0.0000000000\n",
       "896 zion        0     1      1    0.0000000000 0.0008960573"
      ]
     },
     "metadata": {},
     "output_type": "display_data"
    }
   ],
   "source": [
    "merged"
   ]
  },
  {
   "cell_type": "code",
   "execution_count": 32,
   "metadata": {},
   "outputs": [],
   "source": [
    "selected = merged %>% filter(total > 20)"
   ]
  },
  {
   "cell_type": "code",
   "execution_count": 33,
   "metadata": {},
   "outputs": [
    {
     "data": {
      "text/html": [
       "<table>\n",
       "<caption>A data.frame: 30 × 6</caption>\n",
       "<thead>\n",
       "\t<tr><th scope=col>word</th><th scope=col>verse</th><th scope=col>chorus</th><th scope=col>total</th><th scope=col>verse_p</th><th scope=col>chorus_p</th></tr>\n",
       "\t<tr><th scope=col>&lt;chr&gt;</th><th scope=col>&lt;dbl&gt;</th><th scope=col>&lt;dbl&gt;</th><th scope=col>&lt;dbl&gt;</th><th scope=col>&lt;dbl&gt;</th><th scope=col>&lt;dbl&gt;</th></tr>\n",
       "</thead>\n",
       "<tbody>\n",
       "\t<tr><td>bless  </td><td>15</td><td> 6</td><td> 21</td><td>0.005239260</td><td>0.005376344</td></tr>\n",
       "\t<tr><td>christ </td><td>37</td><td>18</td><td> 55</td><td>0.012923507</td><td>0.016129032</td></tr>\n",
       "\t<tr><td>day    </td><td>24</td><td> 9</td><td> 33</td><td>0.008382815</td><td>0.008064516</td></tr>\n",
       "\t<tr><td>ev'ri  </td><td>20</td><td> 5</td><td> 25</td><td>0.006985679</td><td>0.004480287</td></tr>\n",
       "\t<tr><td>everi  </td><td>12</td><td>11</td><td> 23</td><td>0.004191408</td><td>0.009856631</td></tr>\n",
       "\t<tr><td>faith  </td><td>14</td><td>11</td><td> 25</td><td>0.004889976</td><td>0.009856631</td></tr>\n",
       "\t<tr><td>fear   </td><td>18</td><td> 3</td><td> 21</td><td>0.006287111</td><td>0.002688172</td></tr>\n",
       "\t<tr><td>forev  </td><td>20</td><td>22</td><td> 42</td><td>0.006985679</td><td>0.019713262</td></tr>\n",
       "\t<tr><td>glori  </td><td>20</td><td> 9</td><td> 29</td><td>0.006985679</td><td>0.008064516</td></tr>\n",
       "\t<tr><td>god    </td><td>45</td><td>67</td><td>112</td><td>0.015717779</td><td>0.060035842</td></tr>\n",
       "\t<tr><td>grace  </td><td>26</td><td> 9</td><td> 35</td><td>0.009081383</td><td>0.008064516</td></tr>\n",
       "\t<tr><td>hand   </td><td>18</td><td> 5</td><td> 23</td><td>0.006287111</td><td>0.004480287</td></tr>\n",
       "\t<tr><td>heart  </td><td>37</td><td>14</td><td> 51</td><td>0.012923507</td><td>0.012544803</td></tr>\n",
       "\t<tr><td>heaven </td><td>17</td><td> 7</td><td> 24</td><td>0.005937827</td><td>0.006272401</td></tr>\n",
       "\t<tr><td>hope   </td><td>24</td><td> 5</td><td> 29</td><td>0.008382815</td><td>0.004480287</td></tr>\n",
       "\t<tr><td>jesus  </td><td>55</td><td>35</td><td> 90</td><td>0.019210618</td><td>0.031362007</td></tr>\n",
       "\t<tr><td>king   </td><td>37</td><td>15</td><td> 52</td><td>0.012923507</td><td>0.013440860</td></tr>\n",
       "\t<tr><td>life   </td><td>29</td><td>12</td><td> 41</td><td>0.010129235</td><td>0.010752688</td></tr>\n",
       "\t<tr><td>lift   </td><td> 8</td><td>14</td><td> 22</td><td>0.002794272</td><td>0.012544803</td></tr>\n",
       "\t<tr><td>live   </td><td>17</td><td>10</td><td> 27</td><td>0.005937827</td><td>0.008960573</td></tr>\n",
       "\t<tr><td>lord   </td><td>64</td><td>35</td><td> 99</td><td>0.022354174</td><td>0.031362007</td></tr>\n",
       "\t<tr><td>love   </td><td>55</td><td>30</td><td> 85</td><td>0.019210618</td><td>0.026881720</td></tr>\n",
       "\t<tr><td>merci  </td><td>17</td><td> 7</td><td> 24</td><td>0.005937827</td><td>0.006272401</td></tr>\n",
       "\t<tr><td>prais  </td><td>24</td><td>23</td><td> 47</td><td>0.008382815</td><td>0.020609319</td></tr>\n",
       "\t<tr><td>sin    </td><td>23</td><td> 3</td><td> 26</td><td>0.008033531</td><td>0.002688172</td></tr>\n",
       "\t<tr><td>sing   </td><td>26</td><td>15</td><td> 41</td><td>0.009081383</td><td>0.013440860</td></tr>\n",
       "\t<tr><td>son    </td><td>16</td><td> 6</td><td> 22</td><td>0.005588543</td><td>0.005376344</td></tr>\n",
       "\t<tr><td>soul   </td><td>17</td><td>14</td><td> 31</td><td>0.005937827</td><td>0.012544803</td></tr>\n",
       "\t<tr><td>worship</td><td>17</td><td>11</td><td> 28</td><td>0.005937827</td><td>0.009856631</td></tr>\n",
       "\t<tr><td>you'r  </td><td>14</td><td>11</td><td> 25</td><td>0.004889976</td><td>0.009856631</td></tr>\n",
       "</tbody>\n",
       "</table>\n"
      ],
      "text/latex": [
       "A data.frame: 30 × 6\n",
       "\\begin{tabular}{llllll}\n",
       " word & verse & chorus & total & verse\\_p & chorus\\_p\\\\\n",
       " <chr> & <dbl> & <dbl> & <dbl> & <dbl> & <dbl>\\\\\n",
       "\\hline\n",
       "\t bless   & 15 &  6 &  21 & 0.005239260 & 0.005376344\\\\\n",
       "\t christ  & 37 & 18 &  55 & 0.012923507 & 0.016129032\\\\\n",
       "\t day     & 24 &  9 &  33 & 0.008382815 & 0.008064516\\\\\n",
       "\t ev'ri   & 20 &  5 &  25 & 0.006985679 & 0.004480287\\\\\n",
       "\t everi   & 12 & 11 &  23 & 0.004191408 & 0.009856631\\\\\n",
       "\t faith   & 14 & 11 &  25 & 0.004889976 & 0.009856631\\\\\n",
       "\t fear    & 18 &  3 &  21 & 0.006287111 & 0.002688172\\\\\n",
       "\t forev   & 20 & 22 &  42 & 0.006985679 & 0.019713262\\\\\n",
       "\t glori   & 20 &  9 &  29 & 0.006985679 & 0.008064516\\\\\n",
       "\t god     & 45 & 67 & 112 & 0.015717779 & 0.060035842\\\\\n",
       "\t grace   & 26 &  9 &  35 & 0.009081383 & 0.008064516\\\\\n",
       "\t hand    & 18 &  5 &  23 & 0.006287111 & 0.004480287\\\\\n",
       "\t heart   & 37 & 14 &  51 & 0.012923507 & 0.012544803\\\\\n",
       "\t heaven  & 17 &  7 &  24 & 0.005937827 & 0.006272401\\\\\n",
       "\t hope    & 24 &  5 &  29 & 0.008382815 & 0.004480287\\\\\n",
       "\t jesus   & 55 & 35 &  90 & 0.019210618 & 0.031362007\\\\\n",
       "\t king    & 37 & 15 &  52 & 0.012923507 & 0.013440860\\\\\n",
       "\t life    & 29 & 12 &  41 & 0.010129235 & 0.010752688\\\\\n",
       "\t lift    &  8 & 14 &  22 & 0.002794272 & 0.012544803\\\\\n",
       "\t live    & 17 & 10 &  27 & 0.005937827 & 0.008960573\\\\\n",
       "\t lord    & 64 & 35 &  99 & 0.022354174 & 0.031362007\\\\\n",
       "\t love    & 55 & 30 &  85 & 0.019210618 & 0.026881720\\\\\n",
       "\t merci   & 17 &  7 &  24 & 0.005937827 & 0.006272401\\\\\n",
       "\t prais   & 24 & 23 &  47 & 0.008382815 & 0.020609319\\\\\n",
       "\t sin     & 23 &  3 &  26 & 0.008033531 & 0.002688172\\\\\n",
       "\t sing    & 26 & 15 &  41 & 0.009081383 & 0.013440860\\\\\n",
       "\t son     & 16 &  6 &  22 & 0.005588543 & 0.005376344\\\\\n",
       "\t soul    & 17 & 14 &  31 & 0.005937827 & 0.012544803\\\\\n",
       "\t worship & 17 & 11 &  28 & 0.005937827 & 0.009856631\\\\\n",
       "\t you'r   & 14 & 11 &  25 & 0.004889976 & 0.009856631\\\\\n",
       "\\end{tabular}\n"
      ],
      "text/markdown": [
       "\n",
       "A data.frame: 30 × 6\n",
       "\n",
       "| word &lt;chr&gt; | verse &lt;dbl&gt; | chorus &lt;dbl&gt; | total &lt;dbl&gt; | verse_p &lt;dbl&gt; | chorus_p &lt;dbl&gt; |\n",
       "|---|---|---|---|---|---|\n",
       "| bless   | 15 |  6 |  21 | 0.005239260 | 0.005376344 |\n",
       "| christ  | 37 | 18 |  55 | 0.012923507 | 0.016129032 |\n",
       "| day     | 24 |  9 |  33 | 0.008382815 | 0.008064516 |\n",
       "| ev'ri   | 20 |  5 |  25 | 0.006985679 | 0.004480287 |\n",
       "| everi   | 12 | 11 |  23 | 0.004191408 | 0.009856631 |\n",
       "| faith   | 14 | 11 |  25 | 0.004889976 | 0.009856631 |\n",
       "| fear    | 18 |  3 |  21 | 0.006287111 | 0.002688172 |\n",
       "| forev   | 20 | 22 |  42 | 0.006985679 | 0.019713262 |\n",
       "| glori   | 20 |  9 |  29 | 0.006985679 | 0.008064516 |\n",
       "| god     | 45 | 67 | 112 | 0.015717779 | 0.060035842 |\n",
       "| grace   | 26 |  9 |  35 | 0.009081383 | 0.008064516 |\n",
       "| hand    | 18 |  5 |  23 | 0.006287111 | 0.004480287 |\n",
       "| heart   | 37 | 14 |  51 | 0.012923507 | 0.012544803 |\n",
       "| heaven  | 17 |  7 |  24 | 0.005937827 | 0.006272401 |\n",
       "| hope    | 24 |  5 |  29 | 0.008382815 | 0.004480287 |\n",
       "| jesus   | 55 | 35 |  90 | 0.019210618 | 0.031362007 |\n",
       "| king    | 37 | 15 |  52 | 0.012923507 | 0.013440860 |\n",
       "| life    | 29 | 12 |  41 | 0.010129235 | 0.010752688 |\n",
       "| lift    |  8 | 14 |  22 | 0.002794272 | 0.012544803 |\n",
       "| live    | 17 | 10 |  27 | 0.005937827 | 0.008960573 |\n",
       "| lord    | 64 | 35 |  99 | 0.022354174 | 0.031362007 |\n",
       "| love    | 55 | 30 |  85 | 0.019210618 | 0.026881720 |\n",
       "| merci   | 17 |  7 |  24 | 0.005937827 | 0.006272401 |\n",
       "| prais   | 24 | 23 |  47 | 0.008382815 | 0.020609319 |\n",
       "| sin     | 23 |  3 |  26 | 0.008033531 | 0.002688172 |\n",
       "| sing    | 26 | 15 |  41 | 0.009081383 | 0.013440860 |\n",
       "| son     | 16 |  6 |  22 | 0.005588543 | 0.005376344 |\n",
       "| soul    | 17 | 14 |  31 | 0.005937827 | 0.012544803 |\n",
       "| worship | 17 | 11 |  28 | 0.005937827 | 0.009856631 |\n",
       "| you'r   | 14 | 11 |  25 | 0.004889976 | 0.009856631 |\n",
       "\n"
      ],
      "text/plain": [
       "   word    verse chorus total verse_p     chorus_p   \n",
       "1  bless   15     6      21   0.005239260 0.005376344\n",
       "2  christ  37    18      55   0.012923507 0.016129032\n",
       "3  day     24     9      33   0.008382815 0.008064516\n",
       "4  ev'ri   20     5      25   0.006985679 0.004480287\n",
       "5  everi   12    11      23   0.004191408 0.009856631\n",
       "6  faith   14    11      25   0.004889976 0.009856631\n",
       "7  fear    18     3      21   0.006287111 0.002688172\n",
       "8  forev   20    22      42   0.006985679 0.019713262\n",
       "9  glori   20     9      29   0.006985679 0.008064516\n",
       "10 god     45    67     112   0.015717779 0.060035842\n",
       "11 grace   26     9      35   0.009081383 0.008064516\n",
       "12 hand    18     5      23   0.006287111 0.004480287\n",
       "13 heart   37    14      51   0.012923507 0.012544803\n",
       "14 heaven  17     7      24   0.005937827 0.006272401\n",
       "15 hope    24     5      29   0.008382815 0.004480287\n",
       "16 jesus   55    35      90   0.019210618 0.031362007\n",
       "17 king    37    15      52   0.012923507 0.013440860\n",
       "18 life    29    12      41   0.010129235 0.010752688\n",
       "19 lift     8    14      22   0.002794272 0.012544803\n",
       "20 live    17    10      27   0.005937827 0.008960573\n",
       "21 lord    64    35      99   0.022354174 0.031362007\n",
       "22 love    55    30      85   0.019210618 0.026881720\n",
       "23 merci   17     7      24   0.005937827 0.006272401\n",
       "24 prais   24    23      47   0.008382815 0.020609319\n",
       "25 sin     23     3      26   0.008033531 0.002688172\n",
       "26 sing    26    15      41   0.009081383 0.013440860\n",
       "27 son     16     6      22   0.005588543 0.005376344\n",
       "28 soul    17    14      31   0.005937827 0.012544803\n",
       "29 worship 17    11      28   0.005937827 0.009856631\n",
       "30 you'r   14    11      25   0.004889976 0.009856631"
      ]
     },
     "metadata": {},
     "output_type": "display_data"
    }
   ],
   "source": [
    "selected"
   ]
  },
  {
   "cell_type": "code",
   "execution_count": 34,
   "metadata": {},
   "outputs": [],
   "source": [
    "max_p = max(selected$verse_p, selected$chorus_p)"
   ]
  },
  {
   "cell_type": "code",
   "execution_count": 35,
   "metadata": {},
   "outputs": [
    {
     "data": {
      "image/png": "[encoded data removed]",
      "text/plain": [
       "plot without title"
      ]
     },
     "metadata": {
      "image/png": {
       "height": 600,
       "width": 600
      }
     },
     "output_type": "display_data"
    }
   ],
   "source": [
    "plot(selected$verse_p, selected$chorus_p, xlab='Verse', ylab='Chorus', xlim=c(0,max_p), ylim=c(0,max_p), type='n')\n",
    "text(selected$verse_p, selected$chorus_p, labels=selected$word)\n",
    "abline(a=0, b=1)"
   ]
  },
  {
   "cell_type": "code",
   "execution_count": 36,
   "metadata": {},
   "outputs": [
    {
     "data": {
      "image/png": "[encoded data removed]",
      "text/plain": [
       "plot without title"
      ]
     },
     "metadata": {
      "image/png": {
       "height": 600,
       "width": 600
      }
     },
     "output_type": "display_data"
    }
   ],
   "source": [
    "plot(selected$verse_p, selected$chorus_p, xlab='Verse', ylab='Chorus', log='xy', type='n')\n",
    "text(selected$verse_p, selected$chorus_p, labels=selected$word)\n",
    "abline(a=0, b=1)"
   ]
  },
  {
   "cell_type": "markdown",
   "metadata": {},
   "source": [
    "## Odds Ratio(OR)\n",
    "\n",
    "\n",
    "$$\n",
    "OR=\\frac{a/c}{b/d}=\\frac{ad}{bc}\n",
    "$$\n",
    "\n",
    "\n",
    "| _ | case | non-case |\n",
    "| ---: | :---: | :---: |\n",
    "| target | ***a*** | ***b*** |\n",
    "| reference | ***c*** | ***d*** |\n",
    "\n",
    "a: target, case = (number of occurence in target)\n",
    "\n",
    "b: target, non-case = n(target) - a\n",
    "\n",
    "c: reference, case = (number of occurence in reference)\n",
    "\n",
    "d: reference, non-case = n(reference) - d\n",
    "\n",
    "\\* To avoid zero-divide error, add 0.5 to each cell (Huldane-Anscomb correction)\n"
   ]
  },
  {
   "cell_type": "markdown",
   "metadata": {},
   "source": []
  },
  {
   "cell_type": "code",
   "execution_count": 37,
   "metadata": {},
   "outputs": [],
   "source": [
    "# chorus(target) vs. verse(reference)\n",
    "a = merged$chorus + 0.5\n",
    "b = sum(merged$chorus) - merged$chorus + 0.5\n",
    "c = merged$verse + 0.5\n",
    "d = sum(merged$verse) - merged$verse + 0.5\n",
    "\n",
    "\n",
    "\n",
    "merged['odds_ratio'] = (a*d) / (b * c)\n",
    "merged['log_OR'] = merged['odds_ratio']  %>% log()\n"
   ]
  },
  {
   "cell_type": "code",
   "execution_count": 38,
   "metadata": {},
   "outputs": [],
   "source": [
    "top = merged %>% filter(total > 10) %>% arrange(desc(odds_ratio)) %>% head(20)\n",
    "bottom = merged %>% filter(total > 10) %>% arrange(desc(odds_ratio)) %>% tail(20)\n",
    "binded = rbind(top, bottom)"
   ]
  },
  {
   "cell_type": "code",
   "execution_count": null,
   "metadata": {},
   "outputs": [],
   "source": []
  },
  {
   "cell_type": "code",
   "execution_count": null,
   "metadata": {},
   "outputs": [],
   "source": [
    "# selected = merged %>% filter(total > 10)"
   ]
  },
  {
   "cell_type": "code",
   "execution_count": 39,
   "metadata": {},
   "outputs": [
    {
     "data": {
      "image/png": "[encoded data removed]",
      "text/plain": [
       "Plot with title \"Word occurence OR: Chorus vs. Verse (top & bottom 15)\""
      ]
     },
     "metadata": {
      "image/png": {
       "height": 600,
       "width": 720
      }
     },
     "output_type": "display_data"
    }
   ],
   "source": [
    "options(repr.plot.width=12, repr.plot.height=10)\n",
    "par(cex=1)\n",
    "v_min = floor(min(binded$log_OR)) - 1\n",
    "v_max = ceiling(max(binded$log_OR)) + 1\n",
    "\n",
    "binded %>% \n",
    "    arrange(log_OR) %>%\n",
    "    with(barplot(log_OR, names.arg=word, horiz=T, las=1, main='Word occurence OR: Chorus vs. Verse (top & bottom 15)', xlab='Odds Ratio in log scale', xaxt='n'))\n",
    "\n",
    "axis(1, at=(v_min:v_max)*log(2), labels=2^(v_min:v_max))"
   ]
  },
  {
   "cell_type": "code",
   "execution_count": null,
   "metadata": {},
   "outputs": [],
   "source": [
    "# binded %>% \n",
    "    # with(barplot(odds_ratio, names.arg=word, horiz=T, las=1, main='Word occurence OR: Chorus vs. Verse (top & bottom 15)', xlab='Odds Ratio in log scale', log='x'))\n"
   ]
  }
 ],
 "metadata": {
  "kernelspec": {
   "display_name": "R",
   "language": "R",
   "name": "ir"
  },
  "language_info": {
   "codemirror_mode": "r",
   "file_extension": ".r",
   "mimetype": "text/x-r-source",
   "name": "R",
   "pygments_lexer": "r",
   "version": "4.0.2"
  }
 },
 "nbformat": 4,
 "nbformat_minor": 2
}
