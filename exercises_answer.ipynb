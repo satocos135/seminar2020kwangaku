{
 "cells": [
  {
   "cell_type": "markdown",
   "metadata": {},
   "source": [
    "# テキスト分析のためのR入門：エクササイズ\n"
   ]
  },
  {
   "cell_type": "markdown",
   "metadata": {},
   "source": [
    "## Ex.1 ファイル操作の基本\n",
    "\n",
    "1. デスクトップ上に新しいフォルダを作成しなさい。フォルダ名は`R入門20201228`とすること\n",
    "1. コマンドプロンプトを起動し、cdコマンドでカレントフォルダを確認しなさい\n",
    "    + ヒント：「ファイル名を指名して実行」(`Win+R`)で`cmd`と入力(Windowsの場合)\n",
    "\n",
    "1. cdコマンドを使って、(1)で作ったフォルダに移動しなさい\n",
    "    + ヒント：フォルダを右クリック→プロパティから、親フォルダの場所を確認できる(Windowsの場合)\n",
    "1. cdコマンドを使って、親フォルダに移動しなさい\n",
    "1. `cd ~ `を入力して実行しなさい\n"
   ]
  },
  {
   "cell_type": "markdown",
   "metadata": {},
   "source": [
    "## Ex.2 RStudio(講義では割愛)\n",
    "\n",
    "1. RStudioから新規Rスクリプトを作成しなさい\n",
    "    + ヒント： File > New File > R Script\n",
    "1. (1)で作ったRスクリプトをEx.1で作ったフォルダに保存しなさい。ファイル名は`r_intro.r`とすること\n",
    "1. 一度RStudio上でファイルを閉じ、(2)で作ったファイルを開き直しなさい\n",
    "1. エディタ上でRスクリプトに`print('hello')`と入力し、実行しなさい\n",
    "    + ヒント：実行したい部分を選択して`Ctrl(command) + Enter`でスクリプトを実行できる\n"
   ]
  },
  {
   "cell_type": "markdown",
   "metadata": {},
   "source": [
    "## Ex.3 はじめに覚えておくこと\n",
    "\n",
    "1. コンソールに`# print('comment')`と入力して実行し、実行結果が __出ない__ ことを確認しなさい\n"
   ]
  },
  {
   "cell_type": "code",
   "execution_count": 1,
   "metadata": {},
   "outputs": [],
   "source": [
    "# print('comment')"
   ]
  },
  {
   "cell_type": "markdown",
   "metadata": {},
   "source": [
    "2. エディタ上で`?mean`と入力して実行し、ヘルプが表示されることを確認しなさい\n"
   ]
  },
  {
   "cell_type": "code",
   "execution_count": 2,
   "metadata": {},
   "outputs": [
    {
     "data": {
      "text/html": [
       "\n",
       "<table width=\"100%\" summary=\"page for mean {base}\"><tr><td>mean {base}</td><td style=\"text-align: right;\">R Documentation</td></tr></table>\n",
       "\n",
       "<h2>Arithmetic Mean</h2>\n",
       "\n",
       "<h3>Description</h3>\n",
       "\n",
       "<p>Generic function for the (trimmed) arithmetic mean.\n",
       "</p>\n",
       "\n",
       "\n",
       "<h3>Usage</h3>\n",
       "\n",
       "<pre>\n",
       "mean(x, ...)\n",
       "\n",
       "## Default S3 method:\n",
       "mean(x, trim = 0, na.rm = FALSE, ...)\n",
       "</pre>\n",
       "\n",
       "\n",
       "<h3>Arguments</h3>\n",
       "\n",
       "<table summary=\"R argblock\">\n",
       "<tr valign=\"top\"><td><code>x</code></td>\n",
       "<td>\n",
       "<p>An <span style=\"font-family: Courier New, Courier; color: #666666;\"><b>R</b></span> object.  Currently there are methods for\n",
       "numeric/logical vectors and date,\n",
       "date-time and time interval objects.  Complex vectors\n",
       "are allowed for <code>trim = 0</code>, only.</p>\n",
       "</td></tr>\n",
       "<tr valign=\"top\"><td><code>trim</code></td>\n",
       "<td>\n",
       "<p>the fraction (0 to 0.5) of observations to be\n",
       "trimmed from each end of <code>x</code> before the mean is computed.\n",
       "Values of trim outside that range are taken as the nearest endpoint.\n",
       "</p>\n",
       "</td></tr>\n",
       "<tr valign=\"top\"><td><code>na.rm</code></td>\n",
       "<td>\n",
       "<p>a logical value indicating whether <code>NA</code>\n",
       "values should be stripped before the computation proceeds.</p>\n",
       "</td></tr>\n",
       "<tr valign=\"top\"><td><code>...</code></td>\n",
       "<td>\n",
       "<p>further arguments passed to or from other methods.</p>\n",
       "</td></tr>\n",
       "</table>\n",
       "\n",
       "\n",
       "<h3>Value</h3>\n",
       "\n",
       "<p>If <code>trim</code> is zero (the default), the arithmetic mean of the\n",
       "values in <code>x</code> is computed, as a numeric or complex vector of\n",
       "length one.  If <code>x</code> is not logical (coerced to numeric), numeric\n",
       "(including integer) or complex, <code>NA_real_</code> is returned, with a warning.\n",
       "</p>\n",
       "<p>If <code>trim</code> is non-zero, a symmetrically trimmed mean is computed\n",
       "with a fraction of <code>trim</code> observations deleted from each end\n",
       "before the mean is computed.\n",
       "</p>\n",
       "\n",
       "\n",
       "<h3>References</h3>\n",
       "\n",
       "<p>Becker, R. A., Chambers, J. M. and Wilks, A. R. (1988)\n",
       "<em>The New S Language</em>.\n",
       "Wadsworth &amp; Brooks/Cole.\n",
       "</p>\n",
       "\n",
       "\n",
       "<h3>See Also</h3>\n",
       "\n",
       "<p><code>weighted.mean</code>, <code>mean.POSIXct</code>,\n",
       "<code>colMeans</code> for row and column means.\n",
       "</p>\n",
       "\n",
       "\n",
       "<h3>Examples</h3>\n",
       "\n",
       "<pre>\n",
       "x &lt;- c(0:10, 50)\n",
       "xm &lt;- mean(x)\n",
       "c(xm, mean(x, trim = 0.10))\n",
       "</pre>\n",
       "\n",
       "<hr /><div style=\"text-align: center;\">[Package <em>base</em> version 4.0.2 ]</div>"
      ],
      "text/latex": [
       "\\inputencoding{utf8}\n",
       "\\HeaderA{mean}{Arithmetic Mean}{mean}\n",
       "\\methaliasA{mean.default}{mean}{mean.default}\n",
       "\\keyword{univar}{mean}\n",
       "%\n",
       "\\begin{Description}\\relax\n",
       "Generic function for the (trimmed) arithmetic mean.\n",
       "\\end{Description}\n",
       "%\n",
       "\\begin{Usage}\n",
       "\\begin{verbatim}\n",
       "mean(x, ...)\n",
       "\n",
       "## Default S3 method:\n",
       "mean(x, trim = 0, na.rm = FALSE, ...)\n",
       "\\end{verbatim}\n",
       "\\end{Usage}\n",
       "%\n",
       "\\begin{Arguments}\n",
       "\\begin{ldescription}\n",
       "\\item[\\code{x}] An \\R{} object.  Currently there are methods for\n",
       "numeric/logical vectors and \\LinkA{date}{Dates},\n",
       "\\LinkA{date-time}{date.Rdash.time} and \\LinkA{time interval}{time interval} objects.  Complex vectors\n",
       "are allowed for \\code{trim = 0}, only.\n",
       "\\item[\\code{trim}] the fraction (0 to 0.5) of observations to be\n",
       "trimmed from each end of \\code{x} before the mean is computed.\n",
       "Values of trim outside that range are taken as the nearest endpoint.\n",
       "\n",
       "\\item[\\code{na.rm}] a logical value indicating whether \\code{NA}\n",
       "values should be stripped before the computation proceeds.\n",
       "\\item[\\code{...}] further arguments passed to or from other methods.\n",
       "\\end{ldescription}\n",
       "\\end{Arguments}\n",
       "%\n",
       "\\begin{Value}\n",
       "If \\code{trim} is zero (the default), the arithmetic mean of the\n",
       "values in \\code{x} is computed, as a numeric or complex vector of\n",
       "length one.  If \\code{x} is not logical (coerced to numeric), numeric\n",
       "(including integer) or complex, \\code{NA\\_real\\_} is returned, with a warning.\n",
       "\n",
       "If \\code{trim} is non-zero, a symmetrically trimmed mean is computed\n",
       "with a fraction of \\code{trim} observations deleted from each end\n",
       "before the mean is computed.\n",
       "\\end{Value}\n",
       "%\n",
       "\\begin{References}\\relax\n",
       "Becker, R. A., Chambers, J. M. and Wilks, A. R. (1988)\n",
       "\\emph{The New S Language}.\n",
       "Wadsworth \\& Brooks/Cole.\n",
       "\\end{References}\n",
       "%\n",
       "\\begin{SeeAlso}\\relax\n",
       "\\code{\\LinkA{weighted.mean}{weighted.mean}}, \\code{\\LinkA{mean.POSIXct}{mean.POSIXct}},\n",
       "\\code{\\LinkA{colMeans}{colMeans}} for row and column means.\n",
       "\\end{SeeAlso}\n",
       "%\n",
       "\\begin{Examples}\n",
       "\\begin{ExampleCode}\n",
       "x <- c(0:10, 50)\n",
       "xm <- mean(x)\n",
       "c(xm, mean(x, trim = 0.10))\n",
       "\\end{ExampleCode}\n",
       "\\end{Examples}"
      ],
      "text/plain": [
       "mean                   package:base                    R Documentation\n",
       "\n",
       "_\bA_\br_\bi_\bt_\bh_\bm_\be_\bt_\bi_\bc _\bM_\be_\ba_\bn\n",
       "\n",
       "_\bD_\be_\bs_\bc_\br_\bi_\bp_\bt_\bi_\bo_\bn:\n",
       "\n",
       "     Generic function for the (trimmed) arithmetic mean.\n",
       "\n",
       "_\bU_\bs_\ba_\bg_\be:\n",
       "\n",
       "     mean(x, ...)\n",
       "     \n",
       "     ## Default S3 method:\n",
       "     mean(x, trim = 0, na.rm = FALSE, ...)\n",
       "     \n",
       "_\bA_\br_\bg_\bu_\bm_\be_\bn_\bt_\bs:\n",
       "\n",
       "       x: An R object.  Currently there are methods for numeric/logical\n",
       "          vectors and date, date-time and time interval objects.\n",
       "          Complex vectors are allowed for 'trim = 0', only.\n",
       "\n",
       "    trim: the fraction (0 to 0.5) of observations to be trimmed from\n",
       "          each end of 'x' before the mean is computed.  Values of trim\n",
       "          outside that range are taken as the nearest endpoint.\n",
       "\n",
       "   na.rm: a logical value indicating whether 'NA' values should be\n",
       "          stripped before the computation proceeds.\n",
       "\n",
       "     ...: further arguments passed to or from other methods.\n",
       "\n",
       "_\bV_\ba_\bl_\bu_\be:\n",
       "\n",
       "     If 'trim' is zero (the default), the arithmetic mean of the values\n",
       "     in 'x' is computed, as a numeric or complex vector of length one.\n",
       "     If 'x' is not logical (coerced to numeric), numeric (including\n",
       "     integer) or complex, 'NA_real_' is returned, with a warning.\n",
       "\n",
       "     If 'trim' is non-zero, a symmetrically trimmed mean is computed\n",
       "     with a fraction of 'trim' observations deleted from each end\n",
       "     before the mean is computed.\n",
       "\n",
       "_\bR_\be_\bf_\be_\br_\be_\bn_\bc_\be_\bs:\n",
       "\n",
       "     Becker, R. A., Chambers, J. M. and Wilks, A. R. (1988) _The New S\n",
       "     Language_.  Wadsworth & Brooks/Cole.\n",
       "\n",
       "_\bS_\be_\be _\bA_\bl_\bs_\bo:\n",
       "\n",
       "     'weighted.mean', 'mean.POSIXct', 'colMeans' for row and column\n",
       "     means.\n",
       "\n",
       "_\bE_\bx_\ba_\bm_\bp_\bl_\be_\bs:\n",
       "\n",
       "     x <- c(0:10, 50)\n",
       "     xm <- mean(x)\n",
       "     c(xm, mean(x, trim = 0.10))\n",
       "     "
      ]
     },
     "metadata": {},
     "output_type": "display_data"
    }
   ],
   "source": [
    "?mean"
   ]
  },
  {
   "cell_type": "markdown",
   "metadata": {},
   "source": [
    "3. `getwd()`を実行して作業ディレクトリを確認しなさい"
   ]
  },
  {
   "cell_type": "code",
   "execution_count": 3,
   "metadata": {},
   "outputs": [],
   "source": [
    "# 省略"
   ]
  },
  {
   "cell_type": "markdown",
   "metadata": {},
   "source": [
    "4. setwd()関数を使ってEx.1-1で作ったフォルダを作業ディレクトリに設定しなさい"
   ]
  },
  {
   "cell_type": "code",
   "execution_count": 4,
   "metadata": {},
   "outputs": [],
   "source": [
    "# 省略"
   ]
  },
  {
   "cell_type": "markdown",
   "metadata": {},
   "source": [
    "5. 以下を順に実行しなさい\n",
    "\n",
    "(1) `test = 1`\n"
   ]
  },
  {
   "cell_type": "code",
   "execution_count": 5,
   "metadata": {},
   "outputs": [],
   "source": [
    "test = 1"
   ]
  },
  {
   "cell_type": "markdown",
   "metadata": {},
   "source": [
    "(2) `print(test)`"
   ]
  },
  {
   "cell_type": "code",
   "execution_count": 6,
   "metadata": {},
   "outputs": [
    {
     "name": "stdout",
     "output_type": "stream",
     "text": [
      "[1] 1\n"
     ]
    }
   ],
   "source": [
    "print(test)"
   ]
  },
  {
   "cell_type": "markdown",
   "metadata": {},
   "source": [
    "(3) `print(TEST)` (エラーが出ることを確認する)"
   ]
  },
  {
   "cell_type": "code",
   "execution_count": 7,
   "metadata": {},
   "outputs": [],
   "source": [
    "# 省略"
   ]
  },
  {
   "cell_type": "markdown",
   "metadata": {},
   "source": [
    "(4) `'TEST' == 'test'`\n"
   ]
  },
  {
   "cell_type": "code",
   "execution_count": 8,
   "metadata": {},
   "outputs": [
    {
     "data": {
      "text/html": [
       "FALSE"
      ],
      "text/latex": [
       "FALSE"
      ],
      "text/markdown": [
       "FALSE"
      ],
      "text/plain": [
       "[1] FALSE"
      ]
     },
     "metadata": {},
     "output_type": "display_data"
    }
   ],
   "source": [
    "'TEST' == 'test'"
   ]
  },
  {
   "cell_type": "markdown",
   "metadata": {},
   "source": [
    "(5) `test == 'test'`\n"
   ]
  },
  {
   "cell_type": "code",
   "execution_count": 9,
   "metadata": {},
   "outputs": [
    {
     "data": {
      "text/html": [
       "FALSE"
      ],
      "text/latex": [
       "FALSE"
      ],
      "text/markdown": [
       "FALSE"
      ],
      "text/plain": [
       "[1] FALSE"
      ]
     },
     "metadata": {},
     "output_type": "display_data"
    }
   ],
   "source": [
    "test == 'test'"
   ]
  },
  {
   "cell_type": "markdown",
   "metadata": {},
   "source": [
    "## Ex.4 演算"
   ]
  },
  {
   "cell_type": "markdown",
   "metadata": {},
   "source": [
    "1. [四則演算] x = 3, y = 4, z = 5として以下の値を求めなさい\n",
    "\n"
   ]
  },
  {
   "cell_type": "code",
   "execution_count": 10,
   "metadata": {},
   "outputs": [],
   "source": [
    "x = 3\n",
    "y = 4\n",
    "z = 5"
   ]
  },
  {
   "cell_type": "markdown",
   "metadata": {},
   "source": [
    "(1) xとyとzの和"
   ]
  },
  {
   "cell_type": "code",
   "execution_count": 11,
   "metadata": {},
   "outputs": [
    {
     "data": {
      "text/html": [
       "12"
      ],
      "text/latex": [
       "12"
      ],
      "text/markdown": [
       "12"
      ],
      "text/plain": [
       "[1] 12"
      ]
     },
     "metadata": {},
     "output_type": "display_data"
    }
   ],
   "source": [
    "x + y + z"
   ]
  },
  {
   "cell_type": "markdown",
   "metadata": {},
   "source": [
    "(2) xとyの和をzで割った値\n"
   ]
  },
  {
   "cell_type": "code",
   "execution_count": 12,
   "metadata": {},
   "outputs": [
    {
     "data": {
      "text/html": [
       "1.4"
      ],
      "text/latex": [
       "1.4"
      ],
      "text/markdown": [
       "1.4"
      ],
      "text/plain": [
       "[1] 1.4"
      ]
     },
     "metadata": {},
     "output_type": "display_data"
    }
   ],
   "source": [
    "(x + y) / z"
   ]
  },
  {
   "cell_type": "markdown",
   "metadata": {},
   "source": [
    "(3) zのx乗"
   ]
  },
  {
   "cell_type": "code",
   "execution_count": 13,
   "metadata": {},
   "outputs": [
    {
     "data": {
      "text/html": [
       "125"
      ],
      "text/latex": [
       "125"
      ],
      "text/markdown": [
       "125"
      ],
      "text/plain": [
       "[1] 125"
      ]
     },
     "metadata": {},
     "output_type": "display_data"
    }
   ],
   "source": [
    "z^x"
   ]
  },
  {
   "cell_type": "markdown",
   "metadata": {},
   "source": [
    "(4) zをxで割った商とあまり(整数除算)"
   ]
  },
  {
   "cell_type": "code",
   "execution_count": 14,
   "metadata": {},
   "outputs": [
    {
     "data": {
      "text/html": [
       "1"
      ],
      "text/latex": [
       "1"
      ],
      "text/markdown": [
       "1"
      ],
      "text/plain": [
       "[1] 1"
      ]
     },
     "metadata": {},
     "output_type": "display_data"
    },
    {
     "data": {
      "text/html": [
       "2"
      ],
      "text/latex": [
       "2"
      ],
      "text/markdown": [
       "2"
      ],
      "text/plain": [
       "[1] 2"
      ]
     },
     "metadata": {},
     "output_type": "display_data"
    }
   ],
   "source": [
    "# 商\n",
    "z %/% x \n",
    "# あまり\n",
    "z %% x"
   ]
  },
  {
   "cell_type": "markdown",
   "metadata": {},
   "source": [
    "2. [数学関数] x = c(1,2,3,4,5)として、以下を実行しなさい\n",
    "\n"
   ]
  },
  {
   "cell_type": "code",
   "execution_count": 15,
   "metadata": {},
   "outputs": [],
   "source": [
    "x = c(1, 2, 3, 4, 5)"
   ]
  },
  {
   "cell_type": "markdown",
   "metadata": {},
   "source": [
    "(1) `sum(x)`"
   ]
  },
  {
   "cell_type": "code",
   "execution_count": 16,
   "metadata": {},
   "outputs": [
    {
     "data": {
      "text/html": [
       "15"
      ],
      "text/latex": [
       "15"
      ],
      "text/markdown": [
       "15"
      ],
      "text/plain": [
       "[1] 15"
      ]
     },
     "metadata": {},
     "output_type": "display_data"
    }
   ],
   "source": [
    "sum(x)"
   ]
  },
  {
   "cell_type": "markdown",
   "metadata": {},
   "source": [
    "(2) `mean(x)`\n"
   ]
  },
  {
   "cell_type": "code",
   "execution_count": 17,
   "metadata": {},
   "outputs": [
    {
     "data": {
      "text/html": [
       "3"
      ],
      "text/latex": [
       "3"
      ],
      "text/markdown": [
       "3"
      ],
      "text/plain": [
       "[1] 3"
      ]
     },
     "metadata": {},
     "output_type": "display_data"
    }
   ],
   "source": [
    "mean(x)"
   ]
  },
  {
   "cell_type": "markdown",
   "metadata": {},
   "source": [
    "(3) `sum(x) / length(x)`"
   ]
  },
  {
   "cell_type": "code",
   "execution_count": 18,
   "metadata": {},
   "outputs": [
    {
     "data": {
      "text/html": [
       "3"
      ],
      "text/latex": [
       "3"
      ],
      "text/markdown": [
       "3"
      ],
      "text/plain": [
       "[1] 3"
      ]
     },
     "metadata": {},
     "output_type": "display_data"
    }
   ],
   "source": [
    "sum(x) / length(x)"
   ]
  },
  {
   "cell_type": "markdown",
   "metadata": {},
   "source": [
    "3. [比較演算子] x=1, y=2として以下の計算を実行しなさい\n"
   ]
  },
  {
   "cell_type": "code",
   "execution_count": 19,
   "metadata": {},
   "outputs": [],
   "source": [
    "x = 1\n",
    "y = 2"
   ]
  },
  {
   "cell_type": "markdown",
   "metadata": {},
   "source": [
    "\n",
    "\n",
    "(1) `x == y`"
   ]
  },
  {
   "cell_type": "code",
   "execution_count": 20,
   "metadata": {},
   "outputs": [
    {
     "data": {
      "text/html": [
       "FALSE"
      ],
      "text/latex": [
       "FALSE"
      ],
      "text/markdown": [
       "FALSE"
      ],
      "text/plain": [
       "[1] FALSE"
      ]
     },
     "metadata": {},
     "output_type": "display_data"
    }
   ],
   "source": [
    "x == y"
   ]
  },
  {
   "cell_type": "markdown",
   "metadata": {},
   "source": [
    "(2) `x != y`\n"
   ]
  },
  {
   "cell_type": "code",
   "execution_count": 21,
   "metadata": {},
   "outputs": [
    {
     "data": {
      "text/html": [
       "TRUE"
      ],
      "text/latex": [
       "TRUE"
      ],
      "text/markdown": [
       "TRUE"
      ],
      "text/plain": [
       "[1] TRUE"
      ]
     },
     "metadata": {},
     "output_type": "display_data"
    }
   ],
   "source": [
    "x != y"
   ]
  },
  {
   "cell_type": "markdown",
   "metadata": {},
   "source": [
    "(3) `x > y`"
   ]
  },
  {
   "cell_type": "code",
   "execution_count": 22,
   "metadata": {},
   "outputs": [
    {
     "data": {
      "text/html": [
       "FALSE"
      ],
      "text/latex": [
       "FALSE"
      ],
      "text/markdown": [
       "FALSE"
      ],
      "text/plain": [
       "[1] FALSE"
      ]
     },
     "metadata": {},
     "output_type": "display_data"
    }
   ],
   "source": [
    "x > y"
   ]
  },
  {
   "cell_type": "markdown",
   "metadata": {},
   "source": [
    "(4) `x < y`"
   ]
  },
  {
   "cell_type": "code",
   "execution_count": 23,
   "metadata": {},
   "outputs": [
    {
     "data": {
      "text/html": [
       "TRUE"
      ],
      "text/latex": [
       "TRUE"
      ],
      "text/markdown": [
       "TRUE"
      ],
      "text/plain": [
       "[1] TRUE"
      ]
     },
     "metadata": {},
     "output_type": "display_data"
    }
   ],
   "source": [
    "x < y"
   ]
  },
  {
   "cell_type": "markdown",
   "metadata": {},
   "source": [
    "(5) `x %in% c(2,4)`"
   ]
  },
  {
   "cell_type": "code",
   "execution_count": 24,
   "metadata": {},
   "outputs": [
    {
     "data": {
      "text/html": [
       "FALSE"
      ],
      "text/latex": [
       "FALSE"
      ],
      "text/markdown": [
       "FALSE"
      ],
      "text/plain": [
       "[1] FALSE"
      ]
     },
     "metadata": {},
     "output_type": "display_data"
    }
   ],
   "source": [
    "x %in% c(2,4)"
   ]
  },
  {
   "cell_type": "markdown",
   "metadata": {},
   "source": [
    "(6) `y %in% c(2,4)`\n"
   ]
  },
  {
   "cell_type": "code",
   "execution_count": 25,
   "metadata": {},
   "outputs": [
    {
     "data": {
      "text/html": [
       "TRUE"
      ],
      "text/latex": [
       "TRUE"
      ],
      "text/markdown": [
       "TRUE"
      ],
      "text/plain": [
       "[1] TRUE"
      ]
     },
     "metadata": {},
     "output_type": "display_data"
    }
   ],
   "source": [
    "y %in% c(2,4)"
   ]
  },
  {
   "cell_type": "markdown",
   "metadata": {},
   "source": [
    "4. [論理演算その１] x = c(T, T, F, F), y = c(T, F, T, F)として、以下を実行しなさい\n"
   ]
  },
  {
   "cell_type": "code",
   "execution_count": 26,
   "metadata": {},
   "outputs": [],
   "source": [
    "x = c(T, T, F, F)\n",
    "y = c(T, F, T, F)"
   ]
  },
  {
   "cell_type": "markdown",
   "metadata": {},
   "source": [
    "(1) `x & y`"
   ]
  },
  {
   "cell_type": "code",
   "execution_count": 27,
   "metadata": {},
   "outputs": [
    {
     "data": {
      "text/html": [
       "<style>\n",
       ".list-inline {list-style: none; margin:0; padding: 0}\n",
       ".list-inline>li {display: inline-block}\n",
       ".list-inline>li:not(:last-child)::after {content: \"\\00b7\"; padding: 0 .5ex}\n",
       "</style>\n",
       "<ol class=list-inline><li>TRUE</li><li>FALSE</li><li>FALSE</li><li>FALSE</li></ol>\n"
      ],
      "text/latex": [
       "\\begin{enumerate*}\n",
       "\\item TRUE\n",
       "\\item FALSE\n",
       "\\item FALSE\n",
       "\\item FALSE\n",
       "\\end{enumerate*}\n"
      ],
      "text/markdown": [
       "1. TRUE\n",
       "2. FALSE\n",
       "3. FALSE\n",
       "4. FALSE\n",
       "\n",
       "\n"
      ],
      "text/plain": [
       "[1]  TRUE FALSE FALSE FALSE"
      ]
     },
     "metadata": {},
     "output_type": "display_data"
    }
   ],
   "source": [
    "x & y"
   ]
  },
  {
   "cell_type": "markdown",
   "metadata": {},
   "source": [
    "(2) `x && y`"
   ]
  },
  {
   "cell_type": "code",
   "execution_count": 28,
   "metadata": {},
   "outputs": [
    {
     "data": {
      "text/html": [
       "TRUE"
      ],
      "text/latex": [
       "TRUE"
      ],
      "text/markdown": [
       "TRUE"
      ],
      "text/plain": [
       "[1] TRUE"
      ]
     },
     "metadata": {},
     "output_type": "display_data"
    }
   ],
   "source": [
    "x && y"
   ]
  },
  {
   "cell_type": "markdown",
   "metadata": {},
   "source": [
    "(3) `x | y`\n"
   ]
  },
  {
   "cell_type": "code",
   "execution_count": 29,
   "metadata": {},
   "outputs": [
    {
     "data": {
      "text/html": [
       "<style>\n",
       ".list-inline {list-style: none; margin:0; padding: 0}\n",
       ".list-inline>li {display: inline-block}\n",
       ".list-inline>li:not(:last-child)::after {content: \"\\00b7\"; padding: 0 .5ex}\n",
       "</style>\n",
       "<ol class=list-inline><li>TRUE</li><li>TRUE</li><li>TRUE</li><li>FALSE</li></ol>\n"
      ],
      "text/latex": [
       "\\begin{enumerate*}\n",
       "\\item TRUE\n",
       "\\item TRUE\n",
       "\\item TRUE\n",
       "\\item FALSE\n",
       "\\end{enumerate*}\n"
      ],
      "text/markdown": [
       "1. TRUE\n",
       "2. TRUE\n",
       "3. TRUE\n",
       "4. FALSE\n",
       "\n",
       "\n"
      ],
      "text/plain": [
       "[1]  TRUE  TRUE  TRUE FALSE"
      ]
     },
     "metadata": {},
     "output_type": "display_data"
    }
   ],
   "source": [
    "x | y"
   ]
  },
  {
   "cell_type": "markdown",
   "metadata": {},
   "source": [
    "(4) `x || y`"
   ]
  },
  {
   "cell_type": "code",
   "execution_count": 30,
   "metadata": {},
   "outputs": [
    {
     "data": {
      "text/html": [
       "TRUE"
      ],
      "text/latex": [
       "TRUE"
      ],
      "text/markdown": [
       "TRUE"
      ],
      "text/plain": [
       "[1] TRUE"
      ]
     },
     "metadata": {},
     "output_type": "display_data"
    }
   ],
   "source": [
    "x || y"
   ]
  },
  {
   "cell_type": "markdown",
   "metadata": {},
   "source": [
    "(5) `!x`"
   ]
  },
  {
   "cell_type": "code",
   "execution_count": 31,
   "metadata": {},
   "outputs": [
    {
     "data": {
      "text/html": [
       "<style>\n",
       ".list-inline {list-style: none; margin:0; padding: 0}\n",
       ".list-inline>li {display: inline-block}\n",
       ".list-inline>li:not(:last-child)::after {content: \"\\00b7\"; padding: 0 .5ex}\n",
       "</style>\n",
       "<ol class=list-inline><li>FALSE</li><li>FALSE</li><li>TRUE</li><li>TRUE</li></ol>\n"
      ],
      "text/latex": [
       "\\begin{enumerate*}\n",
       "\\item FALSE\n",
       "\\item FALSE\n",
       "\\item TRUE\n",
       "\\item TRUE\n",
       "\\end{enumerate*}\n"
      ],
      "text/markdown": [
       "1. FALSE\n",
       "2. FALSE\n",
       "3. TRUE\n",
       "4. TRUE\n",
       "\n",
       "\n"
      ],
      "text/plain": [
       "[1] FALSE FALSE  TRUE  TRUE"
      ]
     },
     "metadata": {},
     "output_type": "display_data"
    }
   ],
   "source": [
    "!x"
   ]
  },
  {
   "cell_type": "markdown",
   "metadata": {},
   "source": [
    "5. [NAとの計算] 以下を実行しなさい\n",
    "\n",
    "(1) `1 + NA`\n"
   ]
  },
  {
   "cell_type": "code",
   "execution_count": 32,
   "metadata": {},
   "outputs": [
    {
     "data": {
      "text/html": [
       "&lt;NA&gt;"
      ],
      "text/latex": [
       "<NA>"
      ],
      "text/markdown": [
       "&lt;NA&gt;"
      ],
      "text/plain": [
       "[1] NA"
      ]
     },
     "metadata": {},
     "output_type": "display_data"
    }
   ],
   "source": [
    "1 + NA"
   ]
  },
  {
   "cell_type": "markdown",
   "metadata": {},
   "source": [
    "(2) `0 * NA`\n"
   ]
  },
  {
   "cell_type": "code",
   "execution_count": 33,
   "metadata": {},
   "outputs": [
    {
     "data": {
      "text/html": [
       "&lt;NA&gt;"
      ],
      "text/latex": [
       "<NA>"
      ],
      "text/markdown": [
       "&lt;NA&gt;"
      ],
      "text/plain": [
       "[1] NA"
      ]
     },
     "metadata": {},
     "output_type": "display_data"
    }
   ],
   "source": [
    "0 * NA"
   ]
  },
  {
   "cell_type": "markdown",
   "metadata": {},
   "source": [
    "(3) `sum(1,2,NA)`\n"
   ]
  },
  {
   "cell_type": "code",
   "execution_count": 34,
   "metadata": {},
   "outputs": [
    {
     "data": {
      "text/html": [
       "&lt;NA&gt;"
      ],
      "text/latex": [
       "<NA>"
      ],
      "text/markdown": [
       "&lt;NA&gt;"
      ],
      "text/plain": [
       "[1] NA"
      ]
     },
     "metadata": {},
     "output_type": "display_data"
    }
   ],
   "source": [
    "sum(1,2,NA)"
   ]
  },
  {
   "cell_type": "markdown",
   "metadata": {},
   "source": [
    "(4) `T & NA`\n"
   ]
  },
  {
   "cell_type": "code",
   "execution_count": 35,
   "metadata": {},
   "outputs": [
    {
     "data": {
      "text/html": [
       "&lt;NA&gt;"
      ],
      "text/latex": [
       "<NA>"
      ],
      "text/markdown": [
       "&lt;NA&gt;"
      ],
      "text/plain": [
       "[1] NA"
      ]
     },
     "metadata": {},
     "output_type": "display_data"
    }
   ],
   "source": [
    "T & NA"
   ]
  },
  {
   "cell_type": "markdown",
   "metadata": {},
   "source": [
    "(5) `F & NA`\n"
   ]
  },
  {
   "cell_type": "code",
   "execution_count": 36,
   "metadata": {},
   "outputs": [
    {
     "data": {
      "text/html": [
       "FALSE"
      ],
      "text/latex": [
       "FALSE"
      ],
      "text/markdown": [
       "FALSE"
      ],
      "text/plain": [
       "[1] FALSE"
      ]
     },
     "metadata": {},
     "output_type": "display_data"
    }
   ],
   "source": [
    "F & NA"
   ]
  },
  {
   "cell_type": "markdown",
   "metadata": {},
   "source": [
    "(6) `T | NA`"
   ]
  },
  {
   "cell_type": "code",
   "execution_count": 37,
   "metadata": {},
   "outputs": [
    {
     "data": {
      "text/html": [
       "TRUE"
      ],
      "text/latex": [
       "TRUE"
      ],
      "text/markdown": [
       "TRUE"
      ],
      "text/plain": [
       "[1] TRUE"
      ]
     },
     "metadata": {},
     "output_type": "display_data"
    }
   ],
   "source": [
    "T | NA"
   ]
  },
  {
   "cell_type": "markdown",
   "metadata": {},
   "source": [
    "(7) `F | NA`"
   ]
  },
  {
   "cell_type": "code",
   "execution_count": 38,
   "metadata": {},
   "outputs": [
    {
     "data": {
      "text/html": [
       "&lt;NA&gt;"
      ],
      "text/latex": [
       "<NA>"
      ],
      "text/markdown": [
       "&lt;NA&gt;"
      ],
      "text/plain": [
       "[1] NA"
      ]
     },
     "metadata": {},
     "output_type": "display_data"
    }
   ],
   "source": [
    "F | NA"
   ]
  },
  {
   "cell_type": "markdown",
   "metadata": {},
   "source": [
    "## Ex.5 ベクトル\n",
    "\n",
    "1. [ベクトルの作成] 以下のベクトルを作成しなさい\n",
    "    \n",
    "(1) 1から5までの整数を順に並べたベクトル\n"
   ]
  },
  {
   "cell_type": "code",
   "execution_count": 39,
   "metadata": {},
   "outputs": [
    {
     "data": {
      "text/html": [
       "<style>\n",
       ".list-inline {list-style: none; margin:0; padding: 0}\n",
       ".list-inline>li {display: inline-block}\n",
       ".list-inline>li:not(:last-child)::after {content: \"\\00b7\"; padding: 0 .5ex}\n",
       "</style>\n",
       "<ol class=list-inline><li>1</li><li>2</li><li>3</li><li>4</li><li>5</li></ol>\n"
      ],
      "text/latex": [
       "\\begin{enumerate*}\n",
       "\\item 1\n",
       "\\item 2\n",
       "\\item 3\n",
       "\\item 4\n",
       "\\item 5\n",
       "\\end{enumerate*}\n"
      ],
      "text/markdown": [
       "1. 1\n",
       "2. 2\n",
       "3. 3\n",
       "4. 4\n",
       "5. 5\n",
       "\n",
       "\n"
      ],
      "text/plain": [
       "[1] 1 2 3 4 5"
      ]
     },
     "metadata": {},
     "output_type": "display_data"
    }
   ],
   "source": [
    "c(1,2,3,4,5)"
   ]
  },
  {
   "cell_type": "markdown",
   "metadata": {},
   "source": [
    "(2) a,b,c,dのそれぞれの文字を要素とするベクトル\n"
   ]
  },
  {
   "cell_type": "code",
   "execution_count": 40,
   "metadata": {},
   "outputs": [
    {
     "data": {
      "text/html": [
       "<style>\n",
       ".list-inline {list-style: none; margin:0; padding: 0}\n",
       ".list-inline>li {display: inline-block}\n",
       ".list-inline>li:not(:last-child)::after {content: \"\\00b7\"; padding: 0 .5ex}\n",
       "</style>\n",
       "<ol class=list-inline><li>'a'</li><li>'b'</li><li>'c'</li><li>'d'</li></ol>\n"
      ],
      "text/latex": [
       "\\begin{enumerate*}\n",
       "\\item 'a'\n",
       "\\item 'b'\n",
       "\\item 'c'\n",
       "\\item 'd'\n",
       "\\end{enumerate*}\n"
      ],
      "text/markdown": [
       "1. 'a'\n",
       "2. 'b'\n",
       "3. 'c'\n",
       "4. 'd'\n",
       "\n",
       "\n"
      ],
      "text/plain": [
       "[1] \"a\" \"b\" \"c\" \"d\""
      ]
     },
     "metadata": {},
     "output_type": "display_data"
    }
   ],
   "source": [
    "c('a', 'b', 'c', 'd')"
   ]
  },
  {
   "cell_type": "markdown",
   "metadata": {},
   "source": [
    "(3) コロン演算子`:`を使って、1から10までの整数を順に並べたベクトル\n"
   ]
  },
  {
   "cell_type": "code",
   "execution_count": 41,
   "metadata": {},
   "outputs": [
    {
     "data": {
      "text/html": [
       "<style>\n",
       ".list-inline {list-style: none; margin:0; padding: 0}\n",
       ".list-inline>li {display: inline-block}\n",
       ".list-inline>li:not(:last-child)::after {content: \"\\00b7\"; padding: 0 .5ex}\n",
       "</style>\n",
       "<ol class=list-inline><li>1</li><li>2</li><li>3</li><li>4</li><li>5</li><li>6</li><li>7</li><li>8</li><li>9</li><li>10</li></ol>\n"
      ],
      "text/latex": [
       "\\begin{enumerate*}\n",
       "\\item 1\n",
       "\\item 2\n",
       "\\item 3\n",
       "\\item 4\n",
       "\\item 5\n",
       "\\item 6\n",
       "\\item 7\n",
       "\\item 8\n",
       "\\item 9\n",
       "\\item 10\n",
       "\\end{enumerate*}\n"
      ],
      "text/markdown": [
       "1. 1\n",
       "2. 2\n",
       "3. 3\n",
       "4. 4\n",
       "5. 5\n",
       "6. 6\n",
       "7. 7\n",
       "8. 8\n",
       "9. 9\n",
       "10. 10\n",
       "\n",
       "\n"
      ],
      "text/plain": [
       " [1]  1  2  3  4  5  6  7  8  9 10"
      ]
     },
     "metadata": {},
     "output_type": "display_data"
    }
   ],
   "source": [
    "1:10"
   ]
  },
  {
   "cell_type": "markdown",
   "metadata": {},
   "source": [
    "(4) コロン演算子`:`を使って、8から2までの整数を大きい順に並べたベクトル"
   ]
  },
  {
   "cell_type": "code",
   "execution_count": 42,
   "metadata": {},
   "outputs": [
    {
     "data": {
      "text/html": [
       "<style>\n",
       ".list-inline {list-style: none; margin:0; padding: 0}\n",
       ".list-inline>li {display: inline-block}\n",
       ".list-inline>li:not(:last-child)::after {content: \"\\00b7\"; padding: 0 .5ex}\n",
       "</style>\n",
       "<ol class=list-inline><li>8</li><li>7</li><li>6</li><li>5</li><li>4</li><li>3</li><li>2</li></ol>\n"
      ],
      "text/latex": [
       "\\begin{enumerate*}\n",
       "\\item 8\n",
       "\\item 7\n",
       "\\item 6\n",
       "\\item 5\n",
       "\\item 4\n",
       "\\item 3\n",
       "\\item 2\n",
       "\\end{enumerate*}\n"
      ],
      "text/markdown": [
       "1. 8\n",
       "2. 7\n",
       "3. 6\n",
       "4. 5\n",
       "5. 4\n",
       "6. 3\n",
       "7. 2\n",
       "\n",
       "\n"
      ],
      "text/plain": [
       "[1] 8 7 6 5 4 3 2"
      ]
     },
     "metadata": {},
     "output_type": "display_data"
    }
   ],
   "source": [
    "8:2"
   ]
  },
  {
   "cell_type": "markdown",
   "metadata": {},
   "source": [
    "(5) c(1,2,3)を4つ並べたベクトル"
   ]
  },
  {
   "cell_type": "code",
   "execution_count": 43,
   "metadata": {},
   "outputs": [
    {
     "data": {
      "text/html": [
       "<style>\n",
       ".list-inline {list-style: none; margin:0; padding: 0}\n",
       ".list-inline>li {display: inline-block}\n",
       ".list-inline>li:not(:last-child)::after {content: \"\\00b7\"; padding: 0 .5ex}\n",
       "</style>\n",
       "<ol class=list-inline><li>1</li><li>2</li><li>3</li><li>1</li><li>2</li><li>3</li><li>1</li><li>2</li><li>3</li><li>1</li><li>2</li><li>3</li></ol>\n"
      ],
      "text/latex": [
       "\\begin{enumerate*}\n",
       "\\item 1\n",
       "\\item 2\n",
       "\\item 3\n",
       "\\item 1\n",
       "\\item 2\n",
       "\\item 3\n",
       "\\item 1\n",
       "\\item 2\n",
       "\\item 3\n",
       "\\item 1\n",
       "\\item 2\n",
       "\\item 3\n",
       "\\end{enumerate*}\n"
      ],
      "text/markdown": [
       "1. 1\n",
       "2. 2\n",
       "3. 3\n",
       "4. 1\n",
       "5. 2\n",
       "6. 3\n",
       "7. 1\n",
       "8. 2\n",
       "9. 3\n",
       "10. 1\n",
       "11. 2\n",
       "12. 3\n",
       "\n",
       "\n"
      ],
      "text/plain": [
       " [1] 1 2 3 1 2 3 1 2 3 1 2 3"
      ]
     },
     "metadata": {},
     "output_type": "display_data"
    }
   ],
   "source": [
    "rep(c(1,2,3), 4)"
   ]
  },
  {
   "cell_type": "markdown",
   "metadata": {},
   "source": [
    "2. [ベクトル演算] x = 1:5, y = c(2,4), z=c(5, 3, 1)として、以下の計算をしなさい\n"
   ]
  },
  {
   "cell_type": "code",
   "execution_count": 44,
   "metadata": {},
   "outputs": [],
   "source": [
    "x = 1:5\n",
    "y = c(2, 4)\n",
    "z = c(5, 3, 1)"
   ]
  },
  {
   "cell_type": "markdown",
   "metadata": {},
   "source": [
    "\n",
    "(1) `x + 1`"
   ]
  },
  {
   "cell_type": "code",
   "execution_count": 45,
   "metadata": {},
   "outputs": [
    {
     "data": {
      "text/html": [
       "<style>\n",
       ".list-inline {list-style: none; margin:0; padding: 0}\n",
       ".list-inline>li {display: inline-block}\n",
       ".list-inline>li:not(:last-child)::after {content: \"\\00b7\"; padding: 0 .5ex}\n",
       "</style>\n",
       "<ol class=list-inline><li>2</li><li>3</li><li>4</li><li>5</li><li>6</li></ol>\n"
      ],
      "text/latex": [
       "\\begin{enumerate*}\n",
       "\\item 2\n",
       "\\item 3\n",
       "\\item 4\n",
       "\\item 5\n",
       "\\item 6\n",
       "\\end{enumerate*}\n"
      ],
      "text/markdown": [
       "1. 2\n",
       "2. 3\n",
       "3. 4\n",
       "4. 5\n",
       "5. 6\n",
       "\n",
       "\n"
      ],
      "text/plain": [
       "[1] 2 3 4 5 6"
      ]
     },
     "metadata": {},
     "output_type": "display_data"
    }
   ],
   "source": [
    "x + 1"
   ]
  },
  {
   "cell_type": "markdown",
   "metadata": {},
   "source": [
    "(2) `y * 2`"
   ]
  },
  {
   "cell_type": "code",
   "execution_count": 46,
   "metadata": {},
   "outputs": [
    {
     "data": {
      "text/html": [
       "<style>\n",
       ".list-inline {list-style: none; margin:0; padding: 0}\n",
       ".list-inline>li {display: inline-block}\n",
       ".list-inline>li:not(:last-child)::after {content: \"\\00b7\"; padding: 0 .5ex}\n",
       "</style>\n",
       "<ol class=list-inline><li>4</li><li>8</li></ol>\n"
      ],
      "text/latex": [
       "\\begin{enumerate*}\n",
       "\\item 4\n",
       "\\item 8\n",
       "\\end{enumerate*}\n"
      ],
      "text/markdown": [
       "1. 4\n",
       "2. 8\n",
       "\n",
       "\n"
      ],
      "text/plain": [
       "[1] 4 8"
      ]
     },
     "metadata": {},
     "output_type": "display_data"
    }
   ],
   "source": [
    "y * 2"
   ]
  },
  {
   "cell_type": "markdown",
   "metadata": {},
   "source": [
    "(3) `x + y`"
   ]
  },
  {
   "cell_type": "code",
   "execution_count": 47,
   "metadata": {},
   "outputs": [
    {
     "name": "stderr",
     "output_type": "stream",
     "text": [
      "Warning message in x + y:\n",
      "\"longer object length is not a multiple of shorter object length\"\n"
     ]
    },
    {
     "data": {
      "text/html": [
       "<style>\n",
       ".list-inline {list-style: none; margin:0; padding: 0}\n",
       ".list-inline>li {display: inline-block}\n",
       ".list-inline>li:not(:last-child)::after {content: \"\\00b7\"; padding: 0 .5ex}\n",
       "</style>\n",
       "<ol class=list-inline><li>3</li><li>6</li><li>5</li><li>8</li><li>7</li></ol>\n"
      ],
      "text/latex": [
       "\\begin{enumerate*}\n",
       "\\item 3\n",
       "\\item 6\n",
       "\\item 5\n",
       "\\item 8\n",
       "\\item 7\n",
       "\\end{enumerate*}\n"
      ],
      "text/markdown": [
       "1. 3\n",
       "2. 6\n",
       "3. 5\n",
       "4. 8\n",
       "5. 7\n",
       "\n",
       "\n"
      ],
      "text/plain": [
       "[1] 3 6 5 8 7"
      ]
     },
     "metadata": {},
     "output_type": "display_data"
    }
   ],
   "source": [
    "x + y"
   ]
  },
  {
   "cell_type": "markdown",
   "metadata": {},
   "source": [
    "(4) `x * z`"
   ]
  },
  {
   "cell_type": "code",
   "execution_count": 48,
   "metadata": {},
   "outputs": [
    {
     "name": "stderr",
     "output_type": "stream",
     "text": [
      "Warning message in x * z:\n",
      "\"longer object length is not a multiple of shorter object length\"\n"
     ]
    },
    {
     "data": {
      "text/html": [
       "<style>\n",
       ".list-inline {list-style: none; margin:0; padding: 0}\n",
       ".list-inline>li {display: inline-block}\n",
       ".list-inline>li:not(:last-child)::after {content: \"\\00b7\"; padding: 0 .5ex}\n",
       "</style>\n",
       "<ol class=list-inline><li>5</li><li>6</li><li>3</li><li>20</li><li>15</li></ol>\n"
      ],
      "text/latex": [
       "\\begin{enumerate*}\n",
       "\\item 5\n",
       "\\item 6\n",
       "\\item 3\n",
       "\\item 20\n",
       "\\item 15\n",
       "\\end{enumerate*}\n"
      ],
      "text/markdown": [
       "1. 5\n",
       "2. 6\n",
       "3. 3\n",
       "4. 20\n",
       "5. 15\n",
       "\n",
       "\n"
      ],
      "text/plain": [
       "[1]  5  6  3 20 15"
      ]
     },
     "metadata": {},
     "output_type": "display_data"
    }
   ],
   "source": [
    "x * z"
   ]
  },
  {
   "cell_type": "markdown",
   "metadata": {},
   "source": [
    "(5) `sqrt(x)`"
   ]
  },
  {
   "cell_type": "code",
   "execution_count": 49,
   "metadata": {},
   "outputs": [
    {
     "data": {
      "text/html": [
       "<style>\n",
       ".list-inline {list-style: none; margin:0; padding: 0}\n",
       ".list-inline>li {display: inline-block}\n",
       ".list-inline>li:not(:last-child)::after {content: \"\\00b7\"; padding: 0 .5ex}\n",
       "</style>\n",
       "<ol class=list-inline><li>1</li><li>1.4142135623731</li><li>1.73205080756888</li><li>2</li><li>2.23606797749979</li></ol>\n"
      ],
      "text/latex": [
       "\\begin{enumerate*}\n",
       "\\item 1\n",
       "\\item 1.4142135623731\n",
       "\\item 1.73205080756888\n",
       "\\item 2\n",
       "\\item 2.23606797749979\n",
       "\\end{enumerate*}\n"
      ],
      "text/markdown": [
       "1. 1\n",
       "2. 1.4142135623731\n",
       "3. 1.73205080756888\n",
       "4. 2\n",
       "5. 2.23606797749979\n",
       "\n",
       "\n"
      ],
      "text/plain": [
       "[1] 1.000000 1.414214 1.732051 2.000000 2.236068"
      ]
     },
     "metadata": {},
     "output_type": "display_data"
    }
   ],
   "source": [
    "sqrt(x)"
   ]
  },
  {
   "cell_type": "markdown",
   "metadata": {},
   "source": [
    "(6) `mean(y)`"
   ]
  },
  {
   "cell_type": "code",
   "execution_count": 50,
   "metadata": {},
   "outputs": [
    {
     "data": {
      "text/html": [
       "3"
      ],
      "text/latex": [
       "3"
      ],
      "text/markdown": [
       "3"
      ],
      "text/plain": [
       "[1] 3"
      ]
     },
     "metadata": {},
     "output_type": "display_data"
    }
   ],
   "source": [
    "mean(y)"
   ]
  },
  {
   "cell_type": "markdown",
   "metadata": {},
   "source": [
    "(7) `rev(x)`"
   ]
  },
  {
   "cell_type": "code",
   "execution_count": 51,
   "metadata": {},
   "outputs": [
    {
     "data": {
      "text/html": [
       "<style>\n",
       ".list-inline {list-style: none; margin:0; padding: 0}\n",
       ".list-inline>li {display: inline-block}\n",
       ".list-inline>li:not(:last-child)::after {content: \"\\00b7\"; padding: 0 .5ex}\n",
       "</style>\n",
       "<ol class=list-inline><li>5</li><li>4</li><li>3</li><li>2</li><li>1</li></ol>\n"
      ],
      "text/latex": [
       "\\begin{enumerate*}\n",
       "\\item 5\n",
       "\\item 4\n",
       "\\item 3\n",
       "\\item 2\n",
       "\\item 1\n",
       "\\end{enumerate*}\n"
      ],
      "text/markdown": [
       "1. 5\n",
       "2. 4\n",
       "3. 3\n",
       "4. 2\n",
       "5. 1\n",
       "\n",
       "\n"
      ],
      "text/plain": [
       "[1] 5 4 3 2 1"
      ]
     },
     "metadata": {},
     "output_type": "display_data"
    }
   ],
   "source": [
    "rev(x)"
   ]
  },
  {
   "cell_type": "markdown",
   "metadata": {},
   "source": [
    "(8) `sort(z)`"
   ]
  },
  {
   "cell_type": "code",
   "execution_count": 52,
   "metadata": {},
   "outputs": [
    {
     "data": {
      "text/html": [
       "<style>\n",
       ".list-inline {list-style: none; margin:0; padding: 0}\n",
       ".list-inline>li {display: inline-block}\n",
       ".list-inline>li:not(:last-child)::after {content: \"\\00b7\"; padding: 0 .5ex}\n",
       "</style>\n",
       "<ol class=list-inline><li>5</li><li>3</li><li>1</li></ol>\n"
      ],
      "text/latex": [
       "\\begin{enumerate*}\n",
       "\\item 5\n",
       "\\item 3\n",
       "\\item 1\n",
       "\\end{enumerate*}\n"
      ],
      "text/markdown": [
       "1. 5\n",
       "2. 3\n",
       "3. 1\n",
       "\n",
       "\n"
      ],
      "text/plain": [
       "[1] 5 3 1"
      ]
     },
     "metadata": {},
     "output_type": "display_data"
    }
   ],
   "source": [
    "sort(z, decreasing = T)"
   ]
  },
  {
   "cell_type": "markdown",
   "metadata": {},
   "source": [
    "3. [要素へのアクセス] x = c('a', 'b', 'c', 'd', 'e'), y = 1:6として、以下の操作をしなさい\n"
   ]
  },
  {
   "cell_type": "code",
   "execution_count": 53,
   "metadata": {},
   "outputs": [],
   "source": [
    "x = c('a', 'b', 'c', 'd', 'e')\n",
    "y = 1:6"
   ]
  },
  {
   "cell_type": "markdown",
   "metadata": {},
   "source": [
    "\n",
    "\n",
    "(1) 添字番号を使ってxの3番目の要素を取り出す"
   ]
  },
  {
   "cell_type": "code",
   "execution_count": 54,
   "metadata": {},
   "outputs": [
    {
     "data": {
      "text/html": [
       "'c'"
      ],
      "text/latex": [
       "'c'"
      ],
      "text/markdown": [
       "'c'"
      ],
      "text/plain": [
       "[1] \"c\""
      ]
     },
     "metadata": {},
     "output_type": "display_data"
    }
   ],
   "source": [
    "x[3]"
   ]
  },
  {
   "cell_type": "markdown",
   "metadata": {},
   "source": [
    "(2) 整数ベクトルを使ってxの2番目と5番目の要素を取り出す\n"
   ]
  },
  {
   "cell_type": "code",
   "execution_count": 55,
   "metadata": {},
   "outputs": [
    {
     "data": {
      "text/html": [
       "<style>\n",
       ".list-inline {list-style: none; margin:0; padding: 0}\n",
       ".list-inline>li {display: inline-block}\n",
       ".list-inline>li:not(:last-child)::after {content: \"\\00b7\"; padding: 0 .5ex}\n",
       "</style>\n",
       "<ol class=list-inline><li>'b'</li><li>'e'</li></ol>\n"
      ],
      "text/latex": [
       "\\begin{enumerate*}\n",
       "\\item 'b'\n",
       "\\item 'e'\n",
       "\\end{enumerate*}\n"
      ],
      "text/markdown": [
       "1. 'b'\n",
       "2. 'e'\n",
       "\n",
       "\n"
      ],
      "text/plain": [
       "[1] \"b\" \"e\""
      ]
     },
     "metadata": {},
     "output_type": "display_data"
    }
   ],
   "source": [
    "x[c(2, 5)]"
   ]
  },
  {
   "cell_type": "markdown",
   "metadata": {},
   "source": [
    "(3) xの1番目の要素をfに変更する\n"
   ]
  },
  {
   "cell_type": "code",
   "execution_count": 56,
   "metadata": {},
   "outputs": [],
   "source": [
    "x[1] = 'f'"
   ]
  },
  {
   "cell_type": "code",
   "execution_count": 57,
   "metadata": {},
   "outputs": [
    {
     "data": {
      "text/html": [
       "<style>\n",
       ".list-inline {list-style: none; margin:0; padding: 0}\n",
       ".list-inline>li {display: inline-block}\n",
       ".list-inline>li:not(:last-child)::after {content: \"\\00b7\"; padding: 0 .5ex}\n",
       "</style>\n",
       "<ol class=list-inline><li>'f'</li><li>'b'</li><li>'c'</li><li>'d'</li><li>'e'</li></ol>\n"
      ],
      "text/latex": [
       "\\begin{enumerate*}\n",
       "\\item 'f'\n",
       "\\item 'b'\n",
       "\\item 'c'\n",
       "\\item 'd'\n",
       "\\item 'e'\n",
       "\\end{enumerate*}\n"
      ],
      "text/markdown": [
       "1. 'f'\n",
       "2. 'b'\n",
       "3. 'c'\n",
       "4. 'd'\n",
       "5. 'e'\n",
       "\n",
       "\n"
      ],
      "text/plain": [
       "[1] \"f\" \"b\" \"c\" \"d\" \"e\""
      ]
     },
     "metadata": {},
     "output_type": "display_data"
    }
   ],
   "source": [
    "x"
   ]
  },
  {
   "cell_type": "markdown",
   "metadata": {},
   "source": [
    "(4) 論理ベクトルを使ってxの1番目と4番目の要素を取り出す\n"
   ]
  },
  {
   "cell_type": "code",
   "execution_count": 58,
   "metadata": {},
   "outputs": [
    {
     "data": {
      "text/html": [
       "<style>\n",
       ".list-inline {list-style: none; margin:0; padding: 0}\n",
       ".list-inline>li {display: inline-block}\n",
       ".list-inline>li:not(:last-child)::after {content: \"\\00b7\"; padding: 0 .5ex}\n",
       "</style>\n",
       "<ol class=list-inline><li>'f'</li><li>'d'</li></ol>\n"
      ],
      "text/latex": [
       "\\begin{enumerate*}\n",
       "\\item 'f'\n",
       "\\item 'd'\n",
       "\\end{enumerate*}\n"
      ],
      "text/markdown": [
       "1. 'f'\n",
       "2. 'd'\n",
       "\n",
       "\n"
      ],
      "text/plain": [
       "[1] \"f\" \"d\""
      ]
     },
     "metadata": {},
     "output_type": "display_data"
    }
   ],
   "source": [
    "x[c(T, F, F, T, F)]"
   ]
  },
  {
   "cell_type": "markdown",
   "metadata": {},
   "source": [
    "(5) yの偶数である要素を取り出す"
   ]
  },
  {
   "cell_type": "code",
   "execution_count": 59,
   "metadata": {},
   "outputs": [
    {
     "data": {
      "text/html": [
       "<style>\n",
       ".list-inline {list-style: none; margin:0; padding: 0}\n",
       ".list-inline>li {display: inline-block}\n",
       ".list-inline>li:not(:last-child)::after {content: \"\\00b7\"; padding: 0 .5ex}\n",
       "</style>\n",
       "<ol class=list-inline><li>2</li><li>4</li><li>6</li></ol>\n"
      ],
      "text/latex": [
       "\\begin{enumerate*}\n",
       "\\item 2\n",
       "\\item 4\n",
       "\\item 6\n",
       "\\end{enumerate*}\n"
      ],
      "text/markdown": [
       "1. 2\n",
       "2. 4\n",
       "3. 6\n",
       "\n",
       "\n"
      ],
      "text/plain": [
       "[1] 2 4 6"
      ]
     },
     "metadata": {},
     "output_type": "display_data"
    }
   ],
   "source": [
    "y[y %% 2 == 0]"
   ]
  },
  {
   "cell_type": "markdown",
   "metadata": {},
   "source": [
    "\n",
    "(6) yの2番目と3番目以外の要素を取り出す"
   ]
  },
  {
   "cell_type": "code",
   "execution_count": 60,
   "metadata": {},
   "outputs": [
    {
     "data": {
      "text/html": [
       "<style>\n",
       ".list-inline {list-style: none; margin:0; padding: 0}\n",
       ".list-inline>li {display: inline-block}\n",
       ".list-inline>li:not(:last-child)::after {content: \"\\00b7\"; padding: 0 .5ex}\n",
       "</style>\n",
       "<ol class=list-inline><li>1</li><li>4</li><li>5</li><li>6</li></ol>\n"
      ],
      "text/latex": [
       "\\begin{enumerate*}\n",
       "\\item 1\n",
       "\\item 4\n",
       "\\item 5\n",
       "\\item 6\n",
       "\\end{enumerate*}\n"
      ],
      "text/markdown": [
       "1. 1\n",
       "2. 4\n",
       "3. 5\n",
       "4. 6\n",
       "\n",
       "\n"
      ],
      "text/plain": [
       "[1] 1 4 5 6"
      ]
     },
     "metadata": {},
     "output_type": "display_data"
    }
   ],
   "source": [
    "y[-c(2, 3)]"
   ]
  },
  {
   "cell_type": "markdown",
   "metadata": {},
   "source": [
    "## Ex.6 関数\n",
    "\n",
    "1. [関数の作成]以下の関数を作成しなさい\n",
    "\n",
    "(1) 実行すると'done.'と表示する関数\n"
   ]
  },
  {
   "cell_type": "code",
   "execution_count": 61,
   "metadata": {},
   "outputs": [],
   "source": [
    "func = function(){\n",
    "    print('done.')\n",
    "}"
   ]
  },
  {
   "cell_type": "code",
   "execution_count": 62,
   "metadata": {},
   "outputs": [
    {
     "name": "stdout",
     "output_type": "stream",
     "text": [
      "[1] \"done.\"\n"
     ]
    }
   ],
   "source": [
    "func()"
   ]
  },
  {
   "cell_type": "markdown",
   "metadata": {},
   "source": [
    "(2) 金額（税抜）を入力すると消費税込の金額を返す関数（消費税率は10%ととする）※小数点以下が出てもよい"
   ]
  },
  {
   "cell_type": "code",
   "execution_count": 63,
   "metadata": {},
   "outputs": [],
   "source": [
    "func = function(price){\n",
    "    return(price * 1.1)\n",
    "}"
   ]
  },
  {
   "cell_type": "code",
   "execution_count": 64,
   "metadata": {},
   "outputs": [
    {
     "data": {
      "text/html": [
       "1100"
      ],
      "text/latex": [
       "1100"
      ],
      "text/markdown": [
       "1100"
      ],
      "text/plain": [
       "[1] 1100"
      ]
     },
     "metadata": {},
     "output_type": "display_data"
    }
   ],
   "source": [
    "func(1000)"
   ]
  },
  {
   "cell_type": "markdown",
   "metadata": {},
   "source": [
    "2. [制御構文] 以下の問に答えなさい。ただし整数以外の入力値については考慮しなくてよいものとする\n",
    "\n",
    "(1) 以下の関数を作成しなさい\n",
    "\n",
    "入力された整数が偶数なら'even', 奇数なら'odd'と表示する関数\n"
   ]
  },
  {
   "cell_type": "code",
   "execution_count": 65,
   "metadata": {},
   "outputs": [],
   "source": [
    "evenodd = function(number){\n",
    "    if(number %% 2 == 0){\n",
    "        print('even')\n",
    "    }else{\n",
    "        print('odd')\n",
    "    }\n",
    "}"
   ]
  },
  {
   "cell_type": "code",
   "execution_count": 66,
   "metadata": {},
   "outputs": [
    {
     "name": "stdout",
     "output_type": "stream",
     "text": [
      "[1] \"odd\"\n"
     ]
    }
   ],
   "source": [
    "evenodd(3)"
   ]
  },
  {
   "cell_type": "markdown",
   "metadata": {},
   "source": [
    "(2) 前問で作成した関数について、for文を使って1から20までの整数値を入力した結果を表示しなさい\n"
   ]
  },
  {
   "cell_type": "code",
   "execution_count": 67,
   "metadata": {},
   "outputs": [
    {
     "name": "stdout",
     "output_type": "stream",
     "text": [
      "[1] 1\n",
      "[1] \"odd\"\n",
      "[1] 2\n",
      "[1] \"even\"\n",
      "[1] 3\n",
      "[1] \"odd\"\n",
      "[1] 4\n",
      "[1] \"even\"\n",
      "[1] 5\n",
      "[1] \"odd\"\n",
      "[1] 6\n",
      "[1] \"even\"\n",
      "[1] 7\n",
      "[1] \"odd\"\n",
      "[1] 8\n",
      "[1] \"even\"\n",
      "[1] 9\n",
      "[1] \"odd\"\n",
      "[1] 10\n",
      "[1] \"even\"\n",
      "[1] 11\n",
      "[1] \"odd\"\n",
      "[1] 12\n",
      "[1] \"even\"\n",
      "[1] 13\n",
      "[1] \"odd\"\n",
      "[1] 14\n",
      "[1] \"even\"\n",
      "[1] 15\n",
      "[1] \"odd\"\n",
      "[1] 16\n",
      "[1] \"even\"\n",
      "[1] 17\n",
      "[1] \"odd\"\n",
      "[1] 18\n",
      "[1] \"even\"\n",
      "[1] 19\n",
      "[1] \"odd\"\n",
      "[1] 20\n",
      "[1] \"even\"\n"
     ]
    }
   ],
   "source": [
    "for(i in 1:20){\n",
    "    print(i)\n",
    "    evenodd(i)\n",
    "}"
   ]
  },
  {
   "cell_type": "markdown",
   "metadata": {},
   "source": [
    "## Ex.7 stringrによる文字列操作\n",
    "\n",
    "1. [基本操作] `month.name`は1年の月名のリストである。stringrを用いて以下の問に答えなさい\n",
    "\n",
    "(1) str_subset()関数を用いて名前に'r'を含む月を抜き出しなさい\n"
   ]
  },
  {
   "cell_type": "code",
   "execution_count": 68,
   "metadata": {},
   "outputs": [
    {
     "name": "stderr",
     "output_type": "stream",
     "text": [
      "\n",
      "Attaching package: 'dplyr'\n",
      "\n",
      "\n",
      "The following objects are masked from 'package:stats':\n",
      "\n",
      "    filter, lag\n",
      "\n",
      "\n",
      "The following objects are masked from 'package:base':\n",
      "\n",
      "    intersect, setdiff, setequal, union\n",
      "\n",
      "\n"
     ]
    }
   ],
   "source": [
    "library('stringr')\n",
    "library('dplyr')"
   ]
  },
  {
   "cell_type": "code",
   "execution_count": 69,
   "metadata": {},
   "outputs": [
    {
     "data": {
      "text/html": [
       "<style>\n",
       ".list-inline {list-style: none; margin:0; padding: 0}\n",
       ".list-inline>li {display: inline-block}\n",
       ".list-inline>li:not(:last-child)::after {content: \"\\00b7\"; padding: 0 .5ex}\n",
       "</style>\n",
       "<ol class=list-inline><li>'January'</li><li>'February'</li><li>'March'</li><li>'April'</li><li>'September'</li><li>'October'</li><li>'November'</li><li>'December'</li></ol>\n"
      ],
      "text/latex": [
       "\\begin{enumerate*}\n",
       "\\item 'January'\n",
       "\\item 'February'\n",
       "\\item 'March'\n",
       "\\item 'April'\n",
       "\\item 'September'\n",
       "\\item 'October'\n",
       "\\item 'November'\n",
       "\\item 'December'\n",
       "\\end{enumerate*}\n"
      ],
      "text/markdown": [
       "1. 'January'\n",
       "2. 'February'\n",
       "3. 'March'\n",
       "4. 'April'\n",
       "5. 'September'\n",
       "6. 'October'\n",
       "7. 'November'\n",
       "8. 'December'\n",
       "\n",
       "\n"
      ],
      "text/plain": [
       "[1] \"January\"   \"February\"  \"March\"     \"April\"     \"September\" \"October\"  \n",
       "[7] \"November\"  \"December\" "
      ]
     },
     "metadata": {},
     "output_type": "display_data"
    }
   ],
   "source": [
    "month.name %>% str_subset('r')"
   ]
  },
  {
   "cell_type": "markdown",
   "metadata": {},
   "source": [
    "(2) str_detect()関数を用いて各月が名前に'r'を含むかどうかの論理ベクトルを得なさい"
   ]
  },
  {
   "cell_type": "code",
   "execution_count": 70,
   "metadata": {},
   "outputs": [
    {
     "data": {
      "text/html": [
       "<style>\n",
       ".list-inline {list-style: none; margin:0; padding: 0}\n",
       ".list-inline>li {display: inline-block}\n",
       ".list-inline>li:not(:last-child)::after {content: \"\\00b7\"; padding: 0 .5ex}\n",
       "</style>\n",
       "<ol class=list-inline><li>TRUE</li><li>TRUE</li><li>TRUE</li><li>TRUE</li><li>FALSE</li><li>FALSE</li><li>FALSE</li><li>FALSE</li><li>TRUE</li><li>TRUE</li><li>TRUE</li><li>TRUE</li></ol>\n"
      ],
      "text/latex": [
       "\\begin{enumerate*}\n",
       "\\item TRUE\n",
       "\\item TRUE\n",
       "\\item TRUE\n",
       "\\item TRUE\n",
       "\\item FALSE\n",
       "\\item FALSE\n",
       "\\item FALSE\n",
       "\\item FALSE\n",
       "\\item TRUE\n",
       "\\item TRUE\n",
       "\\item TRUE\n",
       "\\item TRUE\n",
       "\\end{enumerate*}\n"
      ],
      "text/markdown": [
       "1. TRUE\n",
       "2. TRUE\n",
       "3. TRUE\n",
       "4. TRUE\n",
       "5. FALSE\n",
       "6. FALSE\n",
       "7. FALSE\n",
       "8. FALSE\n",
       "9. TRUE\n",
       "10. TRUE\n",
       "11. TRUE\n",
       "12. TRUE\n",
       "\n",
       "\n"
      ],
      "text/plain": [
       " [1]  TRUE  TRUE  TRUE  TRUE FALSE FALSE FALSE FALSE  TRUE  TRUE  TRUE  TRUE"
      ]
     },
     "metadata": {},
     "output_type": "display_data"
    }
   ],
   "source": [
    "month.name %>% str_detect('r')"
   ]
  },
  {
   "cell_type": "markdown",
   "metadata": {},
   "source": [
    "(3) str_length()関数を用いて各月の文字数を求めなさい\n"
   ]
  },
  {
   "cell_type": "code",
   "execution_count": 71,
   "metadata": {},
   "outputs": [
    {
     "data": {
      "text/html": [
       "<style>\n",
       ".list-inline {list-style: none; margin:0; padding: 0}\n",
       ".list-inline>li {display: inline-block}\n",
       ".list-inline>li:not(:last-child)::after {content: \"\\00b7\"; padding: 0 .5ex}\n",
       "</style>\n",
       "<ol class=list-inline><li>7</li><li>8</li><li>5</li><li>5</li><li>3</li><li>4</li><li>4</li><li>6</li><li>9</li><li>7</li><li>8</li><li>8</li></ol>\n"
      ],
      "text/latex": [
       "\\begin{enumerate*}\n",
       "\\item 7\n",
       "\\item 8\n",
       "\\item 5\n",
       "\\item 5\n",
       "\\item 3\n",
       "\\item 4\n",
       "\\item 4\n",
       "\\item 6\n",
       "\\item 9\n",
       "\\item 7\n",
       "\\item 8\n",
       "\\item 8\n",
       "\\end{enumerate*}\n"
      ],
      "text/markdown": [
       "1. 7\n",
       "2. 8\n",
       "3. 5\n",
       "4. 5\n",
       "5. 3\n",
       "6. 4\n",
       "7. 4\n",
       "8. 6\n",
       "9. 9\n",
       "10. 7\n",
       "11. 8\n",
       "12. 8\n",
       "\n",
       "\n"
      ],
      "text/plain": [
       " [1] 7 8 5 5 3 4 4 6 9 7 8 8"
      ]
     },
     "metadata": {},
     "output_type": "display_data"
    }
   ],
   "source": [
    "month.name %>% str_length()"
   ]
  },
  {
   "cell_type": "markdown",
   "metadata": {},
   "source": [
    "(4) str_subset()関数は正規表現を扱える。正規表現を用いて以下の条件にあてはまる月をそれぞれ求めなさい\n",
    "\n",
    "(4-1) 名前が'A'で始まる月\n"
   ]
  },
  {
   "cell_type": "code",
   "execution_count": 72,
   "metadata": {},
   "outputs": [
    {
     "data": {
      "text/html": [
       "<style>\n",
       ".list-inline {list-style: none; margin:0; padding: 0}\n",
       ".list-inline>li {display: inline-block}\n",
       ".list-inline>li:not(:last-child)::after {content: \"\\00b7\"; padding: 0 .5ex}\n",
       "</style>\n",
       "<ol class=list-inline><li>'April'</li><li>'August'</li></ol>\n"
      ],
      "text/latex": [
       "\\begin{enumerate*}\n",
       "\\item 'April'\n",
       "\\item 'August'\n",
       "\\end{enumerate*}\n"
      ],
      "text/markdown": [
       "1. 'April'\n",
       "2. 'August'\n",
       "\n",
       "\n"
      ],
      "text/plain": [
       "[1] \"April\"  \"August\""
      ]
     },
     "metadata": {},
     "output_type": "display_data"
    }
   ],
   "source": [
    "month.name %>% str_subset('^A')"
   ]
  },
  {
   "cell_type": "markdown",
   "metadata": {},
   "source": [
    "(4-2) 名前が'r'で終わる月\n"
   ]
  },
  {
   "cell_type": "code",
   "execution_count": 73,
   "metadata": {},
   "outputs": [
    {
     "data": {
      "text/html": [
       "<style>\n",
       ".list-inline {list-style: none; margin:0; padding: 0}\n",
       ".list-inline>li {display: inline-block}\n",
       ".list-inline>li:not(:last-child)::after {content: \"\\00b7\"; padding: 0 .5ex}\n",
       "</style>\n",
       "<ol class=list-inline><li>'September'</li><li>'October'</li><li>'November'</li><li>'December'</li></ol>\n"
      ],
      "text/latex": [
       "\\begin{enumerate*}\n",
       "\\item 'September'\n",
       "\\item 'October'\n",
       "\\item 'November'\n",
       "\\item 'December'\n",
       "\\end{enumerate*}\n"
      ],
      "text/markdown": [
       "1. 'September'\n",
       "2. 'October'\n",
       "3. 'November'\n",
       "4. 'December'\n",
       "\n",
       "\n"
      ],
      "text/plain": [
       "[1] \"September\" \"October\"   \"November\"  \"December\" "
      ]
     },
     "metadata": {},
     "output_type": "display_data"
    }
   ],
   "source": [
    "month.name %>% str_subset('r$')"
   ]
  },
  {
   "cell_type": "markdown",
   "metadata": {},
   "source": [
    "(4-3) 名前の2文字目が'a'である月\n"
   ]
  },
  {
   "cell_type": "code",
   "execution_count": 74,
   "metadata": {},
   "outputs": [
    {
     "data": {
      "text/html": [
       "<style>\n",
       ".list-inline {list-style: none; margin:0; padding: 0}\n",
       ".list-inline>li {display: inline-block}\n",
       ".list-inline>li:not(:last-child)::after {content: \"\\00b7\"; padding: 0 .5ex}\n",
       "</style>\n",
       "<ol class=list-inline><li>'January'</li><li>'March'</li><li>'May'</li></ol>\n"
      ],
      "text/latex": [
       "\\begin{enumerate*}\n",
       "\\item 'January'\n",
       "\\item 'March'\n",
       "\\item 'May'\n",
       "\\end{enumerate*}\n"
      ],
      "text/markdown": [
       "1. 'January'\n",
       "2. 'March'\n",
       "3. 'May'\n",
       "\n",
       "\n"
      ],
      "text/plain": [
       "[1] \"January\" \"March\"   \"May\"    "
      ]
     },
     "metadata": {},
     "output_type": "display_data"
    }
   ],
   "source": [
    "month.name %>% str_subset('^.a')"
   ]
  },
  {
   "cell_type": "markdown",
   "metadata": {},
   "source": [
    "(4-4) 名前の最後から3番目の文字が'u'である月\n",
    "\n"
   ]
  },
  {
   "cell_type": "code",
   "execution_count": 75,
   "metadata": {},
   "outputs": [
    {
     "data": {
      "text/html": [
       "<style>\n",
       ".list-inline {list-style: none; margin:0; padding: 0}\n",
       ".list-inline>li {display: inline-block}\n",
       ".list-inline>li:not(:last-child)::after {content: \"\\00b7\"; padding: 0 .5ex}\n",
       "</style>\n",
       "<ol class=list-inline><li>'June'</li><li>'July'</li><li>'August'</li></ol>\n"
      ],
      "text/latex": [
       "\\begin{enumerate*}\n",
       "\\item 'June'\n",
       "\\item 'July'\n",
       "\\item 'August'\n",
       "\\end{enumerate*}\n"
      ],
      "text/markdown": [
       "1. 'June'\n",
       "2. 'July'\n",
       "3. 'August'\n",
       "\n",
       "\n"
      ],
      "text/plain": [
       "[1] \"June\"   \"July\"   \"August\""
      ]
     },
     "metadata": {},
     "output_type": "display_data"
    }
   ],
   "source": [
    "month.name %>% str_subset('u..$')"
   ]
  },
  {
   "cell_type": "markdown",
   "metadata": {},
   "source": [
    "(4-5) 名前の最初の文字が母音である月\n"
   ]
  },
  {
   "cell_type": "code",
   "execution_count": 76,
   "metadata": {},
   "outputs": [
    {
     "data": {
      "text/html": [
       "<style>\n",
       ".list-inline {list-style: none; margin:0; padding: 0}\n",
       ".list-inline>li {display: inline-block}\n",
       ".list-inline>li:not(:last-child)::after {content: \"\\00b7\"; padding: 0 .5ex}\n",
       "</style>\n",
       "<ol class=list-inline><li>'April'</li><li>'August'</li><li>'October'</li></ol>\n"
      ],
      "text/latex": [
       "\\begin{enumerate*}\n",
       "\\item 'April'\n",
       "\\item 'August'\n",
       "\\item 'October'\n",
       "\\end{enumerate*}\n"
      ],
      "text/markdown": [
       "1. 'April'\n",
       "2. 'August'\n",
       "3. 'October'\n",
       "\n",
       "\n"
      ],
      "text/plain": [
       "[1] \"April\"   \"August\"  \"October\""
      ]
     },
     "metadata": {},
     "output_type": "display_data"
    }
   ],
   "source": [
    "month.name %>% str_subset('^[AIUEO]')"
   ]
  },
  {
   "cell_type": "markdown",
   "metadata": {},
   "source": [
    "(4-6) 名前の最後の文字が'r'でも'y'でもない月"
   ]
  },
  {
   "cell_type": "code",
   "execution_count": 77,
   "metadata": {},
   "outputs": [
    {
     "data": {
      "text/html": [
       "<style>\n",
       ".list-inline {list-style: none; margin:0; padding: 0}\n",
       ".list-inline>li {display: inline-block}\n",
       ".list-inline>li:not(:last-child)::after {content: \"\\00b7\"; padding: 0 .5ex}\n",
       "</style>\n",
       "<ol class=list-inline><li>'March'</li><li>'April'</li><li>'June'</li><li>'August'</li></ol>\n"
      ],
      "text/latex": [
       "\\begin{enumerate*}\n",
       "\\item 'March'\n",
       "\\item 'April'\n",
       "\\item 'June'\n",
       "\\item 'August'\n",
       "\\end{enumerate*}\n"
      ],
      "text/markdown": [
       "1. 'March'\n",
       "2. 'April'\n",
       "3. 'June'\n",
       "4. 'August'\n",
       "\n",
       "\n"
      ],
      "text/plain": [
       "[1] \"March\"  \"April\"  \"June\"   \"August\""
      ]
     },
     "metadata": {},
     "output_type": "display_data"
    }
   ],
   "source": [
    "month.name %>% str_subset('[^ry]$')"
   ]
  },
  {
   "cell_type": "markdown",
   "metadata": {},
   "source": [
    "\n",
    "(4-7) 名前の末尾が'er'または'ry'で終わる月"
   ]
  },
  {
   "cell_type": "code",
   "execution_count": 78,
   "metadata": {},
   "outputs": [
    {
     "data": {
      "text/html": [
       "<style>\n",
       ".list-inline {list-style: none; margin:0; padding: 0}\n",
       ".list-inline>li {display: inline-block}\n",
       ".list-inline>li:not(:last-child)::after {content: \"\\00b7\"; padding: 0 .5ex}\n",
       "</style>\n",
       "<ol class=list-inline><li>'January'</li><li>'February'</li><li>'September'</li><li>'October'</li><li>'November'</li><li>'December'</li></ol>\n"
      ],
      "text/latex": [
       "\\begin{enumerate*}\n",
       "\\item 'January'\n",
       "\\item 'February'\n",
       "\\item 'September'\n",
       "\\item 'October'\n",
       "\\item 'November'\n",
       "\\item 'December'\n",
       "\\end{enumerate*}\n"
      ],
      "text/markdown": [
       "1. 'January'\n",
       "2. 'February'\n",
       "3. 'September'\n",
       "4. 'October'\n",
       "5. 'November'\n",
       "6. 'December'\n",
       "\n",
       "\n"
      ],
      "text/plain": [
       "[1] \"January\"   \"February\"  \"September\" \"October\"   \"November\"  \"December\" "
      ]
     },
     "metadata": {},
     "output_type": "display_data"
    }
   ],
   "source": [
    "month.name %>% str_subset('(er|ry)$')"
   ]
  },
  {
   "cell_type": "markdown",
   "metadata": {},
   "source": [
    "2. [正規表現による抽出]str_extract_all()関数は、文字列の中から正規表現にマッチした部分をすべて抜き出せる。sentence='comuptational social science'として以下の要素を抜き出しなさい\n",
    "\n",
    "(1)単語(アルファベットの連続)"
   ]
  },
  {
   "cell_type": "code",
   "execution_count": 79,
   "metadata": {},
   "outputs": [],
   "source": [
    "sentence = 'computational social science'"
   ]
  },
  {
   "cell_type": "code",
   "execution_count": 80,
   "metadata": {},
   "outputs": [
    {
     "data": {
      "text/html": [
       "<ol>\n",
       "\t<li><style>\n",
       ".list-inline {list-style: none; margin:0; padding: 0}\n",
       ".list-inline>li {display: inline-block}\n",
       ".list-inline>li:not(:last-child)::after {content: \"\\00b7\"; padding: 0 .5ex}\n",
       "</style>\n",
       "<ol class=list-inline><li>'computational'</li><li>'social'</li><li>'science'</li></ol>\n",
       "</li>\n",
       "</ol>\n"
      ],
      "text/latex": [
       "\\begin{enumerate}\n",
       "\\item \\begin{enumerate*}\n",
       "\\item 'computational'\n",
       "\\item 'social'\n",
       "\\item 'science'\n",
       "\\end{enumerate*}\n",
       "\n",
       "\\end{enumerate}\n"
      ],
      "text/markdown": [
       "1. 1. 'computational'\n",
       "2. 'social'\n",
       "3. 'science'\n",
       "\n",
       "\n",
       "\n",
       "\n",
       "\n"
      ],
      "text/plain": [
       "[[1]]\n",
       "[1] \"computational\" \"social\"        \"science\"      \n"
      ]
     },
     "metadata": {},
     "output_type": "display_data"
    }
   ],
   "source": [
    "sentence %>% str_extract_all('[a-zA-z]+')"
   ]
  },
  {
   "cell_type": "markdown",
   "metadata": {},
   "source": [
    "(2) 's'で始まる単語"
   ]
  },
  {
   "cell_type": "code",
   "execution_count": 81,
   "metadata": {},
   "outputs": [
    {
     "data": {
      "text/html": [
       "<ol>\n",
       "\t<li><style>\n",
       ".list-inline {list-style: none; margin:0; padding: 0}\n",
       ".list-inline>li {display: inline-block}\n",
       ".list-inline>li:not(:last-child)::after {content: \"\\00b7\"; padding: 0 .5ex}\n",
       "</style>\n",
       "<ol class=list-inline><li>'social'</li><li>'science'</li></ol>\n",
       "</li>\n",
       "</ol>\n"
      ],
      "text/latex": [
       "\\begin{enumerate}\n",
       "\\item \\begin{enumerate*}\n",
       "\\item 'social'\n",
       "\\item 'science'\n",
       "\\end{enumerate*}\n",
       "\n",
       "\\end{enumerate}\n"
      ],
      "text/markdown": [
       "1. 1. 'social'\n",
       "2. 'science'\n",
       "\n",
       "\n",
       "\n",
       "\n",
       "\n"
      ],
      "text/plain": [
       "[[1]]\n",
       "[1] \"social\"  \"science\"\n"
      ]
     },
     "metadata": {},
     "output_type": "display_data"
    }
   ],
   "source": [
    "sentence %>% str_extract_all('s[a-zA-z]*')"
   ]
  },
  {
   "cell_type": "markdown",
   "metadata": {},
   "source": [
    "(3) 'al'で終わる単語"
   ]
  },
  {
   "cell_type": "code",
   "execution_count": 82,
   "metadata": {},
   "outputs": [
    {
     "data": {
      "text/html": [
       "<ol>\n",
       "\t<li><style>\n",
       ".list-inline {list-style: none; margin:0; padding: 0}\n",
       ".list-inline>li {display: inline-block}\n",
       ".list-inline>li:not(:last-child)::after {content: \"\\00b7\"; padding: 0 .5ex}\n",
       "</style>\n",
       "<ol class=list-inline><li>'computational'</li><li>'social'</li></ol>\n",
       "</li>\n",
       "</ol>\n"
      ],
      "text/latex": [
       "\\begin{enumerate}\n",
       "\\item \\begin{enumerate*}\n",
       "\\item 'computational'\n",
       "\\item 'social'\n",
       "\\end{enumerate*}\n",
       "\n",
       "\\end{enumerate}\n"
      ],
      "text/markdown": [
       "1. 1. 'computational'\n",
       "2. 'social'\n",
       "\n",
       "\n",
       "\n",
       "\n",
       "\n"
      ],
      "text/plain": [
       "[[1]]\n",
       "[1] \"computational\" \"social\"       \n"
      ]
     },
     "metadata": {},
     "output_type": "display_data"
    }
   ],
   "source": [
    "sentence %>% str_extract_all('[a-zA-z]*al')"
   ]
  },
  {
   "cell_type": "markdown",
   "metadata": {},
   "source": [
    "## Ex.8 データフレーム\n",
    "\n",
    "1. [データフレームの操作] `exercise`フォルダに`ex7_1_a.tsv`~`ex7_1_d.tsv`が入っている（以下、ファイルA~Dと呼ぶ）。\n",
    "これはある年における講義科目の学生の成績が入っている架空のデータである。学生は10人いて、社会学(sociology)と心理学(psychology)が必修であるため全員が受講し、\n",
    "経済学(economics)と政治学(politics)は選択科目のため受講していない学生もいる。以下の問に答えなさい\n",
    "\n",
    "(1) ファイルA~Dをデータフレームとして読み込みなさい(名前はdfa~dfdとすること)\n"
   ]
  },
  {
   "cell_type": "code",
   "execution_count": 83,
   "metadata": {},
   "outputs": [],
   "source": [
    "dfa = read.delim('exercise/ex7_1_a.tsv', sep='\\t')"
   ]
  },
  {
   "cell_type": "code",
   "execution_count": 84,
   "metadata": {},
   "outputs": [],
   "source": [
    "dfb = read.delim('exercise/ex7_1_b.tsv', sep='\\t')"
   ]
  },
  {
   "cell_type": "code",
   "execution_count": 85,
   "metadata": {},
   "outputs": [],
   "source": [
    "dfc = read.delim('exercise/ex7_1_c.tsv', sep='\\t')"
   ]
  },
  {
   "cell_type": "code",
   "execution_count": 86,
   "metadata": {},
   "outputs": [],
   "source": [
    "dfd = read.delim('exercise/ex7_1_d.tsv', sep='\\t')"
   ]
  },
  {
   "cell_type": "code",
   "execution_count": 87,
   "metadata": {},
   "outputs": [
    {
     "data": {
      "text/html": [
       "<table>\n",
       "<caption>A data.frame: 5 × 3</caption>\n",
       "<thead>\n",
       "\t<tr><th scope=col>ID</th><th scope=col>sociology</th><th scope=col>psychology</th></tr>\n",
       "\t<tr><th scope=col>&lt;int&gt;</th><th scope=col>&lt;int&gt;</th><th scope=col>&lt;int&gt;</th></tr>\n",
       "</thead>\n",
       "<tbody>\n",
       "\t<tr><td>1</td><td>8</td><td> 7</td></tr>\n",
       "\t<tr><td>2</td><td>5</td><td> 6</td></tr>\n",
       "\t<tr><td>3</td><td>6</td><td>10</td></tr>\n",
       "\t<tr><td>4</td><td>1</td><td> 8</td></tr>\n",
       "\t<tr><td>5</td><td>5</td><td>10</td></tr>\n",
       "</tbody>\n",
       "</table>\n"
      ],
      "text/latex": [
       "A data.frame: 5 × 3\n",
       "\\begin{tabular}{lll}\n",
       " ID & sociology & psychology\\\\\n",
       " <int> & <int> & <int>\\\\\n",
       "\\hline\n",
       "\t 1 & 8 &  7\\\\\n",
       "\t 2 & 5 &  6\\\\\n",
       "\t 3 & 6 & 10\\\\\n",
       "\t 4 & 1 &  8\\\\\n",
       "\t 5 & 5 & 10\\\\\n",
       "\\end{tabular}\n"
      ],
      "text/markdown": [
       "\n",
       "A data.frame: 5 × 3\n",
       "\n",
       "| ID &lt;int&gt; | sociology &lt;int&gt; | psychology &lt;int&gt; |\n",
       "|---|---|---|\n",
       "| 1 | 8 |  7 |\n",
       "| 2 | 5 |  6 |\n",
       "| 3 | 6 | 10 |\n",
       "| 4 | 1 |  8 |\n",
       "| 5 | 5 | 10 |\n",
       "\n"
      ],
      "text/plain": [
       "  ID sociology psychology\n",
       "1 1  8          7        \n",
       "2 2  5          6        \n",
       "3 3  6         10        \n",
       "4 4  1          8        \n",
       "5 5  5         10        "
      ]
     },
     "metadata": {},
     "output_type": "display_data"
    }
   ],
   "source": [
    "dfa"
   ]
  },
  {
   "cell_type": "code",
   "execution_count": 88,
   "metadata": {},
   "outputs": [
    {
     "data": {
      "text/html": [
       "<table>\n",
       "<caption>A data.frame: 5 × 3</caption>\n",
       "<thead>\n",
       "\t<tr><th scope=col>ID</th><th scope=col>sociology</th><th scope=col>psychology</th></tr>\n",
       "\t<tr><th scope=col>&lt;int&gt;</th><th scope=col>&lt;int&gt;</th><th scope=col>&lt;int&gt;</th></tr>\n",
       "</thead>\n",
       "<tbody>\n",
       "\t<tr><td> 6</td><td>3</td><td>9</td></tr>\n",
       "\t<tr><td> 7</td><td>4</td><td>3</td></tr>\n",
       "\t<tr><td> 8</td><td>9</td><td>3</td></tr>\n",
       "\t<tr><td> 9</td><td>6</td><td>8</td></tr>\n",
       "\t<tr><td>10</td><td>2</td><td>6</td></tr>\n",
       "</tbody>\n",
       "</table>\n"
      ],
      "text/latex": [
       "A data.frame: 5 × 3\n",
       "\\begin{tabular}{lll}\n",
       " ID & sociology & psychology\\\\\n",
       " <int> & <int> & <int>\\\\\n",
       "\\hline\n",
       "\t  6 & 3 & 9\\\\\n",
       "\t  7 & 4 & 3\\\\\n",
       "\t  8 & 9 & 3\\\\\n",
       "\t  9 & 6 & 8\\\\\n",
       "\t 10 & 2 & 6\\\\\n",
       "\\end{tabular}\n"
      ],
      "text/markdown": [
       "\n",
       "A data.frame: 5 × 3\n",
       "\n",
       "| ID &lt;int&gt; | sociology &lt;int&gt; | psychology &lt;int&gt; |\n",
       "|---|---|---|\n",
       "|  6 | 3 | 9 |\n",
       "|  7 | 4 | 3 |\n",
       "|  8 | 9 | 3 |\n",
       "|  9 | 6 | 8 |\n",
       "| 10 | 2 | 6 |\n",
       "\n"
      ],
      "text/plain": [
       "  ID sociology psychology\n",
       "1  6 3         9         \n",
       "2  7 4         3         \n",
       "3  8 9         3         \n",
       "4  9 6         8         \n",
       "5 10 2         6         "
      ]
     },
     "metadata": {},
     "output_type": "display_data"
    }
   ],
   "source": [
    "dfb\n"
   ]
  },
  {
   "cell_type": "code",
   "execution_count": 89,
   "metadata": {},
   "outputs": [
    {
     "data": {
      "text/html": [
       "<table>\n",
       "<caption>A data.frame: 7 × 2</caption>\n",
       "<thead>\n",
       "\t<tr><th scope=col>ID</th><th scope=col>economics</th></tr>\n",
       "\t<tr><th scope=col>&lt;int&gt;</th><th scope=col>&lt;int&gt;</th></tr>\n",
       "</thead>\n",
       "<tbody>\n",
       "\t<tr><td> 3</td><td> 6</td></tr>\n",
       "\t<tr><td> 4</td><td> 1</td></tr>\n",
       "\t<tr><td> 5</td><td>10</td></tr>\n",
       "\t<tr><td> 6</td><td> 5</td></tr>\n",
       "\t<tr><td> 7</td><td> 7</td></tr>\n",
       "\t<tr><td> 8</td><td> 8</td></tr>\n",
       "\t<tr><td>10</td><td> 9</td></tr>\n",
       "</tbody>\n",
       "</table>\n"
      ],
      "text/latex": [
       "A data.frame: 7 × 2\n",
       "\\begin{tabular}{ll}\n",
       " ID & economics\\\\\n",
       " <int> & <int>\\\\\n",
       "\\hline\n",
       "\t  3 &  6\\\\\n",
       "\t  4 &  1\\\\\n",
       "\t  5 & 10\\\\\n",
       "\t  6 &  5\\\\\n",
       "\t  7 &  7\\\\\n",
       "\t  8 &  8\\\\\n",
       "\t 10 &  9\\\\\n",
       "\\end{tabular}\n"
      ],
      "text/markdown": [
       "\n",
       "A data.frame: 7 × 2\n",
       "\n",
       "| ID &lt;int&gt; | economics &lt;int&gt; |\n",
       "|---|---|\n",
       "|  3 |  6 |\n",
       "|  4 |  1 |\n",
       "|  5 | 10 |\n",
       "|  6 |  5 |\n",
       "|  7 |  7 |\n",
       "|  8 |  8 |\n",
       "| 10 |  9 |\n",
       "\n"
      ],
      "text/plain": [
       "  ID economics\n",
       "1  3  6       \n",
       "2  4  1       \n",
       "3  5 10       \n",
       "4  6  5       \n",
       "5  7  7       \n",
       "6  8  8       \n",
       "7 10  9       "
      ]
     },
     "metadata": {},
     "output_type": "display_data"
    }
   ],
   "source": [
    "dfc"
   ]
  },
  {
   "cell_type": "code",
   "execution_count": 90,
   "metadata": {},
   "outputs": [
    {
     "data": {
      "text/html": [
       "<table>\n",
       "<caption>A data.frame: 7 × 2</caption>\n",
       "<thead>\n",
       "\t<tr><th scope=col>ID</th><th scope=col>politics</th></tr>\n",
       "\t<tr><th scope=col>&lt;int&gt;</th><th scope=col>&lt;int&gt;</th></tr>\n",
       "</thead>\n",
       "<tbody>\n",
       "\t<tr><td> 2</td><td>4</td></tr>\n",
       "\t<tr><td> 4</td><td>2</td></tr>\n",
       "\t<tr><td> 5</td><td>9</td></tr>\n",
       "\t<tr><td> 7</td><td>5</td></tr>\n",
       "\t<tr><td> 8</td><td>9</td></tr>\n",
       "\t<tr><td> 9</td><td>9</td></tr>\n",
       "\t<tr><td>10</td><td>7</td></tr>\n",
       "</tbody>\n",
       "</table>\n"
      ],
      "text/latex": [
       "A data.frame: 7 × 2\n",
       "\\begin{tabular}{ll}\n",
       " ID & politics\\\\\n",
       " <int> & <int>\\\\\n",
       "\\hline\n",
       "\t  2 & 4\\\\\n",
       "\t  4 & 2\\\\\n",
       "\t  5 & 9\\\\\n",
       "\t  7 & 5\\\\\n",
       "\t  8 & 9\\\\\n",
       "\t  9 & 9\\\\\n",
       "\t 10 & 7\\\\\n",
       "\\end{tabular}\n"
      ],
      "text/markdown": [
       "\n",
       "A data.frame: 7 × 2\n",
       "\n",
       "| ID &lt;int&gt; | politics &lt;int&gt; |\n",
       "|---|---|\n",
       "|  2 | 4 |\n",
       "|  4 | 2 |\n",
       "|  5 | 9 |\n",
       "|  7 | 5 |\n",
       "|  8 | 9 |\n",
       "|  9 | 9 |\n",
       "| 10 | 7 |\n",
       "\n"
      ],
      "text/plain": [
       "  ID politics\n",
       "1  2 4       \n",
       "2  4 2       \n",
       "3  5 9       \n",
       "4  7 5       \n",
       "5  8 9       \n",
       "6  9 9       \n",
       "7 10 7       "
      ]
     },
     "metadata": {},
     "output_type": "display_data"
    }
   ],
   "source": [
    "dfd"
   ]
  },
  {
   "cell_type": "markdown",
   "metadata": {},
   "source": [
    "(2) ファイルAはID1~ID5の学生の、ファイルBはID6~ID10の学生の社会学と心理学の成績である。rbind()関数を用いて両者を結合し、新しいデータフレームを作りなさい（名前はdf_abとすること）\n"
   ]
  },
  {
   "cell_type": "code",
   "execution_count": 91,
   "metadata": {},
   "outputs": [],
   "source": [
    "df_ab = rbind(dfa, dfb)"
   ]
  },
  {
   "cell_type": "code",
   "execution_count": 92,
   "metadata": {},
   "outputs": [
    {
     "data": {
      "text/html": [
       "<table>\n",
       "<caption>A data.frame: 10 × 3</caption>\n",
       "<thead>\n",
       "\t<tr><th scope=col>ID</th><th scope=col>sociology</th><th scope=col>psychology</th></tr>\n",
       "\t<tr><th scope=col>&lt;int&gt;</th><th scope=col>&lt;int&gt;</th><th scope=col>&lt;int&gt;</th></tr>\n",
       "</thead>\n",
       "<tbody>\n",
       "\t<tr><td> 1</td><td>8</td><td> 7</td></tr>\n",
       "\t<tr><td> 2</td><td>5</td><td> 6</td></tr>\n",
       "\t<tr><td> 3</td><td>6</td><td>10</td></tr>\n",
       "\t<tr><td> 4</td><td>1</td><td> 8</td></tr>\n",
       "\t<tr><td> 5</td><td>5</td><td>10</td></tr>\n",
       "\t<tr><td> 6</td><td>3</td><td> 9</td></tr>\n",
       "\t<tr><td> 7</td><td>4</td><td> 3</td></tr>\n",
       "\t<tr><td> 8</td><td>9</td><td> 3</td></tr>\n",
       "\t<tr><td> 9</td><td>6</td><td> 8</td></tr>\n",
       "\t<tr><td>10</td><td>2</td><td> 6</td></tr>\n",
       "</tbody>\n",
       "</table>\n"
      ],
      "text/latex": [
       "A data.frame: 10 × 3\n",
       "\\begin{tabular}{lll}\n",
       " ID & sociology & psychology\\\\\n",
       " <int> & <int> & <int>\\\\\n",
       "\\hline\n",
       "\t  1 & 8 &  7\\\\\n",
       "\t  2 & 5 &  6\\\\\n",
       "\t  3 & 6 & 10\\\\\n",
       "\t  4 & 1 &  8\\\\\n",
       "\t  5 & 5 & 10\\\\\n",
       "\t  6 & 3 &  9\\\\\n",
       "\t  7 & 4 &  3\\\\\n",
       "\t  8 & 9 &  3\\\\\n",
       "\t  9 & 6 &  8\\\\\n",
       "\t 10 & 2 &  6\\\\\n",
       "\\end{tabular}\n"
      ],
      "text/markdown": [
       "\n",
       "A data.frame: 10 × 3\n",
       "\n",
       "| ID &lt;int&gt; | sociology &lt;int&gt; | psychology &lt;int&gt; |\n",
       "|---|---|---|\n",
       "|  1 | 8 |  7 |\n",
       "|  2 | 5 |  6 |\n",
       "|  3 | 6 | 10 |\n",
       "|  4 | 1 |  8 |\n",
       "|  5 | 5 | 10 |\n",
       "|  6 | 3 |  9 |\n",
       "|  7 | 4 |  3 |\n",
       "|  8 | 9 |  3 |\n",
       "|  9 | 6 |  8 |\n",
       "| 10 | 2 |  6 |\n",
       "\n"
      ],
      "text/plain": [
       "   ID sociology psychology\n",
       "1   1 8          7        \n",
       "2   2 5          6        \n",
       "3   3 6         10        \n",
       "4   4 1          8        \n",
       "5   5 5         10        \n",
       "6   6 3          9        \n",
       "7   7 4          3        \n",
       "8   8 9          3        \n",
       "9   9 6          8        \n",
       "10 10 2          6        "
      ]
     },
     "metadata": {},
     "output_type": "display_data"
    }
   ],
   "source": [
    "df_ab"
   ]
  },
  {
   "cell_type": "markdown",
   "metadata": {},
   "source": [
    "(3) ファイルCは経済学、ファイルDは政治学の成績である。merge()関数を用いて以下の結合結果を確かめなさい。\n",
    "\n",
    "(3-1) 経済学と政治学の両方を受講している学生のデータのみ使う\n"
   ]
  },
  {
   "cell_type": "code",
   "execution_count": 93,
   "metadata": {},
   "outputs": [
    {
     "data": {
      "text/html": [
       "<table>\n",
       "<caption>A data.frame: 5 × 3</caption>\n",
       "<thead>\n",
       "\t<tr><th scope=col>ID</th><th scope=col>economics</th><th scope=col>politics</th></tr>\n",
       "\t<tr><th scope=col>&lt;int&gt;</th><th scope=col>&lt;int&gt;</th><th scope=col>&lt;int&gt;</th></tr>\n",
       "</thead>\n",
       "<tbody>\n",
       "\t<tr><td> 4</td><td> 1</td><td>2</td></tr>\n",
       "\t<tr><td> 5</td><td>10</td><td>9</td></tr>\n",
       "\t<tr><td> 7</td><td> 7</td><td>5</td></tr>\n",
       "\t<tr><td> 8</td><td> 8</td><td>9</td></tr>\n",
       "\t<tr><td>10</td><td> 9</td><td>7</td></tr>\n",
       "</tbody>\n",
       "</table>\n"
      ],
      "text/latex": [
       "A data.frame: 5 × 3\n",
       "\\begin{tabular}{lll}\n",
       " ID & economics & politics\\\\\n",
       " <int> & <int> & <int>\\\\\n",
       "\\hline\n",
       "\t  4 &  1 & 2\\\\\n",
       "\t  5 & 10 & 9\\\\\n",
       "\t  7 &  7 & 5\\\\\n",
       "\t  8 &  8 & 9\\\\\n",
       "\t 10 &  9 & 7\\\\\n",
       "\\end{tabular}\n"
      ],
      "text/markdown": [
       "\n",
       "A data.frame: 5 × 3\n",
       "\n",
       "| ID &lt;int&gt; | economics &lt;int&gt; | politics &lt;int&gt; |\n",
       "|---|---|---|\n",
       "|  4 |  1 | 2 |\n",
       "|  5 | 10 | 9 |\n",
       "|  7 |  7 | 5 |\n",
       "|  8 |  8 | 9 |\n",
       "| 10 |  9 | 7 |\n",
       "\n"
      ],
      "text/plain": [
       "  ID economics politics\n",
       "1  4  1        2       \n",
       "2  5 10        9       \n",
       "3  7  7        5       \n",
       "4  8  8        9       \n",
       "5 10  9        7       "
      ]
     },
     "metadata": {},
     "output_type": "display_data"
    }
   ],
   "source": [
    "merge(dfc, dfd)"
   ]
  },
  {
   "cell_type": "markdown",
   "metadata": {},
   "source": [
    "  (3-2) 経済学を受講している学生のデータはすべて使い、政治学のみ受講している学生のデータは使わない\n"
   ]
  },
  {
   "cell_type": "code",
   "execution_count": 94,
   "metadata": {},
   "outputs": [
    {
     "data": {
      "text/html": [
       "<table>\n",
       "<caption>A data.frame: 7 × 3</caption>\n",
       "<thead>\n",
       "\t<tr><th scope=col>ID</th><th scope=col>economics</th><th scope=col>politics</th></tr>\n",
       "\t<tr><th scope=col>&lt;int&gt;</th><th scope=col>&lt;int&gt;</th><th scope=col>&lt;int&gt;</th></tr>\n",
       "</thead>\n",
       "<tbody>\n",
       "\t<tr><td> 3</td><td> 6</td><td>NA</td></tr>\n",
       "\t<tr><td> 4</td><td> 1</td><td> 2</td></tr>\n",
       "\t<tr><td> 5</td><td>10</td><td> 9</td></tr>\n",
       "\t<tr><td> 6</td><td> 5</td><td>NA</td></tr>\n",
       "\t<tr><td> 7</td><td> 7</td><td> 5</td></tr>\n",
       "\t<tr><td> 8</td><td> 8</td><td> 9</td></tr>\n",
       "\t<tr><td>10</td><td> 9</td><td> 7</td></tr>\n",
       "</tbody>\n",
       "</table>\n"
      ],
      "text/latex": [
       "A data.frame: 7 × 3\n",
       "\\begin{tabular}{lll}\n",
       " ID & economics & politics\\\\\n",
       " <int> & <int> & <int>\\\\\n",
       "\\hline\n",
       "\t  3 &  6 & NA\\\\\n",
       "\t  4 &  1 &  2\\\\\n",
       "\t  5 & 10 &  9\\\\\n",
       "\t  6 &  5 & NA\\\\\n",
       "\t  7 &  7 &  5\\\\\n",
       "\t  8 &  8 &  9\\\\\n",
       "\t 10 &  9 &  7\\\\\n",
       "\\end{tabular}\n"
      ],
      "text/markdown": [
       "\n",
       "A data.frame: 7 × 3\n",
       "\n",
       "| ID &lt;int&gt; | economics &lt;int&gt; | politics &lt;int&gt; |\n",
       "|---|---|---|\n",
       "|  3 |  6 | NA |\n",
       "|  4 |  1 |  2 |\n",
       "|  5 | 10 |  9 |\n",
       "|  6 |  5 | NA |\n",
       "|  7 |  7 |  5 |\n",
       "|  8 |  8 |  9 |\n",
       "| 10 |  9 |  7 |\n",
       "\n"
      ],
      "text/plain": [
       "  ID economics politics\n",
       "1  3  6        NA      \n",
       "2  4  1         2      \n",
       "3  5 10         9      \n",
       "4  6  5        NA      \n",
       "5  7  7         5      \n",
       "6  8  8         9      \n",
       "7 10  9         7      "
      ]
     },
     "metadata": {},
     "output_type": "display_data"
    }
   ],
   "source": [
    "merge(dfc, dfd, all.x=T)"
   ]
  },
  {
   "cell_type": "markdown",
   "metadata": {},
   "source": [
    "  (3-3) 政治学を受講している学生のデータはすべて使い、経済学のみ受講している学生のデータは使わない"
   ]
  },
  {
   "cell_type": "code",
   "execution_count": 95,
   "metadata": {},
   "outputs": [
    {
     "data": {
      "text/html": [
       "<table>\n",
       "<caption>A data.frame: 7 × 3</caption>\n",
       "<thead>\n",
       "\t<tr><th scope=col>ID</th><th scope=col>economics</th><th scope=col>politics</th></tr>\n",
       "\t<tr><th scope=col>&lt;int&gt;</th><th scope=col>&lt;int&gt;</th><th scope=col>&lt;int&gt;</th></tr>\n",
       "</thead>\n",
       "<tbody>\n",
       "\t<tr><td> 2</td><td>NA</td><td>4</td></tr>\n",
       "\t<tr><td> 4</td><td> 1</td><td>2</td></tr>\n",
       "\t<tr><td> 5</td><td>10</td><td>9</td></tr>\n",
       "\t<tr><td> 7</td><td> 7</td><td>5</td></tr>\n",
       "\t<tr><td> 8</td><td> 8</td><td>9</td></tr>\n",
       "\t<tr><td> 9</td><td>NA</td><td>9</td></tr>\n",
       "\t<tr><td>10</td><td> 9</td><td>7</td></tr>\n",
       "</tbody>\n",
       "</table>\n"
      ],
      "text/latex": [
       "A data.frame: 7 × 3\n",
       "\\begin{tabular}{lll}\n",
       " ID & economics & politics\\\\\n",
       " <int> & <int> & <int>\\\\\n",
       "\\hline\n",
       "\t  2 & NA & 4\\\\\n",
       "\t  4 &  1 & 2\\\\\n",
       "\t  5 & 10 & 9\\\\\n",
       "\t  7 &  7 & 5\\\\\n",
       "\t  8 &  8 & 9\\\\\n",
       "\t  9 & NA & 9\\\\\n",
       "\t 10 &  9 & 7\\\\\n",
       "\\end{tabular}\n"
      ],
      "text/markdown": [
       "\n",
       "A data.frame: 7 × 3\n",
       "\n",
       "| ID &lt;int&gt; | economics &lt;int&gt; | politics &lt;int&gt; |\n",
       "|---|---|---|\n",
       "|  2 | NA | 4 |\n",
       "|  4 |  1 | 2 |\n",
       "|  5 | 10 | 9 |\n",
       "|  7 |  7 | 5 |\n",
       "|  8 |  8 | 9 |\n",
       "|  9 | NA | 9 |\n",
       "| 10 |  9 | 7 |\n",
       "\n"
      ],
      "text/plain": [
       "  ID economics politics\n",
       "1  2 NA        4       \n",
       "2  4  1        2       \n",
       "3  5 10        9       \n",
       "4  7  7        5       \n",
       "5  8  8        9       \n",
       "6  9 NA        9       \n",
       "7 10  9        7       "
      ]
     },
     "metadata": {},
     "output_type": "display_data"
    }
   ],
   "source": [
    "merge(dfc, dfd, all.y=T)"
   ]
  },
  {
   "cell_type": "markdown",
   "metadata": {},
   "source": [
    "  (3-4) ファイルC, ファイルDに含まれるすべての学生のデータを使う"
   ]
  },
  {
   "cell_type": "code",
   "execution_count": 96,
   "metadata": {},
   "outputs": [
    {
     "data": {
      "text/html": [
       "<table>\n",
       "<caption>A data.frame: 9 × 3</caption>\n",
       "<thead>\n",
       "\t<tr><th scope=col>ID</th><th scope=col>economics</th><th scope=col>politics</th></tr>\n",
       "\t<tr><th scope=col>&lt;int&gt;</th><th scope=col>&lt;int&gt;</th><th scope=col>&lt;int&gt;</th></tr>\n",
       "</thead>\n",
       "<tbody>\n",
       "\t<tr><td> 2</td><td>NA</td><td> 4</td></tr>\n",
       "\t<tr><td> 3</td><td> 6</td><td>NA</td></tr>\n",
       "\t<tr><td> 4</td><td> 1</td><td> 2</td></tr>\n",
       "\t<tr><td> 5</td><td>10</td><td> 9</td></tr>\n",
       "\t<tr><td> 6</td><td> 5</td><td>NA</td></tr>\n",
       "\t<tr><td> 7</td><td> 7</td><td> 5</td></tr>\n",
       "\t<tr><td> 8</td><td> 8</td><td> 9</td></tr>\n",
       "\t<tr><td> 9</td><td>NA</td><td> 9</td></tr>\n",
       "\t<tr><td>10</td><td> 9</td><td> 7</td></tr>\n",
       "</tbody>\n",
       "</table>\n"
      ],
      "text/latex": [
       "A data.frame: 9 × 3\n",
       "\\begin{tabular}{lll}\n",
       " ID & economics & politics\\\\\n",
       " <int> & <int> & <int>\\\\\n",
       "\\hline\n",
       "\t  2 & NA &  4\\\\\n",
       "\t  3 &  6 & NA\\\\\n",
       "\t  4 &  1 &  2\\\\\n",
       "\t  5 & 10 &  9\\\\\n",
       "\t  6 &  5 & NA\\\\\n",
       "\t  7 &  7 &  5\\\\\n",
       "\t  8 &  8 &  9\\\\\n",
       "\t  9 & NA &  9\\\\\n",
       "\t 10 &  9 &  7\\\\\n",
       "\\end{tabular}\n"
      ],
      "text/markdown": [
       "\n",
       "A data.frame: 9 × 3\n",
       "\n",
       "| ID &lt;int&gt; | economics &lt;int&gt; | politics &lt;int&gt; |\n",
       "|---|---|---|\n",
       "|  2 | NA |  4 |\n",
       "|  3 |  6 | NA |\n",
       "|  4 |  1 |  2 |\n",
       "|  5 | 10 |  9 |\n",
       "|  6 |  5 | NA |\n",
       "|  7 |  7 |  5 |\n",
       "|  8 |  8 |  9 |\n",
       "|  9 | NA |  9 |\n",
       "| 10 |  9 |  7 |\n",
       "\n"
      ],
      "text/plain": [
       "  ID economics politics\n",
       "1  2 NA         4      \n",
       "2  3  6        NA      \n",
       "3  4  1         2      \n",
       "4  5 10         9      \n",
       "5  6  5        NA      \n",
       "6  7  7         5      \n",
       "7  8  8         9      \n",
       "8  9 NA         9      \n",
       "9 10  9         7      "
      ]
     },
     "metadata": {},
     "output_type": "display_data"
    }
   ],
   "source": [
    "merge(dfc, dfd, all=T)"
   ]
  },
  {
   "cell_type": "markdown",
   "metadata": {},
   "source": [
    "(4) 前問(3-4)の結合結果をdf_cdと呼ぶことにする。merge()関数を用いて、df_abとdf_cdを結合したデータフレームを作成しなさい(名前はdf_abcdとする)。ただしすべてのデータを使う(all=T)こと。\n"
   ]
  },
  {
   "cell_type": "code",
   "execution_count": 97,
   "metadata": {},
   "outputs": [],
   "source": [
    "df_cd = merge(dfc, dfd, all=T)\n",
    "df_abcd = merge(df_ab, df_cd, all=T)"
   ]
  },
  {
   "cell_type": "code",
   "execution_count": 98,
   "metadata": {},
   "outputs": [
    {
     "data": {
      "text/html": [
       "<table>\n",
       "<caption>A data.frame: 10 × 5</caption>\n",
       "<thead>\n",
       "\t<tr><th scope=col>ID</th><th scope=col>sociology</th><th scope=col>psychology</th><th scope=col>economics</th><th scope=col>politics</th></tr>\n",
       "\t<tr><th scope=col>&lt;int&gt;</th><th scope=col>&lt;int&gt;</th><th scope=col>&lt;int&gt;</th><th scope=col>&lt;int&gt;</th><th scope=col>&lt;int&gt;</th></tr>\n",
       "</thead>\n",
       "<tbody>\n",
       "\t<tr><td> 1</td><td>8</td><td> 7</td><td>NA</td><td>NA</td></tr>\n",
       "\t<tr><td> 2</td><td>5</td><td> 6</td><td>NA</td><td> 4</td></tr>\n",
       "\t<tr><td> 3</td><td>6</td><td>10</td><td> 6</td><td>NA</td></tr>\n",
       "\t<tr><td> 4</td><td>1</td><td> 8</td><td> 1</td><td> 2</td></tr>\n",
       "\t<tr><td> 5</td><td>5</td><td>10</td><td>10</td><td> 9</td></tr>\n",
       "\t<tr><td> 6</td><td>3</td><td> 9</td><td> 5</td><td>NA</td></tr>\n",
       "\t<tr><td> 7</td><td>4</td><td> 3</td><td> 7</td><td> 5</td></tr>\n",
       "\t<tr><td> 8</td><td>9</td><td> 3</td><td> 8</td><td> 9</td></tr>\n",
       "\t<tr><td> 9</td><td>6</td><td> 8</td><td>NA</td><td> 9</td></tr>\n",
       "\t<tr><td>10</td><td>2</td><td> 6</td><td> 9</td><td> 7</td></tr>\n",
       "</tbody>\n",
       "</table>\n"
      ],
      "text/latex": [
       "A data.frame: 10 × 5\n",
       "\\begin{tabular}{lllll}\n",
       " ID & sociology & psychology & economics & politics\\\\\n",
       " <int> & <int> & <int> & <int> & <int>\\\\\n",
       "\\hline\n",
       "\t  1 & 8 &  7 & NA & NA\\\\\n",
       "\t  2 & 5 &  6 & NA &  4\\\\\n",
       "\t  3 & 6 & 10 &  6 & NA\\\\\n",
       "\t  4 & 1 &  8 &  1 &  2\\\\\n",
       "\t  5 & 5 & 10 & 10 &  9\\\\\n",
       "\t  6 & 3 &  9 &  5 & NA\\\\\n",
       "\t  7 & 4 &  3 &  7 &  5\\\\\n",
       "\t  8 & 9 &  3 &  8 &  9\\\\\n",
       "\t  9 & 6 &  8 & NA &  9\\\\\n",
       "\t 10 & 2 &  6 &  9 &  7\\\\\n",
       "\\end{tabular}\n"
      ],
      "text/markdown": [
       "\n",
       "A data.frame: 10 × 5\n",
       "\n",
       "| ID &lt;int&gt; | sociology &lt;int&gt; | psychology &lt;int&gt; | economics &lt;int&gt; | politics &lt;int&gt; |\n",
       "|---|---|---|---|---|\n",
       "|  1 | 8 |  7 | NA | NA |\n",
       "|  2 | 5 |  6 | NA |  4 |\n",
       "|  3 | 6 | 10 |  6 | NA |\n",
       "|  4 | 1 |  8 |  1 |  2 |\n",
       "|  5 | 5 | 10 | 10 |  9 |\n",
       "|  6 | 3 |  9 |  5 | NA |\n",
       "|  7 | 4 |  3 |  7 |  5 |\n",
       "|  8 | 9 |  3 |  8 |  9 |\n",
       "|  9 | 6 |  8 | NA |  9 |\n",
       "| 10 | 2 |  6 |  9 |  7 |\n",
       "\n"
      ],
      "text/plain": [
       "   ID sociology psychology economics politics\n",
       "1   1 8          7         NA        NA      \n",
       "2   2 5          6         NA         4      \n",
       "3   3 6         10          6        NA      \n",
       "4   4 1          8          1         2      \n",
       "5   5 5         10         10         9      \n",
       "6   6 3          9          5        NA      \n",
       "7   7 4          3          7         5      \n",
       "8   8 9          3          8         9      \n",
       "9   9 6          8         NA         9      \n",
       "10 10 2          6          9         7      "
      ]
     },
     "metadata": {},
     "output_type": "display_data"
    }
   ],
   "source": [
    "df_abcd"
   ]
  },
  {
   "cell_type": "markdown",
   "metadata": {},
   "source": [
    "(5) df_abcdについて、学生の成績の平均値を求め、列名を`GPA`として新しい列を追加しなさい"
   ]
  },
  {
   "cell_type": "code",
   "execution_count": 99,
   "metadata": {},
   "outputs": [],
   "source": [
    "df_abcd['GPA'] = rowMeans(df_abcd[2:5], na.rm = T) #IDは含めない"
   ]
  },
  {
   "cell_type": "code",
   "execution_count": 100,
   "metadata": {},
   "outputs": [
    {
     "data": {
      "text/html": [
       "<table>\n",
       "<caption>A data.frame: 10 × 6</caption>\n",
       "<thead>\n",
       "\t<tr><th scope=col>ID</th><th scope=col>sociology</th><th scope=col>psychology</th><th scope=col>economics</th><th scope=col>politics</th><th scope=col>GPA</th></tr>\n",
       "\t<tr><th scope=col>&lt;int&gt;</th><th scope=col>&lt;int&gt;</th><th scope=col>&lt;int&gt;</th><th scope=col>&lt;int&gt;</th><th scope=col>&lt;int&gt;</th><th scope=col>&lt;dbl&gt;</th></tr>\n",
       "</thead>\n",
       "<tbody>\n",
       "\t<tr><td> 1</td><td>8</td><td> 7</td><td>NA</td><td>NA</td><td>7.500000</td></tr>\n",
       "\t<tr><td> 2</td><td>5</td><td> 6</td><td>NA</td><td> 4</td><td>5.000000</td></tr>\n",
       "\t<tr><td> 3</td><td>6</td><td>10</td><td> 6</td><td>NA</td><td>7.333333</td></tr>\n",
       "\t<tr><td> 4</td><td>1</td><td> 8</td><td> 1</td><td> 2</td><td>3.000000</td></tr>\n",
       "\t<tr><td> 5</td><td>5</td><td>10</td><td>10</td><td> 9</td><td>8.500000</td></tr>\n",
       "\t<tr><td> 6</td><td>3</td><td> 9</td><td> 5</td><td>NA</td><td>5.666667</td></tr>\n",
       "\t<tr><td> 7</td><td>4</td><td> 3</td><td> 7</td><td> 5</td><td>4.750000</td></tr>\n",
       "\t<tr><td> 8</td><td>9</td><td> 3</td><td> 8</td><td> 9</td><td>7.250000</td></tr>\n",
       "\t<tr><td> 9</td><td>6</td><td> 8</td><td>NA</td><td> 9</td><td>7.666667</td></tr>\n",
       "\t<tr><td>10</td><td>2</td><td> 6</td><td> 9</td><td> 7</td><td>6.000000</td></tr>\n",
       "</tbody>\n",
       "</table>\n"
      ],
      "text/latex": [
       "A data.frame: 10 × 6\n",
       "\\begin{tabular}{llllll}\n",
       " ID & sociology & psychology & economics & politics & GPA\\\\\n",
       " <int> & <int> & <int> & <int> & <int> & <dbl>\\\\\n",
       "\\hline\n",
       "\t  1 & 8 &  7 & NA & NA & 7.500000\\\\\n",
       "\t  2 & 5 &  6 & NA &  4 & 5.000000\\\\\n",
       "\t  3 & 6 & 10 &  6 & NA & 7.333333\\\\\n",
       "\t  4 & 1 &  8 &  1 &  2 & 3.000000\\\\\n",
       "\t  5 & 5 & 10 & 10 &  9 & 8.500000\\\\\n",
       "\t  6 & 3 &  9 &  5 & NA & 5.666667\\\\\n",
       "\t  7 & 4 &  3 &  7 &  5 & 4.750000\\\\\n",
       "\t  8 & 9 &  3 &  8 &  9 & 7.250000\\\\\n",
       "\t  9 & 6 &  8 & NA &  9 & 7.666667\\\\\n",
       "\t 10 & 2 &  6 &  9 &  7 & 6.000000\\\\\n",
       "\\end{tabular}\n"
      ],
      "text/markdown": [
       "\n",
       "A data.frame: 10 × 6\n",
       "\n",
       "| ID &lt;int&gt; | sociology &lt;int&gt; | psychology &lt;int&gt; | economics &lt;int&gt; | politics &lt;int&gt; | GPA &lt;dbl&gt; |\n",
       "|---|---|---|---|---|---|\n",
       "|  1 | 8 |  7 | NA | NA | 7.500000 |\n",
       "|  2 | 5 |  6 | NA |  4 | 5.000000 |\n",
       "|  3 | 6 | 10 |  6 | NA | 7.333333 |\n",
       "|  4 | 1 |  8 |  1 |  2 | 3.000000 |\n",
       "|  5 | 5 | 10 | 10 |  9 | 8.500000 |\n",
       "|  6 | 3 |  9 |  5 | NA | 5.666667 |\n",
       "|  7 | 4 |  3 |  7 |  5 | 4.750000 |\n",
       "|  8 | 9 |  3 |  8 |  9 | 7.250000 |\n",
       "|  9 | 6 |  8 | NA |  9 | 7.666667 |\n",
       "| 10 | 2 |  6 |  9 |  7 | 6.000000 |\n",
       "\n"
      ],
      "text/plain": [
       "   ID sociology psychology economics politics GPA     \n",
       "1   1 8          7         NA        NA       7.500000\n",
       "2   2 5          6         NA         4       5.000000\n",
       "3   3 6         10          6        NA       7.333333\n",
       "4   4 1          8          1         2       3.000000\n",
       "5   5 5         10         10         9       8.500000\n",
       "6   6 3          9          5        NA       5.666667\n",
       "7   7 4          3          7         5       4.750000\n",
       "8   8 9          3          8         9       7.250000\n",
       "9   9 6          8         NA         9       7.666667\n",
       "10 10 2          6          9         7       6.000000"
      ]
     },
     "metadata": {},
     "output_type": "display_data"
    }
   ],
   "source": [
    "df_abcd"
   ]
  },
  {
   "cell_type": "markdown",
   "metadata": {},
   "source": [
    "(6) df_abcdをtsvファイルとして書き出しなさい"
   ]
  },
  {
   "cell_type": "code",
   "execution_count": 101,
   "metadata": {},
   "outputs": [],
   "source": [
    "write.table(df_abcd, 'df_abcd.tsv', sep='\\t', quote=F, row.names=F)"
   ]
  },
  {
   "cell_type": "markdown",
   "metadata": {},
   "source": [
    "2. [データフレームと関数] `USJudgeRatings`は弁護士による米国高等裁判所における州裁判官の評価である。\n",
    "    なお、各変数の説明は以下の通りである：\n",
    "\n",
    "```\n",
    "[,1]\tCONT\tNumber of contacts of lawyer with judge. # 弁護士と裁判官の接触回数\n",
    "[,2]\tINTG\tJudicial integrity. # 司法の廉潔性\n",
    "[,3]\tDMNR\tDemeanor. # 態度\n",
    "[,4]\tDILG\tDiligence. # 勤勉さ\n",
    "[,5]\tCFMG\tCase flow managing. # 事案管理\n",
    "[,6]\tDECI\tPrompt decisions. # 即決性\n",
    "[,7]\tPREP\tPreparation for trial. # 審理への準備\n",
    "[,8]\tFAMI\tFamiliarity with law. # 法律への熟知性\n",
    "[,9]\tORAL\tSound oral rulings. # 口頭決定の健全性\n",
    "[,10]\tWRIT\tSound written rulings. # 書面決定の健全性\n",
    "[,11]\tPHYS\tPhysical ability. # 身体能力\n",
    "[,12]\tRTEN\tWorthy of retention. # 留保の適切さ\n",
    "```\n",
    "\n",
    "`USJudgeRatings`をデータセットとして以下の問に答えなさい"
   ]
  },
  {
   "cell_type": "markdown",
   "metadata": {},
   "source": [
    "(1) psychパッケージをインストールしていないならば`install.packages('psych')`を実行し、インストールしなさい\n"
   ]
  },
  {
   "cell_type": "code",
   "execution_count": 102,
   "metadata": {},
   "outputs": [],
   "source": [
    "# 省略"
   ]
  },
  {
   "cell_type": "markdown",
   "metadata": {},
   "source": [
    "(2) library()関数でpsychパッケージを読み込んだ上でdescribe()関数を適用し、各変数の要約統計量を算出しなさい\n"
   ]
  },
  {
   "cell_type": "code",
   "execution_count": 103,
   "metadata": {},
   "outputs": [
    {
     "data": {
      "text/html": [
       "<table>\n",
       "<caption>A psych: 12 × 13</caption>\n",
       "<thead>\n",
       "\t<tr><th></th><th scope=col>vars</th><th scope=col>n</th><th scope=col>mean</th><th scope=col>sd</th><th scope=col>median</th><th scope=col>trimmed</th><th scope=col>mad</th><th scope=col>min</th><th scope=col>max</th><th scope=col>range</th><th scope=col>skew</th><th scope=col>kurtosis</th><th scope=col>se</th></tr>\n",
       "\t<tr><th></th><th scope=col>&lt;int&gt;</th><th scope=col>&lt;dbl&gt;</th><th scope=col>&lt;dbl&gt;</th><th scope=col>&lt;dbl&gt;</th><th scope=col>&lt;dbl&gt;</th><th scope=col>&lt;dbl&gt;</th><th scope=col>&lt;dbl&gt;</th><th scope=col>&lt;dbl&gt;</th><th scope=col>&lt;dbl&gt;</th><th scope=col>&lt;dbl&gt;</th><th scope=col>&lt;dbl&gt;</th><th scope=col>&lt;dbl&gt;</th><th scope=col>&lt;dbl&gt;</th></tr>\n",
       "</thead>\n",
       "<tbody>\n",
       "\t<tr><th scope=row>CONT</th><td> 1</td><td>43</td><td>7.437209</td><td>0.9408768</td><td>7.3</td><td>7.354286</td><td>0.74130</td><td>5.7</td><td>10.6</td><td>4.9</td><td> 1.0483108</td><td> 1.512211829</td><td>0.1434824</td></tr>\n",
       "\t<tr><th scope=row>INTG</th><td> 2</td><td>43</td><td>8.020930</td><td>0.7701447</td><td>8.1</td><td>8.097143</td><td>0.74130</td><td>5.9</td><td> 9.2</td><td>3.3</td><td>-0.8135419</td><td> 0.257028146</td><td>0.1174460</td></tr>\n",
       "\t<tr><th scope=row>DMNR</th><td> 3</td><td>43</td><td>7.516279</td><td>1.1437054</td><td>7.7</td><td>7.642857</td><td>1.18608</td><td>4.3</td><td> 9.0</td><td>4.7</td><td>-0.9146990</td><td> 0.274266855</td><td>0.1744134</td></tr>\n",
       "\t<tr><th scope=row>DILG</th><td> 4</td><td>43</td><td>7.693023</td><td>0.9008978</td><td>7.8</td><td>7.771429</td><td>1.03782</td><td>5.1</td><td> 9.0</td><td>3.9</td><td>-0.7561970</td><td> 0.146976620</td><td>0.1373856</td></tr>\n",
       "\t<tr><th scope=row>CFMG</th><td> 5</td><td>43</td><td>7.479070</td><td>0.8601102</td><td>7.6</td><td>7.568571</td><td>0.88956</td><td>5.4</td><td> 8.7</td><td>3.3</td><td>-0.7627529</td><td>-0.096400641</td><td>0.1311656</td></tr>\n",
       "\t<tr><th scope=row>DECI</th><td> 6</td><td>43</td><td>7.565116</td><td>0.8029362</td><td>7.7</td><td>7.634286</td><td>0.74130</td><td>5.7</td><td> 8.8</td><td>3.1</td><td>-0.6215587</td><td>-0.531858167</td><td>0.1224466</td></tr>\n",
       "\t<tr><th scope=row>PREP</th><td> 7</td><td>43</td><td>7.467442</td><td>0.9533702</td><td>7.7</td><td>7.542857</td><td>0.88956</td><td>4.8</td><td> 9.1</td><td>4.3</td><td>-0.6572536</td><td>-0.003622203</td><td>0.1453876</td></tr>\n",
       "\t<tr><th scope=row>FAMI</th><td> 8</td><td>43</td><td>7.488372</td><td>0.9489868</td><td>7.6</td><td>7.554286</td><td>1.03782</td><td>5.1</td><td> 9.1</td><td>4.0</td><td>-0.5377923</td><td>-0.365348412</td><td>0.1447191</td></tr>\n",
       "\t<tr><th scope=row>ORAL</th><td> 9</td><td>43</td><td>7.293023</td><td>1.0100437</td><td>7.5</td><td>7.388571</td><td>0.74130</td><td>4.7</td><td> 8.9</td><td>4.2</td><td>-0.7530389</td><td> 0.012666878</td><td>0.1540302</td></tr>\n",
       "\t<tr><th scope=row>WRIT</th><td>10</td><td>43</td><td>7.383721</td><td>0.9611328</td><td>7.6</td><td>7.460000</td><td>0.88956</td><td>4.9</td><td> 9.0</td><td>4.1</td><td>-0.6726825</td><td>-0.108868716</td><td>0.1465714</td></tr>\n",
       "\t<tr><th scope=row>PHYS</th><td>11</td><td>43</td><td>7.934884</td><td>0.9395753</td><td>8.1</td><td>8.077143</td><td>0.59304</td><td>4.7</td><td> 9.1</td><td>4.4</td><td>-1.5041764</td><td> 2.159472016</td><td>0.1432839</td></tr>\n",
       "\t<tr><th scope=row>RTEN</th><td>12</td><td>43</td><td>7.602326</td><td>1.1009711</td><td>7.8</td><td>7.731429</td><td>0.88956</td><td>4.8</td><td> 9.2</td><td>4.4</td><td>-0.9373609</td><td> 0.255742066</td><td>0.1678965</td></tr>\n",
       "</tbody>\n",
       "</table>\n"
      ],
      "text/latex": [
       "A psych: 12 × 13\n",
       "\\begin{tabular}{r|lllllllllllll}\n",
       "  & vars & n & mean & sd & median & trimmed & mad & min & max & range & skew & kurtosis & se\\\\\n",
       "  & <int> & <dbl> & <dbl> & <dbl> & <dbl> & <dbl> & <dbl> & <dbl> & <dbl> & <dbl> & <dbl> & <dbl> & <dbl>\\\\\n",
       "\\hline\n",
       "\tCONT &  1 & 43 & 7.437209 & 0.9408768 & 7.3 & 7.354286 & 0.74130 & 5.7 & 10.6 & 4.9 &  1.0483108 &  1.512211829 & 0.1434824\\\\\n",
       "\tINTG &  2 & 43 & 8.020930 & 0.7701447 & 8.1 & 8.097143 & 0.74130 & 5.9 &  9.2 & 3.3 & -0.8135419 &  0.257028146 & 0.1174460\\\\\n",
       "\tDMNR &  3 & 43 & 7.516279 & 1.1437054 & 7.7 & 7.642857 & 1.18608 & 4.3 &  9.0 & 4.7 & -0.9146990 &  0.274266855 & 0.1744134\\\\\n",
       "\tDILG &  4 & 43 & 7.693023 & 0.9008978 & 7.8 & 7.771429 & 1.03782 & 5.1 &  9.0 & 3.9 & -0.7561970 &  0.146976620 & 0.1373856\\\\\n",
       "\tCFMG &  5 & 43 & 7.479070 & 0.8601102 & 7.6 & 7.568571 & 0.88956 & 5.4 &  8.7 & 3.3 & -0.7627529 & -0.096400641 & 0.1311656\\\\\n",
       "\tDECI &  6 & 43 & 7.565116 & 0.8029362 & 7.7 & 7.634286 & 0.74130 & 5.7 &  8.8 & 3.1 & -0.6215587 & -0.531858167 & 0.1224466\\\\\n",
       "\tPREP &  7 & 43 & 7.467442 & 0.9533702 & 7.7 & 7.542857 & 0.88956 & 4.8 &  9.1 & 4.3 & -0.6572536 & -0.003622203 & 0.1453876\\\\\n",
       "\tFAMI &  8 & 43 & 7.488372 & 0.9489868 & 7.6 & 7.554286 & 1.03782 & 5.1 &  9.1 & 4.0 & -0.5377923 & -0.365348412 & 0.1447191\\\\\n",
       "\tORAL &  9 & 43 & 7.293023 & 1.0100437 & 7.5 & 7.388571 & 0.74130 & 4.7 &  8.9 & 4.2 & -0.7530389 &  0.012666878 & 0.1540302\\\\\n",
       "\tWRIT & 10 & 43 & 7.383721 & 0.9611328 & 7.6 & 7.460000 & 0.88956 & 4.9 &  9.0 & 4.1 & -0.6726825 & -0.108868716 & 0.1465714\\\\\n",
       "\tPHYS & 11 & 43 & 7.934884 & 0.9395753 & 8.1 & 8.077143 & 0.59304 & 4.7 &  9.1 & 4.4 & -1.5041764 &  2.159472016 & 0.1432839\\\\\n",
       "\tRTEN & 12 & 43 & 7.602326 & 1.1009711 & 7.8 & 7.731429 & 0.88956 & 4.8 &  9.2 & 4.4 & -0.9373609 &  0.255742066 & 0.1678965\\\\\n",
       "\\end{tabular}\n"
      ],
      "text/markdown": [
       "\n",
       "A psych: 12 × 13\n",
       "\n",
       "| <!--/--> | vars &lt;int&gt; | n &lt;dbl&gt; | mean &lt;dbl&gt; | sd &lt;dbl&gt; | median &lt;dbl&gt; | trimmed &lt;dbl&gt; | mad &lt;dbl&gt; | min &lt;dbl&gt; | max &lt;dbl&gt; | range &lt;dbl&gt; | skew &lt;dbl&gt; | kurtosis &lt;dbl&gt; | se &lt;dbl&gt; |\n",
       "|---|---|---|---|---|---|---|---|---|---|---|---|---|---|\n",
       "| CONT |  1 | 43 | 7.437209 | 0.9408768 | 7.3 | 7.354286 | 0.74130 | 5.7 | 10.6 | 4.9 |  1.0483108 |  1.512211829 | 0.1434824 |\n",
       "| INTG |  2 | 43 | 8.020930 | 0.7701447 | 8.1 | 8.097143 | 0.74130 | 5.9 |  9.2 | 3.3 | -0.8135419 |  0.257028146 | 0.1174460 |\n",
       "| DMNR |  3 | 43 | 7.516279 | 1.1437054 | 7.7 | 7.642857 | 1.18608 | 4.3 |  9.0 | 4.7 | -0.9146990 |  0.274266855 | 0.1744134 |\n",
       "| DILG |  4 | 43 | 7.693023 | 0.9008978 | 7.8 | 7.771429 | 1.03782 | 5.1 |  9.0 | 3.9 | -0.7561970 |  0.146976620 | 0.1373856 |\n",
       "| CFMG |  5 | 43 | 7.479070 | 0.8601102 | 7.6 | 7.568571 | 0.88956 | 5.4 |  8.7 | 3.3 | -0.7627529 | -0.096400641 | 0.1311656 |\n",
       "| DECI |  6 | 43 | 7.565116 | 0.8029362 | 7.7 | 7.634286 | 0.74130 | 5.7 |  8.8 | 3.1 | -0.6215587 | -0.531858167 | 0.1224466 |\n",
       "| PREP |  7 | 43 | 7.467442 | 0.9533702 | 7.7 | 7.542857 | 0.88956 | 4.8 |  9.1 | 4.3 | -0.6572536 | -0.003622203 | 0.1453876 |\n",
       "| FAMI |  8 | 43 | 7.488372 | 0.9489868 | 7.6 | 7.554286 | 1.03782 | 5.1 |  9.1 | 4.0 | -0.5377923 | -0.365348412 | 0.1447191 |\n",
       "| ORAL |  9 | 43 | 7.293023 | 1.0100437 | 7.5 | 7.388571 | 0.74130 | 4.7 |  8.9 | 4.2 | -0.7530389 |  0.012666878 | 0.1540302 |\n",
       "| WRIT | 10 | 43 | 7.383721 | 0.9611328 | 7.6 | 7.460000 | 0.88956 | 4.9 |  9.0 | 4.1 | -0.6726825 | -0.108868716 | 0.1465714 |\n",
       "| PHYS | 11 | 43 | 7.934884 | 0.9395753 | 8.1 | 8.077143 | 0.59304 | 4.7 |  9.1 | 4.4 | -1.5041764 |  2.159472016 | 0.1432839 |\n",
       "| RTEN | 12 | 43 | 7.602326 | 1.1009711 | 7.8 | 7.731429 | 0.88956 | 4.8 |  9.2 | 4.4 | -0.9373609 |  0.255742066 | 0.1678965 |\n",
       "\n"
      ],
      "text/plain": [
       "     vars n  mean     sd        median trimmed  mad     min max  range\n",
       "CONT  1   43 7.437209 0.9408768 7.3    7.354286 0.74130 5.7 10.6 4.9  \n",
       "INTG  2   43 8.020930 0.7701447 8.1    8.097143 0.74130 5.9  9.2 3.3  \n",
       "DMNR  3   43 7.516279 1.1437054 7.7    7.642857 1.18608 4.3  9.0 4.7  \n",
       "DILG  4   43 7.693023 0.9008978 7.8    7.771429 1.03782 5.1  9.0 3.9  \n",
       "CFMG  5   43 7.479070 0.8601102 7.6    7.568571 0.88956 5.4  8.7 3.3  \n",
       "DECI  6   43 7.565116 0.8029362 7.7    7.634286 0.74130 5.7  8.8 3.1  \n",
       "PREP  7   43 7.467442 0.9533702 7.7    7.542857 0.88956 4.8  9.1 4.3  \n",
       "FAMI  8   43 7.488372 0.9489868 7.6    7.554286 1.03782 5.1  9.1 4.0  \n",
       "ORAL  9   43 7.293023 1.0100437 7.5    7.388571 0.74130 4.7  8.9 4.2  \n",
       "WRIT 10   43 7.383721 0.9611328 7.6    7.460000 0.88956 4.9  9.0 4.1  \n",
       "PHYS 11   43 7.934884 0.9395753 8.1    8.077143 0.59304 4.7  9.1 4.4  \n",
       "RTEN 12   43 7.602326 1.1009711 7.8    7.731429 0.88956 4.8  9.2 4.4  \n",
       "     skew       kurtosis     se       \n",
       "CONT  1.0483108  1.512211829 0.1434824\n",
       "INTG -0.8135419  0.257028146 0.1174460\n",
       "DMNR -0.9146990  0.274266855 0.1744134\n",
       "DILG -0.7561970  0.146976620 0.1373856\n",
       "CFMG -0.7627529 -0.096400641 0.1311656\n",
       "DECI -0.6215587 -0.531858167 0.1224466\n",
       "PREP -0.6572536 -0.003622203 0.1453876\n",
       "FAMI -0.5377923 -0.365348412 0.1447191\n",
       "ORAL -0.7530389  0.012666878 0.1540302\n",
       "WRIT -0.6726825 -0.108868716 0.1465714\n",
       "PHYS -1.5041764  2.159472016 0.1432839\n",
       "RTEN -0.9373609  0.255742066 0.1678965"
      ]
     },
     "metadata": {},
     "output_type": "display_data"
    }
   ],
   "source": [
    "library('psych')\n",
    "describe(USJudgeRatings)"
   ]
  },
  {
   "cell_type": "markdown",
   "metadata": {},
   "source": [
    "(3) データセットの行数と列数を求めなさい"
   ]
  },
  {
   "cell_type": "code",
   "execution_count": 104,
   "metadata": {},
   "outputs": [
    {
     "data": {
      "text/html": [
       "43"
      ],
      "text/latex": [
       "43"
      ],
      "text/markdown": [
       "43"
      ],
      "text/plain": [
       "[1] 43"
      ]
     },
     "metadata": {},
     "output_type": "display_data"
    },
    {
     "data": {
      "text/html": [
       "12"
      ],
      "text/latex": [
       "12"
      ],
      "text/markdown": [
       "12"
      ],
      "text/plain": [
       "[1] 12"
      ]
     },
     "metadata": {},
     "output_type": "display_data"
    }
   ],
   "source": [
    "nrow(USJudgeRatings)\n",
    "ncol(USJudgeRatings)"
   ]
  },
  {
   "cell_type": "markdown",
   "metadata": {},
   "source": [
    "(4) colMeans()を用いて、各変数について裁判官全体の平均値を求めなさい"
   ]
  },
  {
   "cell_type": "code",
   "execution_count": 105,
   "metadata": {},
   "outputs": [
    {
     "data": {
      "text/html": [
       "<style>\n",
       ".dl-inline {width: auto; margin:0; padding: 0}\n",
       ".dl-inline>dt, .dl-inline>dd {float: none; width: auto; display: inline-block}\n",
       ".dl-inline>dt::after {content: \":\\0020\"; padding-right: .5ex}\n",
       ".dl-inline>dt:not(:first-of-type) {padding-left: .5ex}\n",
       "</style><dl class=dl-inline><dt>CONT</dt><dd>7.43720930232558</dd><dt>INTG</dt><dd>8.02093023255814</dd><dt>DMNR</dt><dd>7.51627906976744</dd><dt>DILG</dt><dd>7.69302325581395</dd><dt>CFMG</dt><dd>7.47906976744186</dd><dt>DECI</dt><dd>7.56511627906977</dd><dt>PREP</dt><dd>7.46744186046512</dd><dt>FAMI</dt><dd>7.48837209302326</dd><dt>ORAL</dt><dd>7.29302325581395</dd><dt>WRIT</dt><dd>7.38372093023256</dd><dt>PHYS</dt><dd>7.93488372093023</dd><dt>RTEN</dt><dd>7.60232558139535</dd></dl>\n"
      ],
      "text/latex": [
       "\\begin{description*}\n",
       "\\item[CONT] 7.43720930232558\n",
       "\\item[INTG] 8.02093023255814\n",
       "\\item[DMNR] 7.51627906976744\n",
       "\\item[DILG] 7.69302325581395\n",
       "\\item[CFMG] 7.47906976744186\n",
       "\\item[DECI] 7.56511627906977\n",
       "\\item[PREP] 7.46744186046512\n",
       "\\item[FAMI] 7.48837209302326\n",
       "\\item[ORAL] 7.29302325581395\n",
       "\\item[WRIT] 7.38372093023256\n",
       "\\item[PHYS] 7.93488372093023\n",
       "\\item[RTEN] 7.60232558139535\n",
       "\\end{description*}\n"
      ],
      "text/markdown": [
       "CONT\n",
       ":   7.43720930232558INTG\n",
       ":   8.02093023255814DMNR\n",
       ":   7.51627906976744DILG\n",
       ":   7.69302325581395CFMG\n",
       ":   7.47906976744186DECI\n",
       ":   7.56511627906977PREP\n",
       ":   7.46744186046512FAMI\n",
       ":   7.48837209302326ORAL\n",
       ":   7.29302325581395WRIT\n",
       ":   7.38372093023256PHYS\n",
       ":   7.93488372093023RTEN\n",
       ":   7.60232558139535\n",
       "\n"
      ],
      "text/plain": [
       "    CONT     INTG     DMNR     DILG     CFMG     DECI     PREP     FAMI \n",
       "7.437209 8.020930 7.516279 7.693023 7.479070 7.565116 7.467442 7.488372 \n",
       "    ORAL     WRIT     PHYS     RTEN \n",
       "7.293023 7.383721 7.934884 7.602326 "
      ]
     },
     "metadata": {},
     "output_type": "display_data"
    }
   ],
   "source": [
    "colMeans(USJudgeRatings)"
   ]
  },
  {
   "cell_type": "markdown",
   "metadata": {},
   "source": [
    "## Ex.9 作図\n",
    "\n",
    "1. [棒グラフと散布図] `USArrests`は1973年の米国における10万人当たりの暴力犯罪の件数および都市人口データである。\n",
    "`USArrests`をデータセットとして用いて以下の問に答えなさい\n",
    "\n",
    "(1) データセットの先頭5件を抽出し、殺人(Murder)の値を縦棒グラフで表示しなさい\n"
   ]
  },
  {
   "cell_type": "code",
   "execution_count": 106,
   "metadata": {},
   "outputs": [
    {
     "data": {
      "image/png": "[encoded data removed]",
      "text/plain": [
       "plot without title"
      ]
     },
     "metadata": {
      "image/png": {
       "height": 420,
       "width": 420
      }
     },
     "output_type": "display_data"
    }
   ],
   "source": [
    "top = head(USArrests)\n",
    "barplot(top$Murder, names.arg=rownames(top))"
   ]
  },
  {
   "cell_type": "markdown",
   "metadata": {},
   "source": [
    "(2) データセットの末尾5件を抽出し、暴行(Assault)の値を横棒グラフで表示しなさい\n"
   ]
  },
  {
   "cell_type": "code",
   "execution_count": 107,
   "metadata": {},
   "outputs": [
    {
     "data": {
      "image/png": "[encoded data removed]",
      "text/plain": [
       "plot without title"
      ]
     },
     "metadata": {
      "image/png": {
       "height": 420,
       "width": 420
      }
     },
     "output_type": "display_data"
    }
   ],
   "source": [
    "bottom = tail(USArrests)\n",
    "barplot(bottom$Murder, names.arg=rownames(bottom), horiz=T, las=2)"
   ]
  },
  {
   "cell_type": "markdown",
   "metadata": {},
   "source": [
    "(3) plot()関数を用いて三種類の暴力犯罪(Murder, Assault, Rape)について、総当たりで散布図を作成しなさい"
   ]
  },
  {
   "cell_type": "code",
   "execution_count": 108,
   "metadata": {},
   "outputs": [
    {
     "data": {
      "image/png": "[encoded data removed]",
      "text/plain": [
       "plot without title"
      ]
     },
     "metadata": {
      "image/png": {
       "height": 420,
       "width": 420
      }
     },
     "output_type": "display_data"
    },
    {
     "data": {
      "image/png": "[encoded data removed]",
      "text/plain": [
       "plot without title"
      ]
     },
     "metadata": {
      "image/png": {
       "height": 420,
       "width": 420
      }
     },
     "output_type": "display_data"
    },
    {
     "data": {
      "image/png": "[encoded data removed]",
      "text/plain": [
       "plot without title"
      ]
     },
     "metadata": {
      "image/png": {
       "height": 420,
       "width": 420
      }
     },
     "output_type": "display_data"
    }
   ],
   "source": [
    "plot(USArrests[c('Murder', 'Assault')])\n",
    "plot(USArrests[c('Murder', 'Rape')])\n",
    "plot(USArrests[c('Assault', 'Rape')])"
   ]
  },
  {
   "cell_type": "markdown",
   "metadata": {},
   "source": [
    "(4) pairs()関数を用いてすべての変数についての散布図行列を作成しなさい"
   ]
  },
  {
   "cell_type": "code",
   "execution_count": 109,
   "metadata": {},
   "outputs": [
    {
     "data": {
      "image/png": "[encoded data removed]",
      "text/plain": [
       "plot without title"
      ]
     },
     "metadata": {
      "image/png": {
       "height": 420,
       "width": 420
      }
     },
     "output_type": "display_data"
    }
   ],
   "source": [
    "pairs(USArrests)"
   ]
  },
  {
   "cell_type": "markdown",
   "metadata": {},
   "source": [
    "2. [時系列] `AirPassengers`は1949年から1960年にかけての月別国際航空旅客者数のデータである。\n",
    "\n",
    "(1) plot()関数を用いて折れ線グラフを作りなさい\n"
   ]
  },
  {
   "cell_type": "code",
   "execution_count": 110,
   "metadata": {},
   "outputs": [
    {
     "data": {
      "image/png": "[encoded data removed]",
      "text/plain": [
       "plot without title"
      ]
     },
     "metadata": {
      "image/png": {
       "height": 420,
       "width": 420
      }
     },
     "output_type": "display_data"
    }
   ],
   "source": [
    "plot(AirPassengers)"
   ]
  },
  {
   "cell_type": "markdown",
   "metadata": {},
   "source": [
    "(2) png()関数を用いて(1)で作ったグラフを保存しなさい"
   ]
  },
  {
   "cell_type": "code",
   "execution_count": 111,
   "metadata": {},
   "outputs": [
    {
     "data": {
      "text/html": [
       "<strong>png:</strong> 2"
      ],
      "text/latex": [
       "\\textbf{png:} 2"
      ],
      "text/markdown": [
       "**png:** 2"
      ],
      "text/plain": [
       "png \n",
       "  2 "
      ]
     },
     "metadata": {},
     "output_type": "display_data"
    }
   ],
   "source": [
    "png('exercise/ex8_2_2.png', 400, 400)\n",
    "plot(AirPassengers)\n",
    "dev.off()"
   ]
  },
  {
   "cell_type": "markdown",
   "metadata": {},
   "source": [
    "3. [群間データ] `PlantGrowth`は植物の成長に関する実験データである。統制条件と２つの実験条件\n",
    "の形三つの群(group)が用意され、植物の重量(weight)が測定された\n"
   ]
  },
  {
   "cell_type": "markdown",
   "metadata": {},
   "source": [
    "(1) table()関数を用いて各条件の標本数を求めなさい"
   ]
  },
  {
   "cell_type": "code",
   "execution_count": 112,
   "metadata": {},
   "outputs": [
    {
     "data": {
      "text/plain": [
       "\n",
       "ctrl trt1 trt2 \n",
       "  10   10   10 "
      ]
     },
     "metadata": {},
     "output_type": "display_data"
    }
   ],
   "source": [
    "table(PlantGrowth['group'])"
   ]
  },
  {
   "cell_type": "markdown",
   "metadata": {},
   "source": [
    "(2) 条件間を比較する箱ひげ図を作りなさい"
   ]
  },
  {
   "cell_type": "code",
   "execution_count": 113,
   "metadata": {},
   "outputs": [
    {
     "data": {
      "image/png": "[encoded data removed]",
      "text/plain": [
       "plot without title"
      ]
     },
     "metadata": {
      "image/png": {
       "height": 420,
       "width": 420
      }
     },
     "output_type": "display_data"
    }
   ],
   "source": [
    "boxplot(weight ~ group, data=PlantGrowth)"
   ]
  },
  {
   "cell_type": "markdown",
   "metadata": {},
   "source": [
    "## Ex.10 dplyrによるデータハンドリング\n",
    "\n",
    "1. `ToothGrowth`はビタミンCの用量と与え方がモルモットの歯の長さに与える影響を調べた実験データである。\n",
    "これをデータセットとして用い、dplyrパッケージを読み込んだ上で以下の問に答えなさい\n",
    "\n",
    "(1) パイプ演算子を使ってデータセットにhead()関数を適用しなさい\n"
   ]
  },
  {
   "cell_type": "code",
   "execution_count": 114,
   "metadata": {},
   "outputs": [],
   "source": [
    "library('dplyr')\n"
   ]
  },
  {
   "cell_type": "code",
   "execution_count": 115,
   "metadata": {},
   "outputs": [
    {
     "data": {
      "text/html": [
       "<table>\n",
       "<caption>A data.frame: 6 × 3</caption>\n",
       "<thead>\n",
       "\t<tr><th></th><th scope=col>len</th><th scope=col>supp</th><th scope=col>dose</th></tr>\n",
       "\t<tr><th></th><th scope=col>&lt;dbl&gt;</th><th scope=col>&lt;fct&gt;</th><th scope=col>&lt;dbl&gt;</th></tr>\n",
       "</thead>\n",
       "<tbody>\n",
       "\t<tr><th scope=row>1</th><td> 4.2</td><td>VC</td><td>0.5</td></tr>\n",
       "\t<tr><th scope=row>2</th><td>11.5</td><td>VC</td><td>0.5</td></tr>\n",
       "\t<tr><th scope=row>3</th><td> 7.3</td><td>VC</td><td>0.5</td></tr>\n",
       "\t<tr><th scope=row>4</th><td> 5.8</td><td>VC</td><td>0.5</td></tr>\n",
       "\t<tr><th scope=row>5</th><td> 6.4</td><td>VC</td><td>0.5</td></tr>\n",
       "\t<tr><th scope=row>6</th><td>10.0</td><td>VC</td><td>0.5</td></tr>\n",
       "</tbody>\n",
       "</table>\n"
      ],
      "text/latex": [
       "A data.frame: 6 × 3\n",
       "\\begin{tabular}{r|lll}\n",
       "  & len & supp & dose\\\\\n",
       "  & <dbl> & <fct> & <dbl>\\\\\n",
       "\\hline\n",
       "\t1 &  4.2 & VC & 0.5\\\\\n",
       "\t2 & 11.5 & VC & 0.5\\\\\n",
       "\t3 &  7.3 & VC & 0.5\\\\\n",
       "\t4 &  5.8 & VC & 0.5\\\\\n",
       "\t5 &  6.4 & VC & 0.5\\\\\n",
       "\t6 & 10.0 & VC & 0.5\\\\\n",
       "\\end{tabular}\n"
      ],
      "text/markdown": [
       "\n",
       "A data.frame: 6 × 3\n",
       "\n",
       "| <!--/--> | len &lt;dbl&gt; | supp &lt;fct&gt; | dose &lt;dbl&gt; |\n",
       "|---|---|---|---|\n",
       "| 1 |  4.2 | VC | 0.5 |\n",
       "| 2 | 11.5 | VC | 0.5 |\n",
       "| 3 |  7.3 | VC | 0.5 |\n",
       "| 4 |  5.8 | VC | 0.5 |\n",
       "| 5 |  6.4 | VC | 0.5 |\n",
       "| 6 | 10.0 | VC | 0.5 |\n",
       "\n"
      ],
      "text/plain": [
       "  len  supp dose\n",
       "1  4.2 VC   0.5 \n",
       "2 11.5 VC   0.5 \n",
       "3  7.3 VC   0.5 \n",
       "4  5.8 VC   0.5 \n",
       "5  6.4 VC   0.5 \n",
       "6 10.0 VC   0.5 "
      ]
     },
     "metadata": {},
     "output_type": "display_data"
    }
   ],
   "source": [
    "ToothGrowth %>% head()\n",
    "# head(ToothGrowth)"
   ]
  },
  {
   "cell_type": "code",
   "execution_count": 116,
   "metadata": {},
   "outputs": [
    {
     "data": {
      "text/html": [
       "\n",
       "<table width=\"100%\" summary=\"page for ToothGrowth {datasets}\"><tr><td>ToothGrowth {datasets}</td><td style=\"text-align: right;\">R Documentation</td></tr></table>\n",
       "\n",
       "<h2>The Effect of Vitamin C on Tooth Growth in Guinea Pigs</h2>\n",
       "\n",
       "<h3>Description</h3>\n",
       "\n",
       "<p>The response is the length of odontoblasts (cells responsible for\n",
       "tooth growth) in 60 guinea pigs.  Each animal received one of three\n",
       "dose levels of vitamin C (0.5, 1, and 2 mg/day) by one of two delivery\n",
       "methods, orange juice or ascorbic acid (a form of vitamin C and coded\n",
       "as <code>VC</code>).\n",
       "</p>\n",
       "\n",
       "\n",
       "<h3>Usage</h3>\n",
       "\n",
       "<pre>ToothGrowth</pre>\n",
       "\n",
       "\n",
       "<h3>Format</h3>\n",
       "\n",
       "<p>A data frame with 60 observations on 3 variables.\n",
       "</p>\n",
       "\n",
       "<table summary=\"Rd table\">\n",
       "<tr>\n",
       " <td style=\"text-align: right;\">\n",
       "    [,1]  </td><td style=\"text-align: left;\"> len   </td><td style=\"text-align: left;\"> numeric  </td><td style=\"text-align: left;\"> Tooth length</td>\n",
       "</tr>\n",
       "<tr>\n",
       " <td style=\"text-align: right;\">\n",
       "    [,2]  </td><td style=\"text-align: left;\"> supp  </td><td style=\"text-align: left;\"> factor   </td><td style=\"text-align: left;\"> Supplement type (VC or OJ).</td>\n",
       "</tr>\n",
       "<tr>\n",
       " <td style=\"text-align: right;\">\n",
       "    [,3]  </td><td style=\"text-align: left;\"> dose  </td><td style=\"text-align: left;\"> numeric  </td><td style=\"text-align: left;\"> Dose in milligrams/day\n",
       "  </td>\n",
       "</tr>\n",
       "\n",
       "</table>\n",
       "\n",
       "\n",
       "\n",
       "<h3>Source</h3>\n",
       "\n",
       "<p>C. I. Bliss (1952).\n",
       "<em>The Statistics of Bioassay</em>.\n",
       "Academic Press.\n",
       "</p>\n",
       "\n",
       "\n",
       "<h3>References</h3>\n",
       "\n",
       "<p>McNeil, D. R. (1977).\n",
       "<em>Interactive Data Analysis</em>.\n",
       "New York: Wiley.\n",
       "</p>\n",
       "<p>Crampton, E. W. (1947).\n",
       "The growth of the odontoblast of the incisor teeth as a criterion of\n",
       "vitamin C intake of the guinea pig.\n",
       "<em>The Journal of Nutrition</em>, <b>33</b>(5), 491&ndash;504.\n",
       "doi: <a href=\"https://doi.org/10.1093/jn/33.5.491\">10.1093/jn/33.5.491</a>.\n",
       "</p>\n",
       "\n",
       "\n",
       "<h3>Examples</h3>\n",
       "\n",
       "<pre>\n",
       "require(graphics)\n",
       "coplot(len ~ dose | supp, data = ToothGrowth, panel = panel.smooth,\n",
       "       xlab = \"ToothGrowth data: length vs dose, given type of supplement\")\n",
       "</pre>\n",
       "\n",
       "<hr /><div style=\"text-align: center;\">[Package <em>datasets</em> version 4.0.2 ]</div>"
      ],
      "text/latex": [
       "\\inputencoding{utf8}\n",
       "\\HeaderA{ToothGrowth}{The Effect of Vitamin C on Tooth Growth in Guinea Pigs}{ToothGrowth}\n",
       "\\keyword{datasets}{ToothGrowth}\n",
       "%\n",
       "\\begin{Description}\\relax\n",
       "The response is the length of odontoblasts (cells responsible for\n",
       "tooth growth) in 60 guinea pigs.  Each animal received one of three\n",
       "dose levels of vitamin C (0.5, 1, and 2 mg/day) by one of two delivery\n",
       "methods, orange juice or ascorbic acid (a form of vitamin C and coded\n",
       "as \\code{VC}).\n",
       "\\end{Description}\n",
       "%\n",
       "\\begin{Usage}\n",
       "\\begin{verbatim}\n",
       "ToothGrowth\n",
       "\\end{verbatim}\n",
       "\\end{Usage}\n",
       "%\n",
       "\\begin{Format}\n",
       "A data frame with 60 observations on 3 variables.\n",
       "\n",
       "\\Tabular{rlll}{\n",
       "[,1]  & len   & numeric  & Tooth length\\\\{}\n",
       "[,2]  & supp  & factor   & Supplement type (VC or OJ).\\\\{}\n",
       "[,3]  & dose  & numeric  & Dose in milligrams/day\n",
       "}\n",
       "\\end{Format}\n",
       "%\n",
       "\\begin{Source}\\relax\n",
       "C. I. Bliss (1952).\n",
       "\\emph{The Statistics of Bioassay}.\n",
       "Academic Press.\n",
       "\\end{Source}\n",
       "%\n",
       "\\begin{References}\\relax\n",
       "McNeil, D. R. (1977).\n",
       "\\emph{Interactive Data Analysis}.\n",
       "New York: Wiley.\n",
       "\n",
       "Crampton, E. W. (1947).\n",
       "The growth of the odontoblast of the incisor teeth as a criterion of\n",
       "vitamin C intake of the guinea pig.\n",
       "\\emph{The Journal of Nutrition}, \\bold{33}(5), 491--504.\n",
       "doi:\\nobreakspace{}\\Rhref{https://doi.org/10.1093/jn/33.5.491}{10.1093\\slash{}jn\\slash{}33.5.491}.\n",
       "\\end{References}\n",
       "%\n",
       "\\begin{Examples}\n",
       "\\begin{ExampleCode}\n",
       "require(graphics)\n",
       "coplot(len ~ dose | supp, data = ToothGrowth, panel = panel.smooth,\n",
       "       xlab = \"ToothGrowth data: length vs dose, given type of supplement\")\n",
       "\\end{ExampleCode}\n",
       "\\end{Examples}"
      ],
      "text/plain": [
       "ToothGrowth              package:datasets              R Documentation\n",
       "\n",
       "_\bT_\bh_\be _\bE_\bf_\bf_\be_\bc_\bt _\bo_\bf _\bV_\bi_\bt_\ba_\bm_\bi_\bn _\bC _\bo_\bn _\bT_\bo_\bo_\bt_\bh _\bG_\br_\bo_\bw_\bt_\bh _\bi_\bn _\bG_\bu_\bi_\bn_\be_\ba _\bP_\bi_\bg_\bs\n",
       "\n",
       "_\bD_\be_\bs_\bc_\br_\bi_\bp_\bt_\bi_\bo_\bn:\n",
       "\n",
       "     The response is the length of odontoblasts (cells responsible for\n",
       "     tooth growth) in 60 guinea pigs.  Each animal received one of\n",
       "     three dose levels of vitamin C (0.5, 1, and 2 mg/day) by one of\n",
       "     two delivery methods, orange juice or ascorbic acid (a form of\n",
       "     vitamin C and coded as 'VC').\n",
       "\n",
       "_\bU_\bs_\ba_\bg_\be:\n",
       "\n",
       "     ToothGrowth\n",
       "     \n",
       "_\bF_\bo_\br_\bm_\ba_\bt:\n",
       "\n",
       "     A data frame with 60 observations on 3 variables.\n",
       "\n",
       "       [,1]  len   numeric  Tooth length                \n",
       "       [,2]  supp  factor   Supplement type (VC or OJ). \n",
       "       [,3]  dose  numeric  Dose in milligrams/day      \n",
       "      \n",
       "_\bS_\bo_\bu_\br_\bc_\be:\n",
       "\n",
       "     C. I. Bliss (1952).  _The Statistics of Bioassay_.  Academic\n",
       "     Press.\n",
       "\n",
       "_\bR_\be_\bf_\be_\br_\be_\bn_\bc_\be_\bs:\n",
       "\n",
       "     McNeil, D. R. (1977).  _Interactive Data Analysis_.  New York:\n",
       "     Wiley.\n",
       "\n",
       "     Crampton, E. W. (1947).  The growth of the odontoblast of the\n",
       "     incisor teeth as a criterion of vitamin C intake of the guinea\n",
       "     pig.  _The Journal of Nutrition_, *33*(5), 491-504.  doi:\n",
       "     10.1093/jn/33.5.491 (URL: https://doi.org/10.1093/jn/33.5.491).\n",
       "\n",
       "_\bE_\bx_\ba_\bm_\bp_\bl_\be_\bs:\n",
       "\n",
       "     require(graphics)\n",
       "     coplot(len ~ dose | supp, data = ToothGrowth, panel = panel.smooth,\n",
       "            xlab = \"ToothGrowth data: length vs dose, given type of supplement\")\n",
       "     "
      ]
     },
     "metadata": {},
     "output_type": "display_data"
    }
   ],
   "source": [
    "?ToothGrowth"
   ]
  },
  {
   "cell_type": "markdown",
   "metadata": {},
   "source": [
    "(2) パイプ演算子とfilter()関数を使って以下の操作をしなさい\n",
    "    \n",
    "(2-1) `supp`が`OJ`であった個体を抽出する\n"
   ]
  },
  {
   "cell_type": "code",
   "execution_count": 117,
   "metadata": {},
   "outputs": [
    {
     "data": {
      "text/html": [
       "<table>\n",
       "<caption>A data.frame: 30 × 3</caption>\n",
       "<thead>\n",
       "\t<tr><th scope=col>len</th><th scope=col>supp</th><th scope=col>dose</th></tr>\n",
       "\t<tr><th scope=col>&lt;dbl&gt;</th><th scope=col>&lt;fct&gt;</th><th scope=col>&lt;dbl&gt;</th></tr>\n",
       "</thead>\n",
       "<tbody>\n",
       "\t<tr><td>15.2</td><td>OJ</td><td>0.5</td></tr>\n",
       "\t<tr><td>21.5</td><td>OJ</td><td>0.5</td></tr>\n",
       "\t<tr><td>17.6</td><td>OJ</td><td>0.5</td></tr>\n",
       "\t<tr><td> 9.7</td><td>OJ</td><td>0.5</td></tr>\n",
       "\t<tr><td>14.5</td><td>OJ</td><td>0.5</td></tr>\n",
       "\t<tr><td>10.0</td><td>OJ</td><td>0.5</td></tr>\n",
       "\t<tr><td> 8.2</td><td>OJ</td><td>0.5</td></tr>\n",
       "\t<tr><td> 9.4</td><td>OJ</td><td>0.5</td></tr>\n",
       "\t<tr><td>16.5</td><td>OJ</td><td>0.5</td></tr>\n",
       "\t<tr><td> 9.7</td><td>OJ</td><td>0.5</td></tr>\n",
       "\t<tr><td>19.7</td><td>OJ</td><td>1.0</td></tr>\n",
       "\t<tr><td>23.3</td><td>OJ</td><td>1.0</td></tr>\n",
       "\t<tr><td>23.6</td><td>OJ</td><td>1.0</td></tr>\n",
       "\t<tr><td>26.4</td><td>OJ</td><td>1.0</td></tr>\n",
       "\t<tr><td>20.0</td><td>OJ</td><td>1.0</td></tr>\n",
       "\t<tr><td>25.2</td><td>OJ</td><td>1.0</td></tr>\n",
       "\t<tr><td>25.8</td><td>OJ</td><td>1.0</td></tr>\n",
       "\t<tr><td>21.2</td><td>OJ</td><td>1.0</td></tr>\n",
       "\t<tr><td>14.5</td><td>OJ</td><td>1.0</td></tr>\n",
       "\t<tr><td>27.3</td><td>OJ</td><td>1.0</td></tr>\n",
       "\t<tr><td>25.5</td><td>OJ</td><td>2.0</td></tr>\n",
       "\t<tr><td>26.4</td><td>OJ</td><td>2.0</td></tr>\n",
       "\t<tr><td>22.4</td><td>OJ</td><td>2.0</td></tr>\n",
       "\t<tr><td>24.5</td><td>OJ</td><td>2.0</td></tr>\n",
       "\t<tr><td>24.8</td><td>OJ</td><td>2.0</td></tr>\n",
       "\t<tr><td>30.9</td><td>OJ</td><td>2.0</td></tr>\n",
       "\t<tr><td>26.4</td><td>OJ</td><td>2.0</td></tr>\n",
       "\t<tr><td>27.3</td><td>OJ</td><td>2.0</td></tr>\n",
       "\t<tr><td>29.4</td><td>OJ</td><td>2.0</td></tr>\n",
       "\t<tr><td>23.0</td><td>OJ</td><td>2.0</td></tr>\n",
       "</tbody>\n",
       "</table>\n"
      ],
      "text/latex": [
       "A data.frame: 30 × 3\n",
       "\\begin{tabular}{lll}\n",
       " len & supp & dose\\\\\n",
       " <dbl> & <fct> & <dbl>\\\\\n",
       "\\hline\n",
       "\t 15.2 & OJ & 0.5\\\\\n",
       "\t 21.5 & OJ & 0.5\\\\\n",
       "\t 17.6 & OJ & 0.5\\\\\n",
       "\t  9.7 & OJ & 0.5\\\\\n",
       "\t 14.5 & OJ & 0.5\\\\\n",
       "\t 10.0 & OJ & 0.5\\\\\n",
       "\t  8.2 & OJ & 0.5\\\\\n",
       "\t  9.4 & OJ & 0.5\\\\\n",
       "\t 16.5 & OJ & 0.5\\\\\n",
       "\t  9.7 & OJ & 0.5\\\\\n",
       "\t 19.7 & OJ & 1.0\\\\\n",
       "\t 23.3 & OJ & 1.0\\\\\n",
       "\t 23.6 & OJ & 1.0\\\\\n",
       "\t 26.4 & OJ & 1.0\\\\\n",
       "\t 20.0 & OJ & 1.0\\\\\n",
       "\t 25.2 & OJ & 1.0\\\\\n",
       "\t 25.8 & OJ & 1.0\\\\\n",
       "\t 21.2 & OJ & 1.0\\\\\n",
       "\t 14.5 & OJ & 1.0\\\\\n",
       "\t 27.3 & OJ & 1.0\\\\\n",
       "\t 25.5 & OJ & 2.0\\\\\n",
       "\t 26.4 & OJ & 2.0\\\\\n",
       "\t 22.4 & OJ & 2.0\\\\\n",
       "\t 24.5 & OJ & 2.0\\\\\n",
       "\t 24.8 & OJ & 2.0\\\\\n",
       "\t 30.9 & OJ & 2.0\\\\\n",
       "\t 26.4 & OJ & 2.0\\\\\n",
       "\t 27.3 & OJ & 2.0\\\\\n",
       "\t 29.4 & OJ & 2.0\\\\\n",
       "\t 23.0 & OJ & 2.0\\\\\n",
       "\\end{tabular}\n"
      ],
      "text/markdown": [
       "\n",
       "A data.frame: 30 × 3\n",
       "\n",
       "| len &lt;dbl&gt; | supp &lt;fct&gt; | dose &lt;dbl&gt; |\n",
       "|---|---|---|\n",
       "| 15.2 | OJ | 0.5 |\n",
       "| 21.5 | OJ | 0.5 |\n",
       "| 17.6 | OJ | 0.5 |\n",
       "|  9.7 | OJ | 0.5 |\n",
       "| 14.5 | OJ | 0.5 |\n",
       "| 10.0 | OJ | 0.5 |\n",
       "|  8.2 | OJ | 0.5 |\n",
       "|  9.4 | OJ | 0.5 |\n",
       "| 16.5 | OJ | 0.5 |\n",
       "|  9.7 | OJ | 0.5 |\n",
       "| 19.7 | OJ | 1.0 |\n",
       "| 23.3 | OJ | 1.0 |\n",
       "| 23.6 | OJ | 1.0 |\n",
       "| 26.4 | OJ | 1.0 |\n",
       "| 20.0 | OJ | 1.0 |\n",
       "| 25.2 | OJ | 1.0 |\n",
       "| 25.8 | OJ | 1.0 |\n",
       "| 21.2 | OJ | 1.0 |\n",
       "| 14.5 | OJ | 1.0 |\n",
       "| 27.3 | OJ | 1.0 |\n",
       "| 25.5 | OJ | 2.0 |\n",
       "| 26.4 | OJ | 2.0 |\n",
       "| 22.4 | OJ | 2.0 |\n",
       "| 24.5 | OJ | 2.0 |\n",
       "| 24.8 | OJ | 2.0 |\n",
       "| 30.9 | OJ | 2.0 |\n",
       "| 26.4 | OJ | 2.0 |\n",
       "| 27.3 | OJ | 2.0 |\n",
       "| 29.4 | OJ | 2.0 |\n",
       "| 23.0 | OJ | 2.0 |\n",
       "\n"
      ],
      "text/plain": [
       "   len  supp dose\n",
       "1  15.2 OJ   0.5 \n",
       "2  21.5 OJ   0.5 \n",
       "3  17.6 OJ   0.5 \n",
       "4   9.7 OJ   0.5 \n",
       "5  14.5 OJ   0.5 \n",
       "6  10.0 OJ   0.5 \n",
       "7   8.2 OJ   0.5 \n",
       "8   9.4 OJ   0.5 \n",
       "9  16.5 OJ   0.5 \n",
       "10  9.7 OJ   0.5 \n",
       "11 19.7 OJ   1.0 \n",
       "12 23.3 OJ   1.0 \n",
       "13 23.6 OJ   1.0 \n",
       "14 26.4 OJ   1.0 \n",
       "15 20.0 OJ   1.0 \n",
       "16 25.2 OJ   1.0 \n",
       "17 25.8 OJ   1.0 \n",
       "18 21.2 OJ   1.0 \n",
       "19 14.5 OJ   1.0 \n",
       "20 27.3 OJ   1.0 \n",
       "21 25.5 OJ   2.0 \n",
       "22 26.4 OJ   2.0 \n",
       "23 22.4 OJ   2.0 \n",
       "24 24.5 OJ   2.0 \n",
       "25 24.8 OJ   2.0 \n",
       "26 30.9 OJ   2.0 \n",
       "27 26.4 OJ   2.0 \n",
       "28 27.3 OJ   2.0 \n",
       "29 29.4 OJ   2.0 \n",
       "30 23.0 OJ   2.0 "
      ]
     },
     "metadata": {},
     "output_type": "display_data"
    }
   ],
   "source": [
    "ToothGrowth %>% filter(supp == 'OJ')"
   ]
  },
  {
   "cell_type": "markdown",
   "metadata": {},
   "source": [
    "(2-2) `supp`が`VC`で、`dose`が2である個体を抽出する"
   ]
  },
  {
   "cell_type": "code",
   "execution_count": 118,
   "metadata": {},
   "outputs": [
    {
     "data": {
      "text/html": [
       "<table>\n",
       "<caption>A data.frame: 10 × 3</caption>\n",
       "<thead>\n",
       "\t<tr><th scope=col>len</th><th scope=col>supp</th><th scope=col>dose</th></tr>\n",
       "\t<tr><th scope=col>&lt;dbl&gt;</th><th scope=col>&lt;fct&gt;</th><th scope=col>&lt;dbl&gt;</th></tr>\n",
       "</thead>\n",
       "<tbody>\n",
       "\t<tr><td>23.6</td><td>VC</td><td>2</td></tr>\n",
       "\t<tr><td>18.5</td><td>VC</td><td>2</td></tr>\n",
       "\t<tr><td>33.9</td><td>VC</td><td>2</td></tr>\n",
       "\t<tr><td>25.5</td><td>VC</td><td>2</td></tr>\n",
       "\t<tr><td>26.4</td><td>VC</td><td>2</td></tr>\n",
       "\t<tr><td>32.5</td><td>VC</td><td>2</td></tr>\n",
       "\t<tr><td>26.7</td><td>VC</td><td>2</td></tr>\n",
       "\t<tr><td>21.5</td><td>VC</td><td>2</td></tr>\n",
       "\t<tr><td>23.3</td><td>VC</td><td>2</td></tr>\n",
       "\t<tr><td>29.5</td><td>VC</td><td>2</td></tr>\n",
       "</tbody>\n",
       "</table>\n"
      ],
      "text/latex": [
       "A data.frame: 10 × 3\n",
       "\\begin{tabular}{lll}\n",
       " len & supp & dose\\\\\n",
       " <dbl> & <fct> & <dbl>\\\\\n",
       "\\hline\n",
       "\t 23.6 & VC & 2\\\\\n",
       "\t 18.5 & VC & 2\\\\\n",
       "\t 33.9 & VC & 2\\\\\n",
       "\t 25.5 & VC & 2\\\\\n",
       "\t 26.4 & VC & 2\\\\\n",
       "\t 32.5 & VC & 2\\\\\n",
       "\t 26.7 & VC & 2\\\\\n",
       "\t 21.5 & VC & 2\\\\\n",
       "\t 23.3 & VC & 2\\\\\n",
       "\t 29.5 & VC & 2\\\\\n",
       "\\end{tabular}\n"
      ],
      "text/markdown": [
       "\n",
       "A data.frame: 10 × 3\n",
       "\n",
       "| len &lt;dbl&gt; | supp &lt;fct&gt; | dose &lt;dbl&gt; |\n",
       "|---|---|---|\n",
       "| 23.6 | VC | 2 |\n",
       "| 18.5 | VC | 2 |\n",
       "| 33.9 | VC | 2 |\n",
       "| 25.5 | VC | 2 |\n",
       "| 26.4 | VC | 2 |\n",
       "| 32.5 | VC | 2 |\n",
       "| 26.7 | VC | 2 |\n",
       "| 21.5 | VC | 2 |\n",
       "| 23.3 | VC | 2 |\n",
       "| 29.5 | VC | 2 |\n",
       "\n"
      ],
      "text/plain": [
       "   len  supp dose\n",
       "1  23.6 VC   2   \n",
       "2  18.5 VC   2   \n",
       "3  33.9 VC   2   \n",
       "4  25.5 VC   2   \n",
       "5  26.4 VC   2   \n",
       "6  32.5 VC   2   \n",
       "7  26.7 VC   2   \n",
       "8  21.5 VC   2   \n",
       "9  23.3 VC   2   \n",
       "10 29.5 VC   2   "
      ]
     },
     "metadata": {},
     "output_type": "display_data"
    }
   ],
   "source": [
    "ToothGrowth %>% filter(supp == 'VC', dose==2)"
   ]
  },
  {
   "cell_type": "markdown",
   "metadata": {},
   "source": [
    "(2-3) `supp`が`VC`である個体、または`dose`が2である個体を抽出する"
   ]
  },
  {
   "cell_type": "code",
   "execution_count": 119,
   "metadata": {},
   "outputs": [
    {
     "data": {
      "text/html": [
       "<table>\n",
       "<caption>A data.frame: 40 × 3</caption>\n",
       "<thead>\n",
       "\t<tr><th scope=col>len</th><th scope=col>supp</th><th scope=col>dose</th></tr>\n",
       "\t<tr><th scope=col>&lt;dbl&gt;</th><th scope=col>&lt;fct&gt;</th><th scope=col>&lt;dbl&gt;</th></tr>\n",
       "</thead>\n",
       "<tbody>\n",
       "\t<tr><td> 4.2</td><td>VC</td><td>0.5</td></tr>\n",
       "\t<tr><td>11.5</td><td>VC</td><td>0.5</td></tr>\n",
       "\t<tr><td> 7.3</td><td>VC</td><td>0.5</td></tr>\n",
       "\t<tr><td> 5.8</td><td>VC</td><td>0.5</td></tr>\n",
       "\t<tr><td> 6.4</td><td>VC</td><td>0.5</td></tr>\n",
       "\t<tr><td>10.0</td><td>VC</td><td>0.5</td></tr>\n",
       "\t<tr><td>11.2</td><td>VC</td><td>0.5</td></tr>\n",
       "\t<tr><td>11.2</td><td>VC</td><td>0.5</td></tr>\n",
       "\t<tr><td> 5.2</td><td>VC</td><td>0.5</td></tr>\n",
       "\t<tr><td> 7.0</td><td>VC</td><td>0.5</td></tr>\n",
       "\t<tr><td>16.5</td><td>VC</td><td>1.0</td></tr>\n",
       "\t<tr><td>16.5</td><td>VC</td><td>1.0</td></tr>\n",
       "\t<tr><td>15.2</td><td>VC</td><td>1.0</td></tr>\n",
       "\t<tr><td>17.3</td><td>VC</td><td>1.0</td></tr>\n",
       "\t<tr><td>22.5</td><td>VC</td><td>1.0</td></tr>\n",
       "\t<tr><td>17.3</td><td>VC</td><td>1.0</td></tr>\n",
       "\t<tr><td>13.6</td><td>VC</td><td>1.0</td></tr>\n",
       "\t<tr><td>14.5</td><td>VC</td><td>1.0</td></tr>\n",
       "\t<tr><td>18.8</td><td>VC</td><td>1.0</td></tr>\n",
       "\t<tr><td>15.5</td><td>VC</td><td>1.0</td></tr>\n",
       "\t<tr><td>23.6</td><td>VC</td><td>2.0</td></tr>\n",
       "\t<tr><td>18.5</td><td>VC</td><td>2.0</td></tr>\n",
       "\t<tr><td>33.9</td><td>VC</td><td>2.0</td></tr>\n",
       "\t<tr><td>25.5</td><td>VC</td><td>2.0</td></tr>\n",
       "\t<tr><td>26.4</td><td>VC</td><td>2.0</td></tr>\n",
       "\t<tr><td>32.5</td><td>VC</td><td>2.0</td></tr>\n",
       "\t<tr><td>26.7</td><td>VC</td><td>2.0</td></tr>\n",
       "\t<tr><td>21.5</td><td>VC</td><td>2.0</td></tr>\n",
       "\t<tr><td>23.3</td><td>VC</td><td>2.0</td></tr>\n",
       "\t<tr><td>29.5</td><td>VC</td><td>2.0</td></tr>\n",
       "\t<tr><td>25.5</td><td>OJ</td><td>2.0</td></tr>\n",
       "\t<tr><td>26.4</td><td>OJ</td><td>2.0</td></tr>\n",
       "\t<tr><td>22.4</td><td>OJ</td><td>2.0</td></tr>\n",
       "\t<tr><td>24.5</td><td>OJ</td><td>2.0</td></tr>\n",
       "\t<tr><td>24.8</td><td>OJ</td><td>2.0</td></tr>\n",
       "\t<tr><td>30.9</td><td>OJ</td><td>2.0</td></tr>\n",
       "\t<tr><td>26.4</td><td>OJ</td><td>2.0</td></tr>\n",
       "\t<tr><td>27.3</td><td>OJ</td><td>2.0</td></tr>\n",
       "\t<tr><td>29.4</td><td>OJ</td><td>2.0</td></tr>\n",
       "\t<tr><td>23.0</td><td>OJ</td><td>2.0</td></tr>\n",
       "</tbody>\n",
       "</table>\n"
      ],
      "text/latex": [
       "A data.frame: 40 × 3\n",
       "\\begin{tabular}{lll}\n",
       " len & supp & dose\\\\\n",
       " <dbl> & <fct> & <dbl>\\\\\n",
       "\\hline\n",
       "\t  4.2 & VC & 0.5\\\\\n",
       "\t 11.5 & VC & 0.5\\\\\n",
       "\t  7.3 & VC & 0.5\\\\\n",
       "\t  5.8 & VC & 0.5\\\\\n",
       "\t  6.4 & VC & 0.5\\\\\n",
       "\t 10.0 & VC & 0.5\\\\\n",
       "\t 11.2 & VC & 0.5\\\\\n",
       "\t 11.2 & VC & 0.5\\\\\n",
       "\t  5.2 & VC & 0.5\\\\\n",
       "\t  7.0 & VC & 0.5\\\\\n",
       "\t 16.5 & VC & 1.0\\\\\n",
       "\t 16.5 & VC & 1.0\\\\\n",
       "\t 15.2 & VC & 1.0\\\\\n",
       "\t 17.3 & VC & 1.0\\\\\n",
       "\t 22.5 & VC & 1.0\\\\\n",
       "\t 17.3 & VC & 1.0\\\\\n",
       "\t 13.6 & VC & 1.0\\\\\n",
       "\t 14.5 & VC & 1.0\\\\\n",
       "\t 18.8 & VC & 1.0\\\\\n",
       "\t 15.5 & VC & 1.0\\\\\n",
       "\t 23.6 & VC & 2.0\\\\\n",
       "\t 18.5 & VC & 2.0\\\\\n",
       "\t 33.9 & VC & 2.0\\\\\n",
       "\t 25.5 & VC & 2.0\\\\\n",
       "\t 26.4 & VC & 2.0\\\\\n",
       "\t 32.5 & VC & 2.0\\\\\n",
       "\t 26.7 & VC & 2.0\\\\\n",
       "\t 21.5 & VC & 2.0\\\\\n",
       "\t 23.3 & VC & 2.0\\\\\n",
       "\t 29.5 & VC & 2.0\\\\\n",
       "\t 25.5 & OJ & 2.0\\\\\n",
       "\t 26.4 & OJ & 2.0\\\\\n",
       "\t 22.4 & OJ & 2.0\\\\\n",
       "\t 24.5 & OJ & 2.0\\\\\n",
       "\t 24.8 & OJ & 2.0\\\\\n",
       "\t 30.9 & OJ & 2.0\\\\\n",
       "\t 26.4 & OJ & 2.0\\\\\n",
       "\t 27.3 & OJ & 2.0\\\\\n",
       "\t 29.4 & OJ & 2.0\\\\\n",
       "\t 23.0 & OJ & 2.0\\\\\n",
       "\\end{tabular}\n"
      ],
      "text/markdown": [
       "\n",
       "A data.frame: 40 × 3\n",
       "\n",
       "| len &lt;dbl&gt; | supp &lt;fct&gt; | dose &lt;dbl&gt; |\n",
       "|---|---|---|\n",
       "|  4.2 | VC | 0.5 |\n",
       "| 11.5 | VC | 0.5 |\n",
       "|  7.3 | VC | 0.5 |\n",
       "|  5.8 | VC | 0.5 |\n",
       "|  6.4 | VC | 0.5 |\n",
       "| 10.0 | VC | 0.5 |\n",
       "| 11.2 | VC | 0.5 |\n",
       "| 11.2 | VC | 0.5 |\n",
       "|  5.2 | VC | 0.5 |\n",
       "|  7.0 | VC | 0.5 |\n",
       "| 16.5 | VC | 1.0 |\n",
       "| 16.5 | VC | 1.0 |\n",
       "| 15.2 | VC | 1.0 |\n",
       "| 17.3 | VC | 1.0 |\n",
       "| 22.5 | VC | 1.0 |\n",
       "| 17.3 | VC | 1.0 |\n",
       "| 13.6 | VC | 1.0 |\n",
       "| 14.5 | VC | 1.0 |\n",
       "| 18.8 | VC | 1.0 |\n",
       "| 15.5 | VC | 1.0 |\n",
       "| 23.6 | VC | 2.0 |\n",
       "| 18.5 | VC | 2.0 |\n",
       "| 33.9 | VC | 2.0 |\n",
       "| 25.5 | VC | 2.0 |\n",
       "| 26.4 | VC | 2.0 |\n",
       "| 32.5 | VC | 2.0 |\n",
       "| 26.7 | VC | 2.0 |\n",
       "| 21.5 | VC | 2.0 |\n",
       "| 23.3 | VC | 2.0 |\n",
       "| 29.5 | VC | 2.0 |\n",
       "| 25.5 | OJ | 2.0 |\n",
       "| 26.4 | OJ | 2.0 |\n",
       "| 22.4 | OJ | 2.0 |\n",
       "| 24.5 | OJ | 2.0 |\n",
       "| 24.8 | OJ | 2.0 |\n",
       "| 30.9 | OJ | 2.0 |\n",
       "| 26.4 | OJ | 2.0 |\n",
       "| 27.3 | OJ | 2.0 |\n",
       "| 29.4 | OJ | 2.0 |\n",
       "| 23.0 | OJ | 2.0 |\n",
       "\n"
      ],
      "text/plain": [
       "   len  supp dose\n",
       "1   4.2 VC   0.5 \n",
       "2  11.5 VC   0.5 \n",
       "3   7.3 VC   0.5 \n",
       "4   5.8 VC   0.5 \n",
       "5   6.4 VC   0.5 \n",
       "6  10.0 VC   0.5 \n",
       "7  11.2 VC   0.5 \n",
       "8  11.2 VC   0.5 \n",
       "9   5.2 VC   0.5 \n",
       "10  7.0 VC   0.5 \n",
       "11 16.5 VC   1.0 \n",
       "12 16.5 VC   1.0 \n",
       "13 15.2 VC   1.0 \n",
       "14 17.3 VC   1.0 \n",
       "15 22.5 VC   1.0 \n",
       "16 17.3 VC   1.0 \n",
       "17 13.6 VC   1.0 \n",
       "18 14.5 VC   1.0 \n",
       "19 18.8 VC   1.0 \n",
       "20 15.5 VC   1.0 \n",
       "21 23.6 VC   2.0 \n",
       "22 18.5 VC   2.0 \n",
       "23 33.9 VC   2.0 \n",
       "24 25.5 VC   2.0 \n",
       "25 26.4 VC   2.0 \n",
       "26 32.5 VC   2.0 \n",
       "27 26.7 VC   2.0 \n",
       "28 21.5 VC   2.0 \n",
       "29 23.3 VC   2.0 \n",
       "30 29.5 VC   2.0 \n",
       "31 25.5 OJ   2.0 \n",
       "32 26.4 OJ   2.0 \n",
       "33 22.4 OJ   2.0 \n",
       "34 24.5 OJ   2.0 \n",
       "35 24.8 OJ   2.0 \n",
       "36 30.9 OJ   2.0 \n",
       "37 26.4 OJ   2.0 \n",
       "38 27.3 OJ   2.0 \n",
       "39 29.4 OJ   2.0 \n",
       "40 23.0 OJ   2.0 "
      ]
     },
     "metadata": {},
     "output_type": "display_data"
    }
   ],
   "source": [
    "ToothGrowth %>% filter(supp=='VC' | dose == 2)"
   ]
  },
  {
   "cell_type": "markdown",
   "metadata": {},
   "source": [
    "\n",
    "(3) パイプ演算子とselect()関数を使って`len`列と`supp`列を抽出し、それぞれ「length」「supp_type」とリネームして表示しなさい\n"
   ]
  },
  {
   "cell_type": "code",
   "execution_count": 120,
   "metadata": {},
   "outputs": [
    {
     "data": {
      "text/html": [
       "<table>\n",
       "<caption>A data.frame: 60 × 2</caption>\n",
       "<thead>\n",
       "\t<tr><th scope=col>length</th><th scope=col>supp_type</th></tr>\n",
       "\t<tr><th scope=col>&lt;dbl&gt;</th><th scope=col>&lt;fct&gt;</th></tr>\n",
       "</thead>\n",
       "<tbody>\n",
       "\t<tr><td> 4.2</td><td>VC</td></tr>\n",
       "\t<tr><td>11.5</td><td>VC</td></tr>\n",
       "\t<tr><td> 7.3</td><td>VC</td></tr>\n",
       "\t<tr><td> 5.8</td><td>VC</td></tr>\n",
       "\t<tr><td> 6.4</td><td>VC</td></tr>\n",
       "\t<tr><td>10.0</td><td>VC</td></tr>\n",
       "\t<tr><td>11.2</td><td>VC</td></tr>\n",
       "\t<tr><td>11.2</td><td>VC</td></tr>\n",
       "\t<tr><td> 5.2</td><td>VC</td></tr>\n",
       "\t<tr><td> 7.0</td><td>VC</td></tr>\n",
       "\t<tr><td>16.5</td><td>VC</td></tr>\n",
       "\t<tr><td>16.5</td><td>VC</td></tr>\n",
       "\t<tr><td>15.2</td><td>VC</td></tr>\n",
       "\t<tr><td>17.3</td><td>VC</td></tr>\n",
       "\t<tr><td>22.5</td><td>VC</td></tr>\n",
       "\t<tr><td>17.3</td><td>VC</td></tr>\n",
       "\t<tr><td>13.6</td><td>VC</td></tr>\n",
       "\t<tr><td>14.5</td><td>VC</td></tr>\n",
       "\t<tr><td>18.8</td><td>VC</td></tr>\n",
       "\t<tr><td>15.5</td><td>VC</td></tr>\n",
       "\t<tr><td>23.6</td><td>VC</td></tr>\n",
       "\t<tr><td>18.5</td><td>VC</td></tr>\n",
       "\t<tr><td>33.9</td><td>VC</td></tr>\n",
       "\t<tr><td>25.5</td><td>VC</td></tr>\n",
       "\t<tr><td>26.4</td><td>VC</td></tr>\n",
       "\t<tr><td>32.5</td><td>VC</td></tr>\n",
       "\t<tr><td>26.7</td><td>VC</td></tr>\n",
       "\t<tr><td>21.5</td><td>VC</td></tr>\n",
       "\t<tr><td>23.3</td><td>VC</td></tr>\n",
       "\t<tr><td>29.5</td><td>VC</td></tr>\n",
       "\t<tr><td>15.2</td><td>OJ</td></tr>\n",
       "\t<tr><td>21.5</td><td>OJ</td></tr>\n",
       "\t<tr><td>17.6</td><td>OJ</td></tr>\n",
       "\t<tr><td> 9.7</td><td>OJ</td></tr>\n",
       "\t<tr><td>14.5</td><td>OJ</td></tr>\n",
       "\t<tr><td>10.0</td><td>OJ</td></tr>\n",
       "\t<tr><td> 8.2</td><td>OJ</td></tr>\n",
       "\t<tr><td> 9.4</td><td>OJ</td></tr>\n",
       "\t<tr><td>16.5</td><td>OJ</td></tr>\n",
       "\t<tr><td> 9.7</td><td>OJ</td></tr>\n",
       "\t<tr><td>19.7</td><td>OJ</td></tr>\n",
       "\t<tr><td>23.3</td><td>OJ</td></tr>\n",
       "\t<tr><td>23.6</td><td>OJ</td></tr>\n",
       "\t<tr><td>26.4</td><td>OJ</td></tr>\n",
       "\t<tr><td>20.0</td><td>OJ</td></tr>\n",
       "\t<tr><td>25.2</td><td>OJ</td></tr>\n",
       "\t<tr><td>25.8</td><td>OJ</td></tr>\n",
       "\t<tr><td>21.2</td><td>OJ</td></tr>\n",
       "\t<tr><td>14.5</td><td>OJ</td></tr>\n",
       "\t<tr><td>27.3</td><td>OJ</td></tr>\n",
       "\t<tr><td>25.5</td><td>OJ</td></tr>\n",
       "\t<tr><td>26.4</td><td>OJ</td></tr>\n",
       "\t<tr><td>22.4</td><td>OJ</td></tr>\n",
       "\t<tr><td>24.5</td><td>OJ</td></tr>\n",
       "\t<tr><td>24.8</td><td>OJ</td></tr>\n",
       "\t<tr><td>30.9</td><td>OJ</td></tr>\n",
       "\t<tr><td>26.4</td><td>OJ</td></tr>\n",
       "\t<tr><td>27.3</td><td>OJ</td></tr>\n",
       "\t<tr><td>29.4</td><td>OJ</td></tr>\n",
       "\t<tr><td>23.0</td><td>OJ</td></tr>\n",
       "</tbody>\n",
       "</table>\n"
      ],
      "text/latex": [
       "A data.frame: 60 × 2\n",
       "\\begin{tabular}{ll}\n",
       " length & supp\\_type\\\\\n",
       " <dbl> & <fct>\\\\\n",
       "\\hline\n",
       "\t  4.2 & VC\\\\\n",
       "\t 11.5 & VC\\\\\n",
       "\t  7.3 & VC\\\\\n",
       "\t  5.8 & VC\\\\\n",
       "\t  6.4 & VC\\\\\n",
       "\t 10.0 & VC\\\\\n",
       "\t 11.2 & VC\\\\\n",
       "\t 11.2 & VC\\\\\n",
       "\t  5.2 & VC\\\\\n",
       "\t  7.0 & VC\\\\\n",
       "\t 16.5 & VC\\\\\n",
       "\t 16.5 & VC\\\\\n",
       "\t 15.2 & VC\\\\\n",
       "\t 17.3 & VC\\\\\n",
       "\t 22.5 & VC\\\\\n",
       "\t 17.3 & VC\\\\\n",
       "\t 13.6 & VC\\\\\n",
       "\t 14.5 & VC\\\\\n",
       "\t 18.8 & VC\\\\\n",
       "\t 15.5 & VC\\\\\n",
       "\t 23.6 & VC\\\\\n",
       "\t 18.5 & VC\\\\\n",
       "\t 33.9 & VC\\\\\n",
       "\t 25.5 & VC\\\\\n",
       "\t 26.4 & VC\\\\\n",
       "\t 32.5 & VC\\\\\n",
       "\t 26.7 & VC\\\\\n",
       "\t 21.5 & VC\\\\\n",
       "\t 23.3 & VC\\\\\n",
       "\t 29.5 & VC\\\\\n",
       "\t 15.2 & OJ\\\\\n",
       "\t 21.5 & OJ\\\\\n",
       "\t 17.6 & OJ\\\\\n",
       "\t  9.7 & OJ\\\\\n",
       "\t 14.5 & OJ\\\\\n",
       "\t 10.0 & OJ\\\\\n",
       "\t  8.2 & OJ\\\\\n",
       "\t  9.4 & OJ\\\\\n",
       "\t 16.5 & OJ\\\\\n",
       "\t  9.7 & OJ\\\\\n",
       "\t 19.7 & OJ\\\\\n",
       "\t 23.3 & OJ\\\\\n",
       "\t 23.6 & OJ\\\\\n",
       "\t 26.4 & OJ\\\\\n",
       "\t 20.0 & OJ\\\\\n",
       "\t 25.2 & OJ\\\\\n",
       "\t 25.8 & OJ\\\\\n",
       "\t 21.2 & OJ\\\\\n",
       "\t 14.5 & OJ\\\\\n",
       "\t 27.3 & OJ\\\\\n",
       "\t 25.5 & OJ\\\\\n",
       "\t 26.4 & OJ\\\\\n",
       "\t 22.4 & OJ\\\\\n",
       "\t 24.5 & OJ\\\\\n",
       "\t 24.8 & OJ\\\\\n",
       "\t 30.9 & OJ\\\\\n",
       "\t 26.4 & OJ\\\\\n",
       "\t 27.3 & OJ\\\\\n",
       "\t 29.4 & OJ\\\\\n",
       "\t 23.0 & OJ\\\\\n",
       "\\end{tabular}\n"
      ],
      "text/markdown": [
       "\n",
       "A data.frame: 60 × 2\n",
       "\n",
       "| length &lt;dbl&gt; | supp_type &lt;fct&gt; |\n",
       "|---|---|\n",
       "|  4.2 | VC |\n",
       "| 11.5 | VC |\n",
       "|  7.3 | VC |\n",
       "|  5.8 | VC |\n",
       "|  6.4 | VC |\n",
       "| 10.0 | VC |\n",
       "| 11.2 | VC |\n",
       "| 11.2 | VC |\n",
       "|  5.2 | VC |\n",
       "|  7.0 | VC |\n",
       "| 16.5 | VC |\n",
       "| 16.5 | VC |\n",
       "| 15.2 | VC |\n",
       "| 17.3 | VC |\n",
       "| 22.5 | VC |\n",
       "| 17.3 | VC |\n",
       "| 13.6 | VC |\n",
       "| 14.5 | VC |\n",
       "| 18.8 | VC |\n",
       "| 15.5 | VC |\n",
       "| 23.6 | VC |\n",
       "| 18.5 | VC |\n",
       "| 33.9 | VC |\n",
       "| 25.5 | VC |\n",
       "| 26.4 | VC |\n",
       "| 32.5 | VC |\n",
       "| 26.7 | VC |\n",
       "| 21.5 | VC |\n",
       "| 23.3 | VC |\n",
       "| 29.5 | VC |\n",
       "| 15.2 | OJ |\n",
       "| 21.5 | OJ |\n",
       "| 17.6 | OJ |\n",
       "|  9.7 | OJ |\n",
       "| 14.5 | OJ |\n",
       "| 10.0 | OJ |\n",
       "|  8.2 | OJ |\n",
       "|  9.4 | OJ |\n",
       "| 16.5 | OJ |\n",
       "|  9.7 | OJ |\n",
       "| 19.7 | OJ |\n",
       "| 23.3 | OJ |\n",
       "| 23.6 | OJ |\n",
       "| 26.4 | OJ |\n",
       "| 20.0 | OJ |\n",
       "| 25.2 | OJ |\n",
       "| 25.8 | OJ |\n",
       "| 21.2 | OJ |\n",
       "| 14.5 | OJ |\n",
       "| 27.3 | OJ |\n",
       "| 25.5 | OJ |\n",
       "| 26.4 | OJ |\n",
       "| 22.4 | OJ |\n",
       "| 24.5 | OJ |\n",
       "| 24.8 | OJ |\n",
       "| 30.9 | OJ |\n",
       "| 26.4 | OJ |\n",
       "| 27.3 | OJ |\n",
       "| 29.4 | OJ |\n",
       "| 23.0 | OJ |\n",
       "\n"
      ],
      "text/plain": [
       "   length supp_type\n",
       "1   4.2   VC       \n",
       "2  11.5   VC       \n",
       "3   7.3   VC       \n",
       "4   5.8   VC       \n",
       "5   6.4   VC       \n",
       "6  10.0   VC       \n",
       "7  11.2   VC       \n",
       "8  11.2   VC       \n",
       "9   5.2   VC       \n",
       "10  7.0   VC       \n",
       "11 16.5   VC       \n",
       "12 16.5   VC       \n",
       "13 15.2   VC       \n",
       "14 17.3   VC       \n",
       "15 22.5   VC       \n",
       "16 17.3   VC       \n",
       "17 13.6   VC       \n",
       "18 14.5   VC       \n",
       "19 18.8   VC       \n",
       "20 15.5   VC       \n",
       "21 23.6   VC       \n",
       "22 18.5   VC       \n",
       "23 33.9   VC       \n",
       "24 25.5   VC       \n",
       "25 26.4   VC       \n",
       "26 32.5   VC       \n",
       "27 26.7   VC       \n",
       "28 21.5   VC       \n",
       "29 23.3   VC       \n",
       "30 29.5   VC       \n",
       "31 15.2   OJ       \n",
       "32 21.5   OJ       \n",
       "33 17.6   OJ       \n",
       "34  9.7   OJ       \n",
       "35 14.5   OJ       \n",
       "36 10.0   OJ       \n",
       "37  8.2   OJ       \n",
       "38  9.4   OJ       \n",
       "39 16.5   OJ       \n",
       "40  9.7   OJ       \n",
       "41 19.7   OJ       \n",
       "42 23.3   OJ       \n",
       "43 23.6   OJ       \n",
       "44 26.4   OJ       \n",
       "45 20.0   OJ       \n",
       "46 25.2   OJ       \n",
       "47 25.8   OJ       \n",
       "48 21.2   OJ       \n",
       "49 14.5   OJ       \n",
       "50 27.3   OJ       \n",
       "51 25.5   OJ       \n",
       "52 26.4   OJ       \n",
       "53 22.4   OJ       \n",
       "54 24.5   OJ       \n",
       "55 24.8   OJ       \n",
       "56 30.9   OJ       \n",
       "57 26.4   OJ       \n",
       "58 27.3   OJ       \n",
       "59 29.4   OJ       \n",
       "60 23.0   OJ       "
      ]
     },
     "metadata": {},
     "output_type": "display_data"
    }
   ],
   "source": [
    "ToothGrowth %>% select(length=len, supp_type=supp)"
   ]
  },
  {
   "cell_type": "markdown",
   "metadata": {},
   "source": [
    "(4) パイプ演算子とarrange()関数を使って、`len`列で昇順にソートした結果を表示しなさい"
   ]
  },
  {
   "cell_type": "code",
   "execution_count": 121,
   "metadata": {},
   "outputs": [
    {
     "data": {
      "text/html": [
       "<table>\n",
       "<caption>A data.frame: 60 × 3</caption>\n",
       "<thead>\n",
       "\t<tr><th scope=col>len</th><th scope=col>supp</th><th scope=col>dose</th></tr>\n",
       "\t<tr><th scope=col>&lt;dbl&gt;</th><th scope=col>&lt;fct&gt;</th><th scope=col>&lt;dbl&gt;</th></tr>\n",
       "</thead>\n",
       "<tbody>\n",
       "\t<tr><td> 4.2</td><td>VC</td><td>0.5</td></tr>\n",
       "\t<tr><td> 5.2</td><td>VC</td><td>0.5</td></tr>\n",
       "\t<tr><td> 5.8</td><td>VC</td><td>0.5</td></tr>\n",
       "\t<tr><td> 6.4</td><td>VC</td><td>0.5</td></tr>\n",
       "\t<tr><td> 7.0</td><td>VC</td><td>0.5</td></tr>\n",
       "\t<tr><td> 7.3</td><td>VC</td><td>0.5</td></tr>\n",
       "\t<tr><td> 8.2</td><td>OJ</td><td>0.5</td></tr>\n",
       "\t<tr><td> 9.4</td><td>OJ</td><td>0.5</td></tr>\n",
       "\t<tr><td> 9.7</td><td>OJ</td><td>0.5</td></tr>\n",
       "\t<tr><td> 9.7</td><td>OJ</td><td>0.5</td></tr>\n",
       "\t<tr><td>10.0</td><td>VC</td><td>0.5</td></tr>\n",
       "\t<tr><td>10.0</td><td>OJ</td><td>0.5</td></tr>\n",
       "\t<tr><td>11.2</td><td>VC</td><td>0.5</td></tr>\n",
       "\t<tr><td>11.2</td><td>VC</td><td>0.5</td></tr>\n",
       "\t<tr><td>11.5</td><td>VC</td><td>0.5</td></tr>\n",
       "\t<tr><td>13.6</td><td>VC</td><td>1.0</td></tr>\n",
       "\t<tr><td>14.5</td><td>VC</td><td>1.0</td></tr>\n",
       "\t<tr><td>14.5</td><td>OJ</td><td>0.5</td></tr>\n",
       "\t<tr><td>14.5</td><td>OJ</td><td>1.0</td></tr>\n",
       "\t<tr><td>15.2</td><td>VC</td><td>1.0</td></tr>\n",
       "\t<tr><td>15.2</td><td>OJ</td><td>0.5</td></tr>\n",
       "\t<tr><td>15.5</td><td>VC</td><td>1.0</td></tr>\n",
       "\t<tr><td>16.5</td><td>VC</td><td>1.0</td></tr>\n",
       "\t<tr><td>16.5</td><td>VC</td><td>1.0</td></tr>\n",
       "\t<tr><td>16.5</td><td>OJ</td><td>0.5</td></tr>\n",
       "\t<tr><td>17.3</td><td>VC</td><td>1.0</td></tr>\n",
       "\t<tr><td>17.3</td><td>VC</td><td>1.0</td></tr>\n",
       "\t<tr><td>17.6</td><td>OJ</td><td>0.5</td></tr>\n",
       "\t<tr><td>18.5</td><td>VC</td><td>2.0</td></tr>\n",
       "\t<tr><td>18.8</td><td>VC</td><td>1.0</td></tr>\n",
       "\t<tr><td>19.7</td><td>OJ</td><td>1.0</td></tr>\n",
       "\t<tr><td>20.0</td><td>OJ</td><td>1.0</td></tr>\n",
       "\t<tr><td>21.2</td><td>OJ</td><td>1.0</td></tr>\n",
       "\t<tr><td>21.5</td><td>VC</td><td>2.0</td></tr>\n",
       "\t<tr><td>21.5</td><td>OJ</td><td>0.5</td></tr>\n",
       "\t<tr><td>22.4</td><td>OJ</td><td>2.0</td></tr>\n",
       "\t<tr><td>22.5</td><td>VC</td><td>1.0</td></tr>\n",
       "\t<tr><td>23.0</td><td>OJ</td><td>2.0</td></tr>\n",
       "\t<tr><td>23.3</td><td>VC</td><td>2.0</td></tr>\n",
       "\t<tr><td>23.3</td><td>OJ</td><td>1.0</td></tr>\n",
       "\t<tr><td>23.6</td><td>VC</td><td>2.0</td></tr>\n",
       "\t<tr><td>23.6</td><td>OJ</td><td>1.0</td></tr>\n",
       "\t<tr><td>24.5</td><td>OJ</td><td>2.0</td></tr>\n",
       "\t<tr><td>24.8</td><td>OJ</td><td>2.0</td></tr>\n",
       "\t<tr><td>25.2</td><td>OJ</td><td>1.0</td></tr>\n",
       "\t<tr><td>25.5</td><td>VC</td><td>2.0</td></tr>\n",
       "\t<tr><td>25.5</td><td>OJ</td><td>2.0</td></tr>\n",
       "\t<tr><td>25.8</td><td>OJ</td><td>1.0</td></tr>\n",
       "\t<tr><td>26.4</td><td>VC</td><td>2.0</td></tr>\n",
       "\t<tr><td>26.4</td><td>OJ</td><td>1.0</td></tr>\n",
       "\t<tr><td>26.4</td><td>OJ</td><td>2.0</td></tr>\n",
       "\t<tr><td>26.4</td><td>OJ</td><td>2.0</td></tr>\n",
       "\t<tr><td>26.7</td><td>VC</td><td>2.0</td></tr>\n",
       "\t<tr><td>27.3</td><td>OJ</td><td>1.0</td></tr>\n",
       "\t<tr><td>27.3</td><td>OJ</td><td>2.0</td></tr>\n",
       "\t<tr><td>29.4</td><td>OJ</td><td>2.0</td></tr>\n",
       "\t<tr><td>29.5</td><td>VC</td><td>2.0</td></tr>\n",
       "\t<tr><td>30.9</td><td>OJ</td><td>2.0</td></tr>\n",
       "\t<tr><td>32.5</td><td>VC</td><td>2.0</td></tr>\n",
       "\t<tr><td>33.9</td><td>VC</td><td>2.0</td></tr>\n",
       "</tbody>\n",
       "</table>\n"
      ],
      "text/latex": [
       "A data.frame: 60 × 3\n",
       "\\begin{tabular}{lll}\n",
       " len & supp & dose\\\\\n",
       " <dbl> & <fct> & <dbl>\\\\\n",
       "\\hline\n",
       "\t  4.2 & VC & 0.5\\\\\n",
       "\t  5.2 & VC & 0.5\\\\\n",
       "\t  5.8 & VC & 0.5\\\\\n",
       "\t  6.4 & VC & 0.5\\\\\n",
       "\t  7.0 & VC & 0.5\\\\\n",
       "\t  7.3 & VC & 0.5\\\\\n",
       "\t  8.2 & OJ & 0.5\\\\\n",
       "\t  9.4 & OJ & 0.5\\\\\n",
       "\t  9.7 & OJ & 0.5\\\\\n",
       "\t  9.7 & OJ & 0.5\\\\\n",
       "\t 10.0 & VC & 0.5\\\\\n",
       "\t 10.0 & OJ & 0.5\\\\\n",
       "\t 11.2 & VC & 0.5\\\\\n",
       "\t 11.2 & VC & 0.5\\\\\n",
       "\t 11.5 & VC & 0.5\\\\\n",
       "\t 13.6 & VC & 1.0\\\\\n",
       "\t 14.5 & VC & 1.0\\\\\n",
       "\t 14.5 & OJ & 0.5\\\\\n",
       "\t 14.5 & OJ & 1.0\\\\\n",
       "\t 15.2 & VC & 1.0\\\\\n",
       "\t 15.2 & OJ & 0.5\\\\\n",
       "\t 15.5 & VC & 1.0\\\\\n",
       "\t 16.5 & VC & 1.0\\\\\n",
       "\t 16.5 & VC & 1.0\\\\\n",
       "\t 16.5 & OJ & 0.5\\\\\n",
       "\t 17.3 & VC & 1.0\\\\\n",
       "\t 17.3 & VC & 1.0\\\\\n",
       "\t 17.6 & OJ & 0.5\\\\\n",
       "\t 18.5 & VC & 2.0\\\\\n",
       "\t 18.8 & VC & 1.0\\\\\n",
       "\t 19.7 & OJ & 1.0\\\\\n",
       "\t 20.0 & OJ & 1.0\\\\\n",
       "\t 21.2 & OJ & 1.0\\\\\n",
       "\t 21.5 & VC & 2.0\\\\\n",
       "\t 21.5 & OJ & 0.5\\\\\n",
       "\t 22.4 & OJ & 2.0\\\\\n",
       "\t 22.5 & VC & 1.0\\\\\n",
       "\t 23.0 & OJ & 2.0\\\\\n",
       "\t 23.3 & VC & 2.0\\\\\n",
       "\t 23.3 & OJ & 1.0\\\\\n",
       "\t 23.6 & VC & 2.0\\\\\n",
       "\t 23.6 & OJ & 1.0\\\\\n",
       "\t 24.5 & OJ & 2.0\\\\\n",
       "\t 24.8 & OJ & 2.0\\\\\n",
       "\t 25.2 & OJ & 1.0\\\\\n",
       "\t 25.5 & VC & 2.0\\\\\n",
       "\t 25.5 & OJ & 2.0\\\\\n",
       "\t 25.8 & OJ & 1.0\\\\\n",
       "\t 26.4 & VC & 2.0\\\\\n",
       "\t 26.4 & OJ & 1.0\\\\\n",
       "\t 26.4 & OJ & 2.0\\\\\n",
       "\t 26.4 & OJ & 2.0\\\\\n",
       "\t 26.7 & VC & 2.0\\\\\n",
       "\t 27.3 & OJ & 1.0\\\\\n",
       "\t 27.3 & OJ & 2.0\\\\\n",
       "\t 29.4 & OJ & 2.0\\\\\n",
       "\t 29.5 & VC & 2.0\\\\\n",
       "\t 30.9 & OJ & 2.0\\\\\n",
       "\t 32.5 & VC & 2.0\\\\\n",
       "\t 33.9 & VC & 2.0\\\\\n",
       "\\end{tabular}\n"
      ],
      "text/markdown": [
       "\n",
       "A data.frame: 60 × 3\n",
       "\n",
       "| len &lt;dbl&gt; | supp &lt;fct&gt; | dose &lt;dbl&gt; |\n",
       "|---|---|---|\n",
       "|  4.2 | VC | 0.5 |\n",
       "|  5.2 | VC | 0.5 |\n",
       "|  5.8 | VC | 0.5 |\n",
       "|  6.4 | VC | 0.5 |\n",
       "|  7.0 | VC | 0.5 |\n",
       "|  7.3 | VC | 0.5 |\n",
       "|  8.2 | OJ | 0.5 |\n",
       "|  9.4 | OJ | 0.5 |\n",
       "|  9.7 | OJ | 0.5 |\n",
       "|  9.7 | OJ | 0.5 |\n",
       "| 10.0 | VC | 0.5 |\n",
       "| 10.0 | OJ | 0.5 |\n",
       "| 11.2 | VC | 0.5 |\n",
       "| 11.2 | VC | 0.5 |\n",
       "| 11.5 | VC | 0.5 |\n",
       "| 13.6 | VC | 1.0 |\n",
       "| 14.5 | VC | 1.0 |\n",
       "| 14.5 | OJ | 0.5 |\n",
       "| 14.5 | OJ | 1.0 |\n",
       "| 15.2 | VC | 1.0 |\n",
       "| 15.2 | OJ | 0.5 |\n",
       "| 15.5 | VC | 1.0 |\n",
       "| 16.5 | VC | 1.0 |\n",
       "| 16.5 | VC | 1.0 |\n",
       "| 16.5 | OJ | 0.5 |\n",
       "| 17.3 | VC | 1.0 |\n",
       "| 17.3 | VC | 1.0 |\n",
       "| 17.6 | OJ | 0.5 |\n",
       "| 18.5 | VC | 2.0 |\n",
       "| 18.8 | VC | 1.0 |\n",
       "| 19.7 | OJ | 1.0 |\n",
       "| 20.0 | OJ | 1.0 |\n",
       "| 21.2 | OJ | 1.0 |\n",
       "| 21.5 | VC | 2.0 |\n",
       "| 21.5 | OJ | 0.5 |\n",
       "| 22.4 | OJ | 2.0 |\n",
       "| 22.5 | VC | 1.0 |\n",
       "| 23.0 | OJ | 2.0 |\n",
       "| 23.3 | VC | 2.0 |\n",
       "| 23.3 | OJ | 1.0 |\n",
       "| 23.6 | VC | 2.0 |\n",
       "| 23.6 | OJ | 1.0 |\n",
       "| 24.5 | OJ | 2.0 |\n",
       "| 24.8 | OJ | 2.0 |\n",
       "| 25.2 | OJ | 1.0 |\n",
       "| 25.5 | VC | 2.0 |\n",
       "| 25.5 | OJ | 2.0 |\n",
       "| 25.8 | OJ | 1.0 |\n",
       "| 26.4 | VC | 2.0 |\n",
       "| 26.4 | OJ | 1.0 |\n",
       "| 26.4 | OJ | 2.0 |\n",
       "| 26.4 | OJ | 2.0 |\n",
       "| 26.7 | VC | 2.0 |\n",
       "| 27.3 | OJ | 1.0 |\n",
       "| 27.3 | OJ | 2.0 |\n",
       "| 29.4 | OJ | 2.0 |\n",
       "| 29.5 | VC | 2.0 |\n",
       "| 30.9 | OJ | 2.0 |\n",
       "| 32.5 | VC | 2.0 |\n",
       "| 33.9 | VC | 2.0 |\n",
       "\n"
      ],
      "text/plain": [
       "   len  supp dose\n",
       "1   4.2 VC   0.5 \n",
       "2   5.2 VC   0.5 \n",
       "3   5.8 VC   0.5 \n",
       "4   6.4 VC   0.5 \n",
       "5   7.0 VC   0.5 \n",
       "6   7.3 VC   0.5 \n",
       "7   8.2 OJ   0.5 \n",
       "8   9.4 OJ   0.5 \n",
       "9   9.7 OJ   0.5 \n",
       "10  9.7 OJ   0.5 \n",
       "11 10.0 VC   0.5 \n",
       "12 10.0 OJ   0.5 \n",
       "13 11.2 VC   0.5 \n",
       "14 11.2 VC   0.5 \n",
       "15 11.5 VC   0.5 \n",
       "16 13.6 VC   1.0 \n",
       "17 14.5 VC   1.0 \n",
       "18 14.5 OJ   0.5 \n",
       "19 14.5 OJ   1.0 \n",
       "20 15.2 VC   1.0 \n",
       "21 15.2 OJ   0.5 \n",
       "22 15.5 VC   1.0 \n",
       "23 16.5 VC   1.0 \n",
       "24 16.5 VC   1.0 \n",
       "25 16.5 OJ   0.5 \n",
       "26 17.3 VC   1.0 \n",
       "27 17.3 VC   1.0 \n",
       "28 17.6 OJ   0.5 \n",
       "29 18.5 VC   2.0 \n",
       "30 18.8 VC   1.0 \n",
       "31 19.7 OJ   1.0 \n",
       "32 20.0 OJ   1.0 \n",
       "33 21.2 OJ   1.0 \n",
       "34 21.5 VC   2.0 \n",
       "35 21.5 OJ   0.5 \n",
       "36 22.4 OJ   2.0 \n",
       "37 22.5 VC   1.0 \n",
       "38 23.0 OJ   2.0 \n",
       "39 23.3 VC   2.0 \n",
       "40 23.3 OJ   1.0 \n",
       "41 23.6 VC   2.0 \n",
       "42 23.6 OJ   1.0 \n",
       "43 24.5 OJ   2.0 \n",
       "44 24.8 OJ   2.0 \n",
       "45 25.2 OJ   1.0 \n",
       "46 25.5 VC   2.0 \n",
       "47 25.5 OJ   2.0 \n",
       "48 25.8 OJ   1.0 \n",
       "49 26.4 VC   2.0 \n",
       "50 26.4 OJ   1.0 \n",
       "51 26.4 OJ   2.0 \n",
       "52 26.4 OJ   2.0 \n",
       "53 26.7 VC   2.0 \n",
       "54 27.3 OJ   1.0 \n",
       "55 27.3 OJ   2.0 \n",
       "56 29.4 OJ   2.0 \n",
       "57 29.5 VC   2.0 \n",
       "58 30.9 OJ   2.0 \n",
       "59 32.5 VC   2.0 \n",
       "60 33.9 VC   2.0 "
      ]
     },
     "metadata": {},
     "output_type": "display_data"
    }
   ],
   "source": [
    "ToothGrowth %>% arrange(len)"
   ]
  },
  {
   "cell_type": "markdown",
   "metadata": {},
   "source": [
    "(5) パイプ演算子とsummarize()関数を使って以下の操作をしなさい\n",
    "\n",
    "(5-1) `len`の最大値・最小値・中央値・平均をそれぞれ求める"
   ]
  },
  {
   "cell_type": "code",
   "execution_count": 122,
   "metadata": {},
   "outputs": [
    {
     "data": {
      "text/html": [
       "<table>\n",
       "<caption>A data.frame: 1 × 4</caption>\n",
       "<thead>\n",
       "\t<tr><th scope=col>MAX</th><th scope=col>MIN</th><th scope=col>MED</th><th scope=col>MEAN</th></tr>\n",
       "\t<tr><th scope=col>&lt;dbl&gt;</th><th scope=col>&lt;dbl&gt;</th><th scope=col>&lt;dbl&gt;</th><th scope=col>&lt;dbl&gt;</th></tr>\n",
       "</thead>\n",
       "<tbody>\n",
       "\t<tr><td>33.9</td><td>4.2</td><td>19.25</td><td>18.81333</td></tr>\n",
       "</tbody>\n",
       "</table>\n"
      ],
      "text/latex": [
       "A data.frame: 1 × 4\n",
       "\\begin{tabular}{llll}\n",
       " MAX & MIN & MED & MEAN\\\\\n",
       " <dbl> & <dbl> & <dbl> & <dbl>\\\\\n",
       "\\hline\n",
       "\t 33.9 & 4.2 & 19.25 & 18.81333\\\\\n",
       "\\end{tabular}\n"
      ],
      "text/markdown": [
       "\n",
       "A data.frame: 1 × 4\n",
       "\n",
       "| MAX &lt;dbl&gt; | MIN &lt;dbl&gt; | MED &lt;dbl&gt; | MEAN &lt;dbl&gt; |\n",
       "|---|---|---|---|\n",
       "| 33.9 | 4.2 | 19.25 | 18.81333 |\n",
       "\n"
      ],
      "text/plain": [
       "  MAX  MIN MED   MEAN    \n",
       "1 33.9 4.2 19.25 18.81333"
      ]
     },
     "metadata": {},
     "output_type": "display_data"
    }
   ],
   "source": [
    "ToothGrowth %>% summarise(MAX=max(len), MIN=min(len), MED=median(len), MEAN=mean(len))"
   ]
  },
  {
   "cell_type": "markdown",
   "metadata": {},
   "source": [
    "(5-2) group_by()を`supp`列に適用し、群ごとの最大値・最小値・中央値・平均をそれぞれ求める"
   ]
  },
  {
   "cell_type": "code",
   "execution_count": 123,
   "metadata": {},
   "outputs": [
    {
     "name": "stderr",
     "output_type": "stream",
     "text": [
      "`summarise()` ungrouping output (override with `.groups` argument)\n",
      "\n"
     ]
    },
    {
     "data": {
      "text/html": [
       "<table>\n",
       "<caption>A tibble: 2 × 5</caption>\n",
       "<thead>\n",
       "\t<tr><th scope=col>supp</th><th scope=col>MAX</th><th scope=col>MIN</th><th scope=col>MED</th><th scope=col>MEAN</th></tr>\n",
       "\t<tr><th scope=col>&lt;fct&gt;</th><th scope=col>&lt;dbl&gt;</th><th scope=col>&lt;dbl&gt;</th><th scope=col>&lt;dbl&gt;</th><th scope=col>&lt;dbl&gt;</th></tr>\n",
       "</thead>\n",
       "<tbody>\n",
       "\t<tr><td>OJ</td><td>30.9</td><td>8.2</td><td>22.7</td><td>20.66333</td></tr>\n",
       "\t<tr><td>VC</td><td>33.9</td><td>4.2</td><td>16.5</td><td>16.96333</td></tr>\n",
       "</tbody>\n",
       "</table>\n"
      ],
      "text/latex": [
       "A tibble: 2 × 5\n",
       "\\begin{tabular}{lllll}\n",
       " supp & MAX & MIN & MED & MEAN\\\\\n",
       " <fct> & <dbl> & <dbl> & <dbl> & <dbl>\\\\\n",
       "\\hline\n",
       "\t OJ & 30.9 & 8.2 & 22.7 & 20.66333\\\\\n",
       "\t VC & 33.9 & 4.2 & 16.5 & 16.96333\\\\\n",
       "\\end{tabular}\n"
      ],
      "text/markdown": [
       "\n",
       "A tibble: 2 × 5\n",
       "\n",
       "| supp &lt;fct&gt; | MAX &lt;dbl&gt; | MIN &lt;dbl&gt; | MED &lt;dbl&gt; | MEAN &lt;dbl&gt; |\n",
       "|---|---|---|---|---|\n",
       "| OJ | 30.9 | 8.2 | 22.7 | 20.66333 |\n",
       "| VC | 33.9 | 4.2 | 16.5 | 16.96333 |\n",
       "\n"
      ],
      "text/plain": [
       "  supp MAX  MIN MED  MEAN    \n",
       "1 OJ   30.9 8.2 22.7 20.66333\n",
       "2 VC   33.9 4.2 16.5 16.96333"
      ]
     },
     "metadata": {},
     "output_type": "display_data"
    }
   ],
   "source": [
    "ToothGrowth %>% group_by(supp) %>% summarise(MAX=max(len), MIN=min(len), MED=median(len), MEAN=mean(len))"
   ]
  }
 ],
 "metadata": {
  "kernelspec": {
   "display_name": "R",
   "language": "R",
   "name": "ir"
  },
  "language_info": {
   "codemirror_mode": "r",
   "file_extension": ".r",
   "mimetype": "text/x-r-source",
   "name": "R",
   "pygments_lexer": "r",
   "version": "4.0.2"
  }
 },
 "nbformat": 4,
 "nbformat_minor": 2
}
